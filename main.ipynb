{
 "cells": [
  {
   "cell_type": "code",
   "execution_count": 1,
   "id": "3494842c",
   "metadata": {},
   "outputs": [
    {
     "name": "stdout",
     "output_type": "stream",
     "text": [
      "\n",
      "Note: you may need to restart the kernel to use updated packages.\n"
     ]
    },
    {
     "name": "stderr",
     "output_type": "stream",
     "text": [
      "Traceback (most recent call last):\n",
      "  File \"C:\\Users\\sahil\\anaconda3\\Scripts\\conda-script.py\", line 11, in <module>\n",
      "    from conda.cli import main\n",
      "ModuleNotFoundError: No module named 'conda'\n"
     ]
    }
   ],
   "source": [
    "conda list"
   ]
  },
  {
   "cell_type": "code",
   "execution_count": 3,
   "id": "17caa00a",
   "metadata": {},
   "outputs": [],
   "source": [
    "from transformers import PegasusTokenizer , PegasusForConditionalGeneration\n",
    "from bs4 import BeautifulSoup\n",
    "import requests"
   ]
  },
  {
   "cell_type": "code",
   "execution_count": 4,
   "id": "15319bbd",
   "metadata": {},
   "outputs": [
    {
     "data": {
      "application/vnd.jupyter.widget-view+json": {
       "model_id": "de12f970668742f1a2d7b2e7e94e5dca",
       "version_major": 2,
       "version_minor": 0
      },
      "text/plain": [
       "Downloading:   0%|          | 0.00/1.91M [00:00<?, ?B/s]"
      ]
     },
     "metadata": {},
     "output_type": "display_data"
    },
    {
     "data": {
      "application/vnd.jupyter.widget-view+json": {
       "model_id": "a7d70d9f7fd8441b8b8b9c137829c449",
       "version_major": 2,
       "version_minor": 0
      },
      "text/plain": [
       "Downloading:   0%|          | 0.00/1.34k [00:00<?, ?B/s]"
      ]
     },
     "metadata": {},
     "output_type": "display_data"
    },
    {
     "data": {
      "application/vnd.jupyter.widget-view+json": {
       "model_id": "81593201e8b74c908270f560472259a7",
       "version_major": 2,
       "version_minor": 0
      },
      "text/plain": [
       "Downloading:   0%|          | 0.00/1.44k [00:00<?, ?B/s]"
      ]
     },
     "metadata": {},
     "output_type": "display_data"
    }
   ],
   "source": [
    "# 2. Setup Model\n",
    "model_name = \"human-centered-summarization/financial-summarization-pegasus\"\n",
    "tokenizer = PegasusTokenizer.from_pretrained(model_name)\n",
    "model = PegasusForConditionalGeneration.from_pretrained(model_name)\n"
   ]
  },
  {
   "cell_type": "code",
   "execution_count": 5,
   "id": "a277109e",
   "metadata": {},
   "outputs": [
    {
     "data": {
      "text/plain": [
       "transformers.models.pegasus.tokenization_pegasus.PegasusTokenizer"
      ]
     },
     "execution_count": 5,
     "metadata": {},
     "output_type": "execute_result"
    }
   ],
   "source": [
    "type(tokenizer)"
   ]
  },
  {
   "cell_type": "code",
   "execution_count": 6,
   "id": "1eff981e",
   "metadata": {},
   "outputs": [],
   "source": [
    "##scraping data from url using bs4\n",
    "\n",
    "url = \"https://au.finance.yahoo.com/news/china-restricting-tesla-use-uncovers-a-significant-challenge-for-elon-musk-expert-161921664.html\"\n",
    "r = requests.get(url)\n",
    "soup = BeautifulSoup(r.text, 'html.parser')\n",
    "paragraphs = soup.find_all('p')"
   ]
  },
  {
   "cell_type": "code",
   "execution_count": 7,
   "id": "f0b2abbd",
   "metadata": {},
   "outputs": [
    {
     "data": {
      "text/plain": [
       "[<p class=\"Fz(14px) LineClamp(1,1.3em) M(0)\">Reporting live from Parliament House, sign up to get our Budget Breakdown.</p>,\n",
       " <p>Renewed political tensions between the U.S. and China — which came to light this week as the Biden administration sat down with their Chinese counterparts for the first time to discuss a range of issues — could ensnarl vehicle maker Tesla (<a class=\"link rapid-noclick-resp\" data-ylk=\"slk:TSLA\" href=\"https://finance.yahoo.com/quote/TSLA?p=TSLA&amp;.tsrc=fin-srch\">TSLA</a>), which has pushed successfully into China in recent years.</p>,\n",
       " <p>In fact, the heightened rhetoric between the two super economic superpowers may have already had blowback on Elon Musk's electric car company.</p>,\n",
       " <p>The Chinese government is restricting the use of Tesla vehicles by military staff and employees of vital state-owned companies, <a class=\"link rapid-noclick-resp\" data-ylk=\"slk:The Wall Street Journal reported Friday\" href=\"https://www.wsj.com/articles/china-to-restrict-tesla-usage-by-military-and-state-personnel-11616155643\" rel=\"nofollow noopener\" target=\"_blank\">The Wall Street Journal reported Friday</a>. Chinese officials reportedly have concerns that Tesla's cars — outfitted with various data collecting capabilities — could serve as leakers of national security secrets.</p>,\n",
       " <p>\"I have been saying for months now that Tesla's level of integration of their business, of their research, of their sort of geo-tracking for which there is integration with Chinese maps, their development of A.I. with Chinese firms, and electric battery technology that's not sustainable in China given the trajectory [on policy] that we are now on,\" policy expert and <a class=\"link rapid-noclick-resp\" data-ylk=\"slk:Eurasia Group\" href=\"https://www.eurasiagroup.net/people/ibremmer\" rel=\"nofollow noopener\" target=\"_blank\">Eurasia Group</a> founder Ian Bremmer <a class=\"link rapid-noclick-resp\" data-ylk=\"slk:said on Yahoo Finance Live\" href=\"https://finance.yahoo.com/videos\">said on Yahoo Finance Live</a>. \"Most American A.I. and technology companies are seen as critical for national security, they don't have access in China — companies like Amazon, Google and Facebook. Tesla is the outlier.\"</p>,\n",
       " <p>That outlier status has made China an incredibly important market for Tesla, and a key part of the investment thesis in the stock.</p>,\n",
       " <p>Tesla's sales in China clocked in at $6.66 billion in 2020, up 123% from a year earlier powered by strength in the Model 3. The business made up about 21% of Tesla's overall 2020 sales. Tesla began deliveries of its China-made Model Y to Chinese consumers earlier this year.</p>,\n",
       " <p>Bremmer warns Tesla now has a challenging road ahead in China in light of the recent development by the military. Musk's response to the Chinese actions are important for investors to watch, suggests Bremmer.</p>,\n",
       " <p>\"At a moment of some white knuckle tensions between the U.S. and China, Musk &amp; Co. find themselves in a unique position (along with Apple) of being caught in the crossfire,\" Wedbush tech analyst Dan Ives said.</p>,\n",
       " <p><a class=\"link rapid-noclick-resp\" data-ylk=\"slk:Tesla shares fell about 2% on the report\" href=\"http://finance.yahoo.com/premium-marketing?ncid=editoriald_yhm5ec0oo8o\">Tesla shares fell about 2% on the report</a>, as investors pondered if China will take a harder line on Tesla's sales to consumers.</p>]"
      ]
     },
     "execution_count": 7,
     "metadata": {},
     "output_type": "execute_result"
    }
   ],
   "source": [
    "paragraphs[:10]"
   ]
  },
  {
   "cell_type": "code",
   "execution_count": 10,
   "id": "a8af8bc1",
   "metadata": {},
   "outputs": [],
   "source": [
    "#creating an article using the words from paragraphs list\n",
    "text = [paragraph.text for paragraph in paragraphs]\n",
    "words = ' '.join(text).split(' ')[:400]\n",
    "ARTICLE = ' '.join(words)"
   ]
  },
  {
   "cell_type": "code",
   "execution_count": 31,
   "id": "f82594fb",
   "metadata": {},
   "outputs": [
    {
     "data": {
      "text/plain": [
       "'Reporting live from Parliament House, sign up to get our Budget Breakdown. Renewed political tensions between the U.S. and China — which came to light this week as the Biden administration sat down with their Chinese counterparts for the first time to discuss a range of issues — could ensnarl vehicle maker Tesla (TSLA), which has pushed successfully into China in recent years. In fact, the heightened rhetoric between the two super economic superpowers may have already had blowback on Elon Musk\\'s electric car company. The Chinese government is restricting the use of Tesla vehicles by military staff and employees of vital state-owned companies, The Wall Street Journal reported Friday. Chinese officials reportedly have concerns that Tesla\\'s cars — outfitted with various data collecting capabilities — could serve as leakers of national security secrets. \"I have been saying for months now that Tesla\\'s level of integration of their business, of their research, of their sort of geo-tracking for which there is integration with Chinese maps, their development of A.I. with Chinese firms, and electric battery technology that\\'s not sustainable in China given the trajectory [on policy] that we are now on,\" policy expert and Eurasia Group founder Ian Bremmer said on Yahoo Finance Live. \"Most American A.I. and technology companies are seen as critical for national security, they don\\'t have access in China — companies like Amazon, Google and Facebook. Tesla is the outlier.\" That outlier status has made China an incredibly important market for Tesla, and a key part of the investment thesis in the stock. Tesla\\'s sales in China clocked in at $6.66 billion in 2020, up 123% from a year earlier powered by strength in the Model 3. The business made up about 21% of Tesla\\'s overall 2020 sales. Tesla began deliveries of its China-made Model Y to Chinese consumers earlier this year. Bremmer warns Tesla now has a challenging road ahead in China in light of the recent development by the military. Musk\\'s response to the Chinese actions are important for investors to watch, suggests Bremmer. \"At a moment of some white knuckle tensions between the U.S. and China, Musk & Co. find themselves in a unique position (along with Apple) of being caught in the crossfire,\" Wedbush tech analyst Dan Ives said. Tesla shares fell about 2% on the report, as investors pondered if China will take a harder line on Tesla\\'s sales to consumers.'"
      ]
     },
     "execution_count": 31,
     "metadata": {},
     "output_type": "execute_result"
    }
   ],
   "source": [
    "ARTICLE"
   ]
  },
  {
   "cell_type": "code",
   "execution_count": 39,
   "id": "b673eafd",
   "metadata": {},
   "outputs": [],
   "source": [
    "#encoding the Article for text generation using transformers\n",
    "input_ids = tokenizer.encode(ARTICLE, return_tensors='pt')\n",
    "output = model.generate(input_ids, max_length=55, num_beams=5, early_stopping=True)\n",
    "summary = tokenizer.decode(output[0], skip_special_tokens=True)"
   ]
  },
  {
   "cell_type": "code",
   "execution_count": 40,
   "id": "63221d2f",
   "metadata": {},
   "outputs": [
    {
     "data": {
      "text/plain": [
       "'Tensions between U.S. and China may have already had blowback. Tesla has been successful in China in recent years'"
      ]
     },
     "execution_count": 40,
     "metadata": {},
     "output_type": "execute_result"
    }
   ],
   "source": [
    "summary"
   ]
  },
  {
   "cell_type": "code",
   "execution_count": 41,
   "id": "b8da7cc4",
   "metadata": {},
   "outputs": [
    {
     "data": {
      "text/plain": [
       "torch.Size([1, 492])"
      ]
     },
     "execution_count": 41,
     "metadata": {},
     "output_type": "execute_result"
    }
   ],
   "source": [
    "input_ids.shape\n"
   ]
  },
  {
   "cell_type": "code",
   "execution_count": 37,
   "id": "26b6073f",
   "metadata": {},
   "outputs": [
    {
     "data": {
      "text/plain": [
       "tensor([    0, 47615,   116,   317,   475,   107,   283,   107,   111,  1224,\n",
       "          218,   133,   506,   196,  6049,  3367,   107, 11997,   148,   174,\n",
       "         1147,   115,  1224,   115,   909,   231,     1])"
      ]
     },
     "execution_count": 37,
     "metadata": {},
     "output_type": "execute_result"
    }
   ],
   "source": [
    "output[0]"
   ]
  },
  {
   "cell_type": "markdown",
   "id": "719e1b86",
   "metadata": {},
   "source": [
    "# Building a news and sentiment pipeline"
   ]
  },
  {
   "cell_type": "code",
   "execution_count": 59,
   "id": "db538ecb",
   "metadata": {},
   "outputs": [],
   "source": [
    "monitored_tickers = ['ETH','DOGE','GME', 'TSLA', 'BTC']\n"
   ]
  },
  {
   "cell_type": "markdown",
   "id": "dd43006a",
   "metadata": {},
   "source": [
    "## search and scrape stock news from yahoo finance"
   ]
  },
  {
   "cell_type": "code",
   "execution_count": 60,
   "id": "4f05e73e",
   "metadata": {},
   "outputs": [],
   "source": [
    "def search_for_stock_news_urls(ticker):\n",
    "    search_url = \"https://www.google.com/search?q=yahoo+finance+{}&tbm=nws\".format(ticker)\n",
    "    r = requests.get(search_url)\n",
    "    soup = BeautifulSoup(r.text, 'html.parser')\n",
    "    atags = soup.find_all('a')\n",
    "    hrefs = [link['href'] for link in atags]\n",
    "    return hrefs"
   ]
  },
  {
   "cell_type": "code",
   "execution_count": 61,
   "id": "6f00e6cd",
   "metadata": {},
   "outputs": [
    {
     "data": {
      "text/plain": [
       "{'ETH': ['/?sa=X&ved=0ahUKEwiIpoCRwsTwAhWBaCsKHYFrCQIQOwgC',\n",
       "  '/?output=search&ie=UTF-8&tbm=nws&sa=X&ved=0ahUKEwiIpoCRwsTwAhWBaCsKHYFrCQIQPAgE',\n",
       "  '/search?q=yahoo+finance+ETH&tbm=nws&ie=UTF-8&gbv=1&sei=AvybYIidKoHRrQGB16UQ',\n",
       "  '/search?q=yahoo+finance+ETH&ie=UTF-8&source=lnms&sa=X&ved=0ahUKEwiIpoCRwsTwAhWBaCsKHYFrCQIQ_AUIBygA',\n",
       "  '/search?q=yahoo+finance+ETH&ie=UTF-8&tbm=shop&source=lnms&sa=X&ved=0ahUKEwiIpoCRwsTwAhWBaCsKHYFrCQIQ_AUICSgC',\n",
       "  '/search?q=yahoo+finance+ETH&ie=UTF-8&tbm=isch&source=lnms&sa=X&ved=0ahUKEwiIpoCRwsTwAhWBaCsKHYFrCQIQ_AUICigD',\n",
       "  'https://maps.google.com/maps?q=yahoo+finance+ETH&um=1&ie=UTF-8&sa=X&ved=0ahUKEwiIpoCRwsTwAhWBaCsKHYFrCQIQ_AUICygE',\n",
       "  '/search?q=yahoo+finance+ETH&ie=UTF-8&tbm=vid&source=lnms&sa=X&ved=0ahUKEwiIpoCRwsTwAhWBaCsKHYFrCQIQ_AUIDCgF',\n",
       "  '/search?q=yahoo+finance+ETH&ie=UTF-8&tbm=bks&source=lnms&sa=X&ved=0ahUKEwiIpoCRwsTwAhWBaCsKHYFrCQIQ_AUIDSgG',\n",
       "  '/advanced_search',\n",
       "  '/search?q=yahoo+finance+ETH&ie=UTF-8&tbm=nws&source=lnt&tbs=qdr:h&sa=X&ved=0ahUKEwiIpoCRwsTwAhWBaCsKHYFrCQIQpwUIDw',\n",
       "  '/search?q=yahoo+finance+ETH&ie=UTF-8&tbm=nws&source=lnt&tbs=qdr:d&sa=X&ved=0ahUKEwiIpoCRwsTwAhWBaCsKHYFrCQIQpwUIEA',\n",
       "  '/search?q=yahoo+finance+ETH&ie=UTF-8&tbm=nws&source=lnt&tbs=qdr:w&sa=X&ved=0ahUKEwiIpoCRwsTwAhWBaCsKHYFrCQIQpwUIEQ',\n",
       "  '/search?q=yahoo+finance+ETH&ie=UTF-8&tbm=nws&source=lnt&tbs=qdr:m&sa=X&ved=0ahUKEwiIpoCRwsTwAhWBaCsKHYFrCQIQpwUIEg',\n",
       "  '/search?q=yahoo+finance+ETH&ie=UTF-8&tbm=nws&source=lnt&tbs=qdr:y&sa=X&ved=0ahUKEwiIpoCRwsTwAhWBaCsKHYFrCQIQpwUIEw',\n",
       "  '/search?q=yahoo+finance+ETH&ie=UTF-8&tbm=nws&source=lnt&tbs=ar:1&sa=X&ved=0ahUKEwiIpoCRwsTwAhWBaCsKHYFrCQIQpwUIFA',\n",
       "  '/search?q=yahoo+finance+ETH&ie=UTF-8&tbm=nws&source=lnt&tbs=sbd:1&sa=X&ved=0ahUKEwiIpoCRwsTwAhWBaCsKHYFrCQIQpwUIFg',\n",
       "  '/url?q=https://finance.yahoo.com/news/bitcoin-vs-ethereum-crypto-better-003034363.html&sa=U&ved=2ahUKEwiIpoCRwsTwAhWBaCsKHYFrCQIQxfQBMAB6BAgFEAE&usg=AOvVaw3Uo_LOSak7p-Bby5eW-ceF',\n",
       "  '/url?q=https://finance.yahoo.com/news/bitcoin-vs-ethereum-crypto-better-003034363.html&sa=U&ved=2ahUKEwiIpoCRwsTwAhWBaCsKHYFrCQIQ0Y8FMAB6BAgFEAI&usg=AOvVaw1Z-OWjL9e-SiQQqK51C56_',\n",
       "  '/url?q=https://finance.yahoo.com/video/ethereum-won-t-put-bitcoin-173325638.html&sa=U&ved=2ahUKEwiIpoCRwsTwAhWBaCsKHYFrCQIQxfQBMAF6BAgHEAE&usg=AOvVaw1nvqKhogMVCCemY2XGMQeN',\n",
       "  '/url?q=https://finance.yahoo.com/video/ethereum-won-t-put-bitcoin-173325638.html&sa=U&ved=2ahUKEwiIpoCRwsTwAhWBaCsKHYFrCQIQ0Y8FMAF6BAgHEAI&usg=AOvVaw2Q9cqKlJFhXL0wNDKST5lU',\n",
       "  '/url?q=https://finance.yahoo.com/news/bitcoin-ethereum-dogecoin-elon-musk-cryptocurrencies-prices-12-may-083700636.html&sa=U&ved=2ahUKEwiIpoCRwsTwAhWBaCsKHYFrCQIQxfQBMAJ6BAgJEAE&usg=AOvVaw2I_IC5UOJndHyuBgG__Wop',\n",
       "  '/url?q=https://finance.yahoo.com/news/bitcoin-ethereum-dogecoin-elon-musk-cryptocurrencies-prices-12-may-083700636.html&sa=U&ved=2ahUKEwiIpoCRwsTwAhWBaCsKHYFrCQIQ0Y8FMAJ6BAgJEAI&usg=AOvVaw2sOorN6F7d__GXKh2xQJDt',\n",
       "  '/url?q=https://finance.yahoo.com/news/why-ethereum-rise-143638663.html&sa=U&ved=2ahUKEwiIpoCRwsTwAhWBaCsKHYFrCQIQxfQBMAN6BAgIEAE&usg=AOvVaw1ZsTzyfps9Ihrxnx8zBg1T',\n",
       "  '/url?q=https://finance.yahoo.com/news/why-ethereum-rise-143638663.html&sa=U&ved=2ahUKEwiIpoCRwsTwAhWBaCsKHYFrCQIQ0Y8FMAN6BAgIEAI&usg=AOvVaw0v911hT1eIwcPwUpRfTLKo',\n",
       "  '/url?q=https://finance.yahoo.com/video/ethereum-surpasses-4-000-amid-155027064.html&sa=U&ved=2ahUKEwiIpoCRwsTwAhWBaCsKHYFrCQIQxfQBMAR6BAgDEAE&usg=AOvVaw2HlrriRILxGOv1VYvR0hXa',\n",
       "  '/url?q=https://finance.yahoo.com/video/ethereum-surpasses-4-000-amid-155027064.html&sa=U&ved=2ahUKEwiIpoCRwsTwAhWBaCsKHYFrCQIQ0Y8FMAR6BAgDEAI&usg=AOvVaw1cYqyh3zLe00O6TiBlsIZJ',\n",
       "  '/url?q=https://finance.yahoo.com/news/ethereum-litecoin-ripple-xrp-daily-003743827.html&sa=U&ved=2ahUKEwiIpoCRwsTwAhWBaCsKHYFrCQIQxfQBMAV6BAgBEAE&usg=AOvVaw3zca0oeckhf95B2L7PIRaV',\n",
       "  '/url?q=https://finance.yahoo.com/news/ethereum-litecoin-ripple-xrp-daily-003743827.html&sa=U&ved=2ahUKEwiIpoCRwsTwAhWBaCsKHYFrCQIQ0Y8FMAV6BAgBEAI&usg=AOvVaw1pIe82-3CwVNx_HeyAdEjJ',\n",
       "  '/url?q=https://finance.yahoo.com/news/ethereum-high-fly-183347298.html&sa=U&ved=2ahUKEwiIpoCRwsTwAhWBaCsKHYFrCQIQxfQBMAZ6BAgCEAE&usg=AOvVaw08U04tuPaa6bUr7pVWzVgm',\n",
       "  '/url?q=https://finance.yahoo.com/news/ethereum-high-fly-183347298.html&sa=U&ved=2ahUKEwiIpoCRwsTwAhWBaCsKHYFrCQIQ0Y8FMAZ6BAgCEAI&usg=AOvVaw3IOzFQt1bYytpuIhXNB2Ua',\n",
       "  '/url?q=https://finance.yahoo.com/news/crypto-analyst-who-nailed-ethereum-climb-says-10000-is-next-204306727.html&sa=U&ved=2ahUKEwiIpoCRwsTwAhWBaCsKHYFrCQIQxfQBMAd6BAgEEAE&usg=AOvVaw1a01wjze3K2C792ShDMV--',\n",
       "  '/url?q=https://finance.yahoo.com/news/crypto-analyst-who-nailed-ethereum-climb-says-10000-is-next-204306727.html&sa=U&ved=2ahUKEwiIpoCRwsTwAhWBaCsKHYFrCQIQ0Y8FMAd6BAgEEAI&usg=AOvVaw3m1j7sJ6WR6NBH5fIYfRJ5',\n",
       "  '/url?q=https://finance.yahoo.com/news/two-very-real-reasons-ethereum-162354486.html&sa=U&ved=2ahUKEwiIpoCRwsTwAhWBaCsKHYFrCQIQxfQBMAh6BAgAEAE&usg=AOvVaw3nmpIEV2BUI0lLomamX_Wm',\n",
       "  '/url?q=https://finance.yahoo.com/news/two-very-real-reasons-ethereum-162354486.html&sa=U&ved=2ahUKEwiIpoCRwsTwAhWBaCsKHYFrCQIQ0Y8FMAh6BAgAEAI&usg=AOvVaw066eRJbadeDIfoSjwa4KSa',\n",
       "  '/url?q=https://uk.finance.yahoo.com/news/bitcoin-ethereum-blockchain-cryptocurrencies-decentralised-finance-what-is-de-fi-102623503.html&sa=U&ved=2ahUKEwiIpoCRwsTwAhWBaCsKHYFrCQIQxfQBMAl6BAgGEAE&usg=AOvVaw1vr-qA6PvtnDjtkrgnlQik',\n",
       "  '/url?q=https://uk.finance.yahoo.com/news/bitcoin-ethereum-blockchain-cryptocurrencies-decentralised-finance-what-is-de-fi-102623503.html&sa=U&ved=2ahUKEwiIpoCRwsTwAhWBaCsKHYFrCQIQ0Y8FMAl6BAgGEAI&usg=AOvVaw1z6pNr2VxdQ5sQ12K8vMhq',\n",
       "  '/search?q=yahoo+finance+ETH&ie=UTF-8&tbm=nws&ei=AvybYIidKoHRrQGB16UQ&start=10&sa=N',\n",
       "  '/url?q=https://support.google.com/websearch%3Fp%3Dws_settings_location%26hl%3Den-IN&sa=U&ved=0ahUKEwiIpoCRwsTwAhWBaCsKHYFrCQIQty4IVQ&usg=AOvVaw07Bwrll0K-4upLsx-DCeiu',\n",
       "  '/url?q=https://accounts.google.com/ServiceLogin%3Fcontinue%3Dhttps://www.google.com/search%253Fq%253Dyahoo%252Bfinance%252BETH%2526tbm%253Dnws%26hl%3Den&sa=U&ved=0ahUKEwiIpoCRwsTwAhWBaCsKHYFrCQIQxs8CCFY&usg=AOvVaw2eIqyQm7knUR0m7a8Ray1h',\n",
       "  'https://www.google.com/preferences?hl=en-IN&fg=1&sa=X&ved=0ahUKEwiIpoCRwsTwAhWBaCsKHYFrCQIQ5fUCCFc',\n",
       "  'https://policies.google.com/privacy?hl=en-IN&fg=1',\n",
       "  'https://policies.google.com/terms?hl=en-IN&fg=1'],\n",
       " 'DOGE': ['/?sa=X&ved=0ahUKEwi5_7qRwsTwAhVWeH0KHVXyAAIQOwgC',\n",
       "  '/?output=search&ie=UTF-8&tbm=nws&sa=X&ved=0ahUKEwi5_7qRwsTwAhVWeH0KHVXyAAIQPAgE',\n",
       "  '/search?q=yahoo+finance+DOGE&tbm=nws&ie=UTF-8&gbv=1&sei=A_ybYPnxJ9bw9QPV5IMQ',\n",
       "  '/search?q=yahoo+finance+DOGE&ie=UTF-8&source=lnms&sa=X&ved=0ahUKEwi5_7qRwsTwAhVWeH0KHVXyAAIQ_AUIBygA',\n",
       "  '/search?q=yahoo+finance+DOGE&ie=UTF-8&tbm=shop&source=lnms&sa=X&ved=0ahUKEwi5_7qRwsTwAhVWeH0KHVXyAAIQ_AUICSgC',\n",
       "  '/search?q=yahoo+finance+DOGE&ie=UTF-8&tbm=vid&source=lnms&sa=X&ved=0ahUKEwi5_7qRwsTwAhVWeH0KHVXyAAIQ_AUICigD',\n",
       "  '/search?q=yahoo+finance+DOGE&ie=UTF-8&tbm=isch&source=lnms&sa=X&ved=0ahUKEwi5_7qRwsTwAhVWeH0KHVXyAAIQ_AUICygE',\n",
       "  'https://maps.google.com/maps?q=yahoo+finance+DOGE&um=1&ie=UTF-8&sa=X&ved=0ahUKEwi5_7qRwsTwAhVWeH0KHVXyAAIQ_AUIDCgF',\n",
       "  '/search?q=yahoo+finance+DOGE&ie=UTF-8&tbm=bks&source=lnms&sa=X&ved=0ahUKEwi5_7qRwsTwAhVWeH0KHVXyAAIQ_AUIDSgG',\n",
       "  '/advanced_search',\n",
       "  '/search?q=yahoo+finance+DOGE&ie=UTF-8&tbm=nws&source=lnt&tbs=qdr:h&sa=X&ved=0ahUKEwi5_7qRwsTwAhVWeH0KHVXyAAIQpwUIDw',\n",
       "  '/search?q=yahoo+finance+DOGE&ie=UTF-8&tbm=nws&source=lnt&tbs=qdr:d&sa=X&ved=0ahUKEwi5_7qRwsTwAhVWeH0KHVXyAAIQpwUIEA',\n",
       "  '/search?q=yahoo+finance+DOGE&ie=UTF-8&tbm=nws&source=lnt&tbs=qdr:w&sa=X&ved=0ahUKEwi5_7qRwsTwAhVWeH0KHVXyAAIQpwUIEQ',\n",
       "  '/search?q=yahoo+finance+DOGE&ie=UTF-8&tbm=nws&source=lnt&tbs=qdr:m&sa=X&ved=0ahUKEwi5_7qRwsTwAhVWeH0KHVXyAAIQpwUIEg',\n",
       "  '/search?q=yahoo+finance+DOGE&ie=UTF-8&tbm=nws&source=lnt&tbs=qdr:y&sa=X&ved=0ahUKEwi5_7qRwsTwAhVWeH0KHVXyAAIQpwUIEw',\n",
       "  '/search?q=yahoo+finance+DOGE&ie=UTF-8&tbm=nws&source=lnt&tbs=ar:1&sa=X&ved=0ahUKEwi5_7qRwsTwAhVWeH0KHVXyAAIQpwUIFA',\n",
       "  '/search?q=yahoo+finance+DOGE&ie=UTF-8&tbm=nws&source=lnt&tbs=sbd:1&sa=X&ved=0ahUKEwi5_7qRwsTwAhVWeH0KHVXyAAIQpwUIFg',\n",
       "  '/url?q=https://finance.yahoo.com/news/goldman-sachs-director-reportedly-quits-151816315.html&sa=U&ved=2ahUKEwi5_7qRwsTwAhVWeH0KHVXyAAIQxfQBMAB6BAgGEAE&usg=AOvVaw3QN543CRTtm8DYygI1TgKo',\n",
       "  '/url?q=https://finance.yahoo.com/news/goldman-sachs-director-reportedly-quits-151816315.html&sa=U&ved=2ahUKEwi5_7qRwsTwAhVWeH0KHVXyAAIQ0Y8FMAB6BAgGEAI&usg=AOvVaw12W0dtxyr8stHqiyobap-l',\n",
       "  '/url?q=https://finance.yahoo.com/video/dogecoin-sinks-elon-musk-calls-213723463.html&sa=U&ved=2ahUKEwi5_7qRwsTwAhVWeH0KHVXyAAIQxfQBMAF6BAgJEAE&usg=AOvVaw1qIrXf_4NZEuwYVrwyvDq0',\n",
       "  '/url?q=https://finance.yahoo.com/video/dogecoin-sinks-elon-musk-calls-213723463.html&sa=U&ved=2ahUKEwi5_7qRwsTwAhVWeH0KHVXyAAIQ0Y8FMAF6BAgJEAI&usg=AOvVaw0jzMO_Lk883uLCIe07bp-G',\n",
       "  '/url?q=https://finance.yahoo.com/news/dogecoin-daily-tech-analysis-may-005746352.html&sa=U&ved=2ahUKEwi5_7qRwsTwAhVWeH0KHVXyAAIQxfQBMAJ6BAgIEAE&usg=AOvVaw0GQlcJLAse1hWCVKSPFj4O',\n",
       "  '/url?q=https://finance.yahoo.com/news/dogecoin-daily-tech-analysis-may-005746352.html&sa=U&ved=2ahUKEwi5_7qRwsTwAhVWeH0KHVXyAAIQ0Y8FMAJ6BAgIEAI&usg=AOvVaw1zj2mkfFkSHyQEzVJyt2oZ',\n",
       "  '/url?q=https://finance.yahoo.com/news/want-tesla-accept-doge-musk-082820591.html&sa=U&ved=2ahUKEwi5_7qRwsTwAhVWeH0KHVXyAAIQxfQBMAN6BAgHEAE&usg=AOvVaw1pgL2uIcXktQ7h96kiwSfM',\n",
       "  '/url?q=https://finance.yahoo.com/news/want-tesla-accept-doge-musk-082820591.html&sa=U&ved=2ahUKEwi5_7qRwsTwAhVWeH0KHVXyAAIQ0Y8FMAN6BAgHEAI&usg=AOvVaw1YuNE1oW_fPmkfaphLGfd5',\n",
       "  '/url?q=https://finance.yahoo.com/news/doge-leads-liquidations-280-million-133800751.html&sa=U&ved=2ahUKEwi5_7qRwsTwAhVWeH0KHVXyAAIQxfQBMAR6BAgFEAE&usg=AOvVaw1xSm39nqcLpu4WCZeRd2zX',\n",
       "  '/url?q=https://finance.yahoo.com/news/doge-leads-liquidations-280-million-133800751.html&sa=U&ved=2ahUKEwi5_7qRwsTwAhVWeH0KHVXyAAIQ0Y8FMAR6BAgFEAI&usg=AOvVaw2JaIVcWAOVYgXY0UzcZnNN',\n",
       "  '/url?q=https://finance.yahoo.com/news/dogecoin-daily-tech-analysis-may-011522212.html&sa=U&ved=2ahUKEwi5_7qRwsTwAhVWeH0KHVXyAAIQxfQBMAV6BAgCEAE&usg=AOvVaw2CehkGAwTJGsg_BmzK4pj1',\n",
       "  '/url?q=https://finance.yahoo.com/news/dogecoin-daily-tech-analysis-may-011522212.html&sa=U&ved=2ahUKEwi5_7qRwsTwAhVWeH0KHVXyAAIQ0Y8FMAV6BAgCEAI&usg=AOvVaw3q-3oBoNi-XMyYjBM-A0Zj',\n",
       "  '/url?q=https://finance.yahoo.com/news/tesla-falls-china-sales-dip-101523920.html&sa=U&ved=2ahUKEwi5_7qRwsTwAhVWeH0KHVXyAAIQxfQBMAZ6BAgDEAE&usg=AOvVaw1Nags1Up7JN7z9sKAtw1kg',\n",
       "  '/url?q=https://finance.yahoo.com/news/tesla-falls-china-sales-dip-101523920.html&sa=U&ved=2ahUKEwi5_7qRwsTwAhVWeH0KHVXyAAIQ0Y8FMAZ6BAgDEAI&usg=AOvVaw0yRpQjRlN-Cui8a1c-G9hI',\n",
       "  '/url?q=https://finance.yahoo.com/news/dogecoin-elon-musk-snl-cryptocurrency-bitcoin-ethereum-boe-andrew-bailey-091558489.html&sa=U&ved=2ahUKEwi5_7qRwsTwAhVWeH0KHVXyAAIQxfQBMAd6BAgAEAE&usg=AOvVaw2BFVr7fzESczeThHW6OGur',\n",
       "  '/url?q=https://finance.yahoo.com/news/dogecoin-elon-musk-snl-cryptocurrency-bitcoin-ethereum-boe-andrew-bailey-091558489.html&sa=U&ved=2ahUKEwi5_7qRwsTwAhVWeH0KHVXyAAIQ0Y8FMAd6BAgAEAI&usg=AOvVaw2KSNUiGSzjQ30Qn5i1LJhw',\n",
       "  '/url?q=https://finance.yahoo.com/news/dogecoin-major-price-increase-still-210021032.html&sa=U&ved=2ahUKEwi5_7qRwsTwAhVWeH0KHVXyAAIQxfQBMAh6BAgEEAE&usg=AOvVaw1xaGGv9i05uTYwSk1rpcb8',\n",
       "  '/url?q=https://finance.yahoo.com/news/dogecoin-major-price-increase-still-210021032.html&sa=U&ved=2ahUKEwi5_7qRwsTwAhVWeH0KHVXyAAIQ0Y8FMAh6BAgEEAI&usg=AOvVaw2LurEurQDS4OwYc085wTiZ',\n",
       "  '/url?q=https://finance.yahoo.com/news/comes-dogecoin-mark-cuban-real-161651314.html&sa=U&ved=2ahUKEwi5_7qRwsTwAhVWeH0KHVXyAAIQxfQBMAl6BAgBEAE&usg=AOvVaw111DJttjV0IYmjmTjwYpqW',\n",
       "  '/url?q=https://finance.yahoo.com/news/comes-dogecoin-mark-cuban-real-161651314.html&sa=U&ved=2ahUKEwi5_7qRwsTwAhVWeH0KHVXyAAIQ0Y8FMAl6BAgBEAI&usg=AOvVaw148sGZzD0ZsaLA7VIRiaYV',\n",
       "  '/search?q=yahoo+finance+DOGE&ie=UTF-8&tbm=nws&ei=A_ybYPnxJ9bw9QPV5IMQ&start=10&sa=N',\n",
       "  '/url?q=https://support.google.com/websearch%3Fp%3Dws_settings_location%26hl%3Den-IN&sa=U&ved=0ahUKEwi5_7qRwsTwAhVWeH0KHVXyAAIQty4IVQ&usg=AOvVaw1IDRp_oMbezDlv7SJvpF_k',\n",
       "  '/url?q=https://accounts.google.com/ServiceLogin%3Fcontinue%3Dhttps://www.google.com/search%253Fq%253Dyahoo%252Bfinance%252BDOGE%2526tbm%253Dnws%26hl%3Den&sa=U&ved=0ahUKEwi5_7qRwsTwAhVWeH0KHVXyAAIQxs8CCFY&usg=AOvVaw1yq2tmgohFLPlhN3i1I-Vo',\n",
       "  'https://www.google.com/preferences?hl=en-IN&fg=1&sa=X&ved=0ahUKEwi5_7qRwsTwAhVWeH0KHVXyAAIQ5fUCCFc',\n",
       "  'https://policies.google.com/privacy?hl=en-IN&fg=1',\n",
       "  'https://policies.google.com/terms?hl=en-IN&fg=1'],\n",
       " 'GME': ['/?sa=X&ved=0ahUKEwjwv9-RwsTwAhW_gUsFHU3IAAIQOwgC',\n",
       "  '/?output=search&ie=UTF-8&tbm=nws&sa=X&ved=0ahUKEwjwv9-RwsTwAhW_gUsFHU3IAAIQPAgE',\n",
       "  '/search?q=yahoo+finance+GME&tbm=nws&ie=UTF-8&gbv=1&sei=BPybYPCtD7-DrtoPzZCDEA',\n",
       "  '/search?q=yahoo+finance+GME&ie=UTF-8&source=lnms&sa=X&ved=0ahUKEwjwv9-RwsTwAhW_gUsFHU3IAAIQ_AUIBygA',\n",
       "  '/search?q=yahoo+finance+GME&ie=UTF-8&tbm=bks&source=lnms&sa=X&ved=0ahUKEwjwv9-RwsTwAhW_gUsFHU3IAAIQ_AUICSgC',\n",
       "  '/search?q=yahoo+finance+GME&ie=UTF-8&tbm=shop&source=lnms&sa=X&ved=0ahUKEwjwv9-RwsTwAhW_gUsFHU3IAAIQ_AUICigD',\n",
       "  '/search?q=yahoo+finance+GME&ie=UTF-8&tbm=isch&source=lnms&sa=X&ved=0ahUKEwjwv9-RwsTwAhW_gUsFHU3IAAIQ_AUICygE',\n",
       "  'https://maps.google.com/maps?q=yahoo+finance+GME&um=1&ie=UTF-8&sa=X&ved=0ahUKEwjwv9-RwsTwAhW_gUsFHU3IAAIQ_AUIDCgF',\n",
       "  '/search?q=yahoo+finance+GME&ie=UTF-8&tbm=vid&source=lnms&sa=X&ved=0ahUKEwjwv9-RwsTwAhW_gUsFHU3IAAIQ_AUIDSgG',\n",
       "  '/advanced_search',\n",
       "  '/search?q=yahoo+finance+GME&ie=UTF-8&tbm=nws&source=lnt&tbs=qdr:h&sa=X&ved=0ahUKEwjwv9-RwsTwAhW_gUsFHU3IAAIQpwUIDw',\n",
       "  '/search?q=yahoo+finance+GME&ie=UTF-8&tbm=nws&source=lnt&tbs=qdr:d&sa=X&ved=0ahUKEwjwv9-RwsTwAhW_gUsFHU3IAAIQpwUIEA',\n",
       "  '/search?q=yahoo+finance+GME&ie=UTF-8&tbm=nws&source=lnt&tbs=qdr:w&sa=X&ved=0ahUKEwjwv9-RwsTwAhW_gUsFHU3IAAIQpwUIEQ',\n",
       "  '/search?q=yahoo+finance+GME&ie=UTF-8&tbm=nws&source=lnt&tbs=qdr:m&sa=X&ved=0ahUKEwjwv9-RwsTwAhW_gUsFHU3IAAIQpwUIEg',\n",
       "  '/search?q=yahoo+finance+GME&ie=UTF-8&tbm=nws&source=lnt&tbs=qdr:y&sa=X&ved=0ahUKEwjwv9-RwsTwAhW_gUsFHU3IAAIQpwUIEw',\n",
       "  '/search?q=yahoo+finance+GME&ie=UTF-8&tbm=nws&source=lnt&tbs=ar:1&sa=X&ved=0ahUKEwjwv9-RwsTwAhW_gUsFHU3IAAIQpwUIFA',\n",
       "  '/search?q=yahoo+finance+GME&ie=UTF-8&tbm=nws&source=lnt&tbs=sbd:1&sa=X&ved=0ahUKEwjwv9-RwsTwAhW_gUsFHU3IAAIQpwUIFg',\n",
       "  '/url?q=https://finance.yahoo.com/news/why-gamestop-gme-could-beat-161004533.html&sa=U&ved=2ahUKEwjwv9-RwsTwAhW_gUsFHU3IAAIQxfQBMAB6BAgCEAE&usg=AOvVaw1STjZlTnRS7mITJ9got0nm',\n",
       "  '/url?q=https://finance.yahoo.com/news/why-gamestop-gme-could-beat-161004533.html&sa=U&ved=2ahUKEwjwv9-RwsTwAhW_gUsFHU3IAAIQ0Y8FMAB6BAgCEAI&usg=AOvVaw2tqGvUNrOVWwZI5XoGZ_LZ',\n",
       "  '/url?q=https://finance.yahoo.com/news/gme-stock-buy-sell-195934253.html&sa=U&ved=2ahUKEwjwv9-RwsTwAhW_gUsFHU3IAAIQxfQBMAF6BAgIEAE&usg=AOvVaw1uxU81vgFWd2GOw5fmhUCy',\n",
       "  '/url?q=https://finance.yahoo.com/news/gme-stock-buy-sell-195934253.html&sa=U&ved=2ahUKEwjwv9-RwsTwAhW_gUsFHU3IAAIQ0Y8FMAF6BAgIEAI&usg=AOvVaw3MoNeCPAxAowpie2Gdneq7',\n",
       "  '/url?q=https://finance.yahoo.com/news/options-traders-know-something-gamestop-123012232.html&sa=U&ved=2ahUKEwjwv9-RwsTwAhW_gUsFHU3IAAIQxfQBMAJ6BAgHEAE&usg=AOvVaw1-y3VfiOavsXsrG5wR5WGN',\n",
       "  '/url?q=https://finance.yahoo.com/news/options-traders-know-something-gamestop-123012232.html&sa=U&ved=2ahUKEwjwv9-RwsTwAhW_gUsFHU3IAAIQ0Y8FMAJ6BAgHEAI&usg=AOvVaw2E36t8HvR2iCN_vU2Juwyp',\n",
       "  '/url?q=https://finance.yahoo.com/news/gamestop-gme-stock-sinks-market-214509526.html&sa=U&ved=2ahUKEwjwv9-RwsTwAhW_gUsFHU3IAAIQxfQBMAN6BAgJEAE&usg=AOvVaw3kMxsWNlJS9YxrSnscydD0',\n",
       "  '/url?q=https://finance.yahoo.com/news/gamestop-gme-stock-sinks-market-214509526.html&sa=U&ved=2ahUKEwjwv9-RwsTwAhW_gUsFHU3IAAIQ0Y8FMAN6BAgJEAI&usg=AOvVaw2Uap-kLf0X3WbaosAhbZCH',\n",
       "  '/url?q=https://finance.yahoo.com/news/gamestop-gme-raises-551m-speeds-130601819.html&sa=U&ved=2ahUKEwjwv9-RwsTwAhW_gUsFHU3IAAIQxfQBMAR6BAgBEAE&usg=AOvVaw11WQ9pAIzeNISR2DdQIhVy',\n",
       "  '/url?q=https://finance.yahoo.com/news/gamestop-gme-raises-551m-speeds-130601819.html&sa=U&ved=2ahUKEwjwv9-RwsTwAhW_gUsFHU3IAAIQ0Y8FMAR6BAgBEAI&usg=AOvVaw3eucacI9byCNCocaEA1ScJ',\n",
       "  '/url?q=https://finance.yahoo.com/news/gamestop-gme-gains-lags-market-214509120.html&sa=U&ved=2ahUKEwjwv9-RwsTwAhW_gUsFHU3IAAIQxfQBMAV6BAgGEAE&usg=AOvVaw25aFQUvLXJMjyoRsyk0iuN',\n",
       "  '/url?q=https://finance.yahoo.com/news/gamestop-gme-gains-lags-market-214509120.html&sa=U&ved=2ahUKEwjwv9-RwsTwAhW_gUsFHU3IAAIQ0Y8FMAV6BAgGEAI&usg=AOvVaw1HZnRDRVEZI41JfxmFq995',\n",
       "  '/url?q=https://finance.yahoo.com/news/robinhood-is-a-misunderstood-platform-kevin-o-leary-163537524.html&sa=U&ved=2ahUKEwjwv9-RwsTwAhW_gUsFHU3IAAIQxfQBMAZ6BAgEEAE&usg=AOvVaw0BvMP0srILdNqEuOY-m5hY',\n",
       "  '/url?q=https://finance.yahoo.com/news/robinhood-is-a-misunderstood-platform-kevin-o-leary-163537524.html&sa=U&ved=2ahUKEwjwv9-RwsTwAhW_gUsFHU3IAAIQ0Y8FMAZ6BAgEEAI&usg=AOvVaw2Z00hGwJfmEeYowGPRvfvB',\n",
       "  '/url?q=https://finance.yahoo.com/news/buy-gme-stock-180626146.html&sa=U&ved=2ahUKEwjwv9-RwsTwAhW_gUsFHU3IAAIQxfQBMAd6BAgDEAE&usg=AOvVaw1HIi2PV4D2voycdzqWFm3I',\n",
       "  '/url?q=https://finance.yahoo.com/news/buy-gme-stock-180626146.html&sa=U&ved=2ahUKEwjwv9-RwsTwAhW_gUsFHU3IAAIQ0Y8FMAd6BAgDEAI&usg=AOvVaw04v70_DPxMhLV6Oa4sCvGR',\n",
       "  '/url?q=https://finance.yahoo.com/news/david-einhorn-blames-gme-short-165316782.html&sa=U&ved=2ahUKEwjwv9-RwsTwAhW_gUsFHU3IAAIQxfQBMAh6BAgFEAE&usg=AOvVaw26eBmtugIYHAF2e3REgW04',\n",
       "  '/url?q=https://finance.yahoo.com/news/david-einhorn-blames-gme-short-165316782.html&sa=U&ved=2ahUKEwjwv9-RwsTwAhW_gUsFHU3IAAIQ0Y8FMAh6BAgFEAI&usg=AOvVaw0yTt6E_XjKhfEaeNn8Nz-2',\n",
       "  '/url?q=https://finance.yahoo.com/news/ceo-gamestop-electronic-arts-ese-123600125.html&sa=U&ved=2ahUKEwjwv9-RwsTwAhW_gUsFHU3IAAIQxfQBMAl6BAgAEAE&usg=AOvVaw1aPR8K9Rb93KEMpYtADWmM',\n",
       "  '/url?q=https://finance.yahoo.com/news/ceo-gamestop-electronic-arts-ese-123600125.html&sa=U&ved=2ahUKEwjwv9-RwsTwAhW_gUsFHU3IAAIQ0Y8FMAl6BAgAEAI&usg=AOvVaw36aqXPKtg-fYi-wKFn0giu',\n",
       "  '/search?q=yahoo+finance+GME&ie=UTF-8&tbm=nws&ei=BPybYPCtD7-DrtoPzZCDEA&start=10&sa=N',\n",
       "  '/url?q=https://support.google.com/websearch%3Fp%3Dws_settings_location%26hl%3Den-IN&sa=U&ved=0ahUKEwjwv9-RwsTwAhW_gUsFHU3IAAIQty4IVQ&usg=AOvVaw0n2C_60ngL0F_QJo_a-NJ2',\n",
       "  '/url?q=https://accounts.google.com/ServiceLogin%3Fcontinue%3Dhttps://www.google.com/search%253Fq%253Dyahoo%252Bfinance%252BGME%2526tbm%253Dnws%26hl%3Den&sa=U&ved=0ahUKEwjwv9-RwsTwAhW_gUsFHU3IAAIQxs8CCFY&usg=AOvVaw3rv1Z3Co2wz6WKsCiRWJ-k',\n",
       "  'https://www.google.com/preferences?hl=en-IN&fg=1&sa=X&ved=0ahUKEwjwv9-RwsTwAhW_gUsFHU3IAAIQ5fUCCFc',\n",
       "  'https://policies.google.com/privacy?hl=en-IN&fg=1',\n",
       "  'https://policies.google.com/terms?hl=en-IN&fg=1'],\n",
       " 'TSLA': ['/?sa=X&ved=0ahUKEwjn9oGSwsTwAhWGWX0KHVvDCwIQOwgC',\n",
       "  '/?output=search&ie=UTF-8&tbm=nws&sa=X&ved=0ahUKEwjn9oGSwsTwAhWGWX0KHVvDCwIQPAgE',\n",
       "  '/search?q=yahoo+finance+TSLA&tbm=nws&ie=UTF-8&gbv=1&sei=BPybYOfkMYaz9QPbhq8Q',\n",
       "  '/search?q=yahoo+finance+TSLA&ie=UTF-8&source=lnms&sa=X&ved=0ahUKEwjn9oGSwsTwAhWGWX0KHVvDCwIQ_AUIBygA',\n",
       "  '/search?q=yahoo+finance+TSLA&ie=UTF-8&tbm=bks&source=lnms&sa=X&ved=0ahUKEwjn9oGSwsTwAhWGWX0KHVvDCwIQ_AUICSgC',\n",
       "  '/search?q=yahoo+finance+TSLA&ie=UTF-8&tbm=shop&source=lnms&sa=X&ved=0ahUKEwjn9oGSwsTwAhWGWX0KHVvDCwIQ_AUICigD',\n",
       "  '/search?q=yahoo+finance+TSLA&ie=UTF-8&tbm=isch&source=lnms&sa=X&ved=0ahUKEwjn9oGSwsTwAhWGWX0KHVvDCwIQ_AUICygE',\n",
       "  'https://maps.google.com/maps?q=yahoo+finance+TSLA&um=1&ie=UTF-8&sa=X&ved=0ahUKEwjn9oGSwsTwAhWGWX0KHVvDCwIQ_AUIDCgF',\n",
       "  '/search?q=yahoo+finance+TSLA&ie=UTF-8&tbm=vid&source=lnms&sa=X&ved=0ahUKEwjn9oGSwsTwAhWGWX0KHVvDCwIQ_AUIDSgG',\n",
       "  '/advanced_search',\n",
       "  '/search?q=yahoo+finance+TSLA&ie=UTF-8&tbm=nws&source=lnt&tbs=qdr:h&sa=X&ved=0ahUKEwjn9oGSwsTwAhWGWX0KHVvDCwIQpwUIDw',\n",
       "  '/search?q=yahoo+finance+TSLA&ie=UTF-8&tbm=nws&source=lnt&tbs=qdr:d&sa=X&ved=0ahUKEwjn9oGSwsTwAhWGWX0KHVvDCwIQpwUIEA',\n",
       "  '/search?q=yahoo+finance+TSLA&ie=UTF-8&tbm=nws&source=lnt&tbs=qdr:w&sa=X&ved=0ahUKEwjn9oGSwsTwAhWGWX0KHVvDCwIQpwUIEQ',\n",
       "  '/search?q=yahoo+finance+TSLA&ie=UTF-8&tbm=nws&source=lnt&tbs=qdr:m&sa=X&ved=0ahUKEwjn9oGSwsTwAhWGWX0KHVvDCwIQpwUIEg',\n",
       "  '/search?q=yahoo+finance+TSLA&ie=UTF-8&tbm=nws&source=lnt&tbs=qdr:y&sa=X&ved=0ahUKEwjn9oGSwsTwAhWGWX0KHVvDCwIQpwUIEw',\n",
       "  '/search?q=yahoo+finance+TSLA&ie=UTF-8&tbm=nws&source=lnt&tbs=ar:1&sa=X&ved=0ahUKEwjn9oGSwsTwAhWGWX0KHVvDCwIQpwUIFA',\n",
       "  '/search?q=yahoo+finance+TSLA&ie=UTF-8&tbm=nws&source=lnt&tbs=sbd:1&sa=X&ved=0ahUKEwjn9oGSwsTwAhWGWX0KHVvDCwIQpwUIFg',\n",
       "  '/url?q=https://finance.yahoo.com/news/tesla-falls-china-sales-dip-101523920.html&sa=U&ved=2ahUKEwjn9oGSwsTwAhWGWX0KHVvDCwIQxfQBMAB6BAgAEAE&usg=AOvVaw01MhrAafnfMv9dQbbPodd7',\n",
       "  '/url?q=https://finance.yahoo.com/news/tesla-falls-china-sales-dip-101523920.html&sa=U&ved=2ahUKEwjn9oGSwsTwAhWGWX0KHVvDCwIQ0Y8FMAB6BAgAEAI&usg=AOvVaw1SP7rWUvnb3Sqjo46z3m0G',\n",
       "  '/url?q=https://finance.yahoo.com/news/why-shares-tesla-down-10-151153766.html&sa=U&ved=2ahUKEwjn9oGSwsTwAhWGWX0KHVvDCwIQxfQBMAF6BAgJEAE&usg=AOvVaw1n06Xo-9oyLpBj_RQzMQzr',\n",
       "  '/url?q=https://finance.yahoo.com/news/why-shares-tesla-down-10-151153766.html&sa=U&ved=2ahUKEwjn9oGSwsTwAhWGWX0KHVvDCwIQ0Y8FMAF6BAgJEAI&usg=AOvVaw0MUwgwtmFT3Hd24i1MsM-1',\n",
       "  '/url?q=https://finance.yahoo.com/news/dogecoin-elon-musk-asks-twitter-082417594.html&sa=U&ved=2ahUKEwjn9oGSwsTwAhWGWX0KHVvDCwIQxfQBMAJ6BAgHEAE&usg=AOvVaw3EbiTS3wvbItXyFqeoLTAP',\n",
       "  '/url?q=https://finance.yahoo.com/news/dogecoin-elon-musk-asks-twitter-082417594.html&sa=U&ved=2ahUKEwjn9oGSwsTwAhWGWX0KHVvDCwIQ0Y8FMAJ6BAgHEAI&usg=AOvVaw2IE6pIGUslvLmv-Ojnk5ct',\n",
       "  '/url?q=https://finance.yahoo.com/news/tesla-roll-improved-self-driving-124615278.html&sa=U&ved=2ahUKEwjn9oGSwsTwAhWGWX0KHVvDCwIQxfQBMAN6BAgIEAE&usg=AOvVaw1Y2MtTJ8HXePo4FqGrlLA_',\n",
       "  '/url?q=https://finance.yahoo.com/news/tesla-roll-improved-self-driving-124615278.html&sa=U&ved=2ahUKEwjn9oGSwsTwAhWGWX0KHVvDCwIQ0Y8FMAN6BAgIEAI&usg=AOvVaw3D_SHgBCnQoRQy5SR2yazP',\n",
       "  '/url?q=https://finance.yahoo.com/news/tesla-tells-regulator-full-self-034220220.html&sa=U&ved=2ahUKEwjn9oGSwsTwAhWGWX0KHVvDCwIQxfQBMAR6BAgDEAE&usg=AOvVaw1OkRSgvxKdB01yO6gZtkLa',\n",
       "  '/url?q=https://finance.yahoo.com/news/tesla-tells-regulator-full-self-034220220.html&sa=U&ved=2ahUKEwjn9oGSwsTwAhWGWX0KHVvDCwIQ0Y8FMAR6BAgDEAI&usg=AOvVaw3C0tAvnQVSSeZKCPAR_MZp',\n",
       "  '/url?q=https://finance.yahoo.com/news/tech-stocks-get-pounded-here-are-the-simplest-reasons-why-164339559.html&sa=U&ved=2ahUKEwjn9oGSwsTwAhWGWX0KHVvDCwIQxfQBMAV6BAgCEAE&usg=AOvVaw35V-7oIOUXk_m9PWZ1PcH_',\n",
       "  '/url?q=https://finance.yahoo.com/news/tech-stocks-get-pounded-here-are-the-simplest-reasons-why-164339559.html&sa=U&ved=2ahUKEwjn9oGSwsTwAhWGWX0KHVvDCwIQ0Y8FMAV6BAgCEAI&usg=AOvVaw2hvkQ_ptVqoQO76WiBnkxs',\n",
       "  '/url?q=https://finance.yahoo.com/news/tesla-lose-source-revenue-pivotal-101719587.html&sa=U&ved=2ahUKEwjn9oGSwsTwAhWGWX0KHVvDCwIQxfQBMAZ6BAgGEAE&usg=AOvVaw2NFr1wYLd7e6OEdywHpWbQ',\n",
       "  '/url?q=https://finance.yahoo.com/news/tesla-lose-source-revenue-pivotal-101719587.html&sa=U&ved=2ahUKEwjn9oGSwsTwAhWGWX0KHVvDCwIQ0Y8FMAZ6BAgGEAI&usg=AOvVaw3BatQD5RlI6jWcION4gXwT',\n",
       "  '/url?q=https://finance.yahoo.com/news/california-police-investigating-fatal-tesla-004902800.html&sa=U&ved=2ahUKEwjn9oGSwsTwAhWGWX0KHVvDCwIQxfQBMAd6BAgBEAE&usg=AOvVaw0y3AH_bMkxGfK4xFsRC1Ul',\n",
       "  '/url?q=https://finance.yahoo.com/news/california-police-investigating-fatal-tesla-004902800.html&sa=U&ved=2ahUKEwjn9oGSwsTwAhWGWX0KHVvDCwIQ0Y8FMAd6BAgBEAI&usg=AOvVaw0b0QTuoPNJYzplVrZ0_D72',\n",
       "  '/url?q=https://finance.yahoo.com/news/tesla-reports-q1-2021-earnings-results-124505076.html&sa=U&ved=2ahUKEwjn9oGSwsTwAhWGWX0KHVvDCwIQxfQBMAh6BAgEEAE&usg=AOvVaw30NBKJpZ1Y5t7kM4i9I_te',\n",
       "  '/url?q=https://finance.yahoo.com/news/tesla-reports-q1-2021-earnings-results-124505076.html&sa=U&ved=2ahUKEwjn9oGSwsTwAhWGWX0KHVvDCwIQ0Y8FMAh6BAgEEAI&usg=AOvVaw1N18Rulm0RQqZiiDfSOsmC',\n",
       "  '/url?q=https://finance.yahoo.com/news/tesla-tsla-gains-lags-market-214509336.html&sa=U&ved=2ahUKEwjn9oGSwsTwAhWGWX0KHVvDCwIQxfQBMAl6BAgFEAE&usg=AOvVaw1Om_GQtfdvfKo3fEQdrjkK',\n",
       "  '/url?q=https://finance.yahoo.com/news/tesla-tsla-gains-lags-market-214509336.html&sa=U&ved=2ahUKEwjn9oGSwsTwAhWGWX0KHVvDCwIQ0Y8FMAl6BAgFEAI&usg=AOvVaw0kLsZQNYum2C93kMrvfVxg',\n",
       "  '/search?q=yahoo+finance+TSLA&ie=UTF-8&tbm=nws&ei=BPybYOfkMYaz9QPbhq8Q&start=10&sa=N',\n",
       "  '/url?q=https://support.google.com/websearch%3Fp%3Dws_settings_location%26hl%3Den-IN&sa=U&ved=0ahUKEwjn9oGSwsTwAhWGWX0KHVvDCwIQty4IVQ&usg=AOvVaw0clqkIm8HDCEGupBxU0fxs',\n",
       "  '/url?q=https://accounts.google.com/ServiceLogin%3Fcontinue%3Dhttps://www.google.com/search%253Fq%253Dyahoo%252Bfinance%252BTSLA%2526tbm%253Dnws%26hl%3Den&sa=U&ved=0ahUKEwjn9oGSwsTwAhWGWX0KHVvDCwIQxs8CCFY&usg=AOvVaw3qFZC4wYRTMeHy82pqvBV8',\n",
       "  'https://www.google.com/preferences?hl=en-IN&fg=1&sa=X&ved=0ahUKEwjn9oGSwsTwAhWGWX0KHVvDCwIQ5fUCCFc',\n",
       "  'https://policies.google.com/privacy?hl=en-IN&fg=1',\n",
       "  'https://policies.google.com/terms?hl=en-IN&fg=1'],\n",
       " 'BTC': ['/?sa=X&ved=0ahUKEwjRj6OSwsTwAhWVqksFHTOrDwEQOwgC',\n",
       "  '/?output=search&ie=UTF-8&tbm=nws&sa=X&ved=0ahUKEwjRj6OSwsTwAhWVqksFHTOrDwEQPAgE',\n",
       "  '/search?q=yahoo+finance+BTC&tbm=nws&ie=UTF-8&gbv=1&sei=BfybYJH5FZXVrtoPs9a-CA',\n",
       "  '/search?q=yahoo+finance+BTC&ie=UTF-8&source=lnms&sa=X&ved=0ahUKEwjRj6OSwsTwAhWVqksFHTOrDwEQ_AUIBygA',\n",
       "  '/search?q=yahoo+finance+BTC&ie=UTF-8&tbm=shop&source=lnms&sa=X&ved=0ahUKEwjRj6OSwsTwAhWVqksFHTOrDwEQ_AUICSgC',\n",
       "  '/search?q=yahoo+finance+BTC&ie=UTF-8&tbm=vid&source=lnms&sa=X&ved=0ahUKEwjRj6OSwsTwAhWVqksFHTOrDwEQ_AUICigD',\n",
       "  '/search?q=yahoo+finance+BTC&ie=UTF-8&tbm=isch&source=lnms&sa=X&ved=0ahUKEwjRj6OSwsTwAhWVqksFHTOrDwEQ_AUICygE',\n",
       "  'https://maps.google.com/maps?q=yahoo+finance+BTC&um=1&ie=UTF-8&sa=X&ved=0ahUKEwjRj6OSwsTwAhWVqksFHTOrDwEQ_AUIDCgF',\n",
       "  '/search?q=yahoo+finance+BTC&ie=UTF-8&tbm=bks&source=lnms&sa=X&ved=0ahUKEwjRj6OSwsTwAhWVqksFHTOrDwEQ_AUIDSgG',\n",
       "  '/advanced_search',\n",
       "  '/search?q=yahoo+finance+BTC&ie=UTF-8&tbm=nws&source=lnt&tbs=qdr:h&sa=X&ved=0ahUKEwjRj6OSwsTwAhWVqksFHTOrDwEQpwUIDw',\n",
       "  '/search?q=yahoo+finance+BTC&ie=UTF-8&tbm=nws&source=lnt&tbs=qdr:d&sa=X&ved=0ahUKEwjRj6OSwsTwAhWVqksFHTOrDwEQpwUIEA',\n",
       "  '/search?q=yahoo+finance+BTC&ie=UTF-8&tbm=nws&source=lnt&tbs=qdr:w&sa=X&ved=0ahUKEwjRj6OSwsTwAhWVqksFHTOrDwEQpwUIEQ',\n",
       "  '/search?q=yahoo+finance+BTC&ie=UTF-8&tbm=nws&source=lnt&tbs=qdr:m&sa=X&ved=0ahUKEwjRj6OSwsTwAhWVqksFHTOrDwEQpwUIEg',\n",
       "  '/search?q=yahoo+finance+BTC&ie=UTF-8&tbm=nws&source=lnt&tbs=qdr:y&sa=X&ved=0ahUKEwjRj6OSwsTwAhWVqksFHTOrDwEQpwUIEw',\n",
       "  '/search?q=yahoo+finance+BTC&ie=UTF-8&tbm=nws&source=lnt&tbs=ar:1&sa=X&ved=0ahUKEwjRj6OSwsTwAhWVqksFHTOrDwEQpwUIFA',\n",
       "  '/search?q=yahoo+finance+BTC&ie=UTF-8&tbm=nws&source=lnt&tbs=sbd:1&sa=X&ved=0ahUKEwjRj6OSwsTwAhWVqksFHTOrDwEQpwUIFg',\n",
       "  '/url?q=https://finance.yahoo.com/news/palantir-rallies-sales-forecast-embrace-221803926.html&sa=U&ved=2ahUKEwjRj6OSwsTwAhWVqksFHTOrDwEQxfQBMAB6BAgCEAE&usg=AOvVaw11dQ16eTkOB29zyyrAVA31',\n",
       "  '/url?q=https://finance.yahoo.com/news/palantir-rallies-sales-forecast-embrace-221803926.html&sa=U&ved=2ahUKEwjRj6OSwsTwAhWVqksFHTOrDwEQ0Y8FMAB6BAgCEAI&usg=AOvVaw3DEPHgI1vQnMXGh9gzYO42',\n",
       "  '/url?q=https://finance.yahoo.com/news/bitcoin-vs-ethereum-crypto-better-003034363.html&sa=U&ved=2ahUKEwjRj6OSwsTwAhWVqksFHTOrDwEQxfQBMAF6BAgHEAE&usg=AOvVaw3uae9K6JuUGMOTxFLVp8aq',\n",
       "  '/url?q=https://finance.yahoo.com/news/bitcoin-vs-ethereum-crypto-better-003034363.html&sa=U&ved=2ahUKEwjRj6OSwsTwAhWVqksFHTOrDwEQ0Y8FMAF6BAgHEAI&usg=AOvVaw1c0LRL2wcIYofTMNnk1XUj',\n",
       "  '/url?q=https://finance.yahoo.com/news/bitcoin-ethereum-dogecoin-elon-musk-cryptocurrencies-prices-12-may-083700636.html&sa=U&ved=2ahUKEwjRj6OSwsTwAhWVqksFHTOrDwEQxfQBMAJ6BAgIEAE&usg=AOvVaw0kGoO1xwxySlAtziBxHYkq',\n",
       "  '/url?q=https://finance.yahoo.com/news/bitcoin-ethereum-dogecoin-elon-musk-cryptocurrencies-prices-12-may-083700636.html&sa=U&ved=2ahUKEwjRj6OSwsTwAhWVqksFHTOrDwEQ0Y8FMAJ6BAgIEAI&usg=AOvVaw2L2WjqfzVQTTfOPNy6cge5',\n",
       "  '/url?q=https://finance.yahoo.com/news/morgan-creek-ceo-bitcoin-could-133000349.html&sa=U&ved=2ahUKEwjRj6OSwsTwAhWVqksFHTOrDwEQxfQBMAN6BAgJEAE&usg=AOvVaw3K7SXysULo6wBWp8FCq8_I',\n",
       "  '/url?q=https://finance.yahoo.com/news/morgan-creek-ceo-bitcoin-could-133000349.html&sa=U&ved=2ahUKEwjRj6OSwsTwAhWVqksFHTOrDwEQ0Y8FMAN6BAgJEAI&usg=AOvVaw0XEvde44n0nzLjC3841oI-',\n",
       "  '/url?q=https://finance.yahoo.com/news/latest-bitcoin-price-analysis-btc-151236188.html&sa=U&ved=2ahUKEwjRj6OSwsTwAhWVqksFHTOrDwEQxfQBMAR6BAgGEAE&usg=AOvVaw3ZQv2iozNSa1VHaxnSfaJa',\n",
       "  '/url?q=https://finance.yahoo.com/news/latest-bitcoin-price-analysis-btc-151236188.html&sa=U&ved=2ahUKEwjRj6OSwsTwAhWVqksFHTOrDwEQ0Y8FMAR6BAgGEAI&usg=AOvVaw1trvY5-Q2FJhbxgiYsFwYg',\n",
       "  '/url?q=https://finance.yahoo.com/news/bitcoin-waning-dominance-stirs-warning-082655608.html&sa=U&ved=2ahUKEwjRj6OSwsTwAhWVqksFHTOrDwEQxfQBMAV6BAgEEAE&usg=AOvVaw0b0yk12vPUmJ6p6EyUVeDn',\n",
       "  '/url?q=https://finance.yahoo.com/news/bitcoin-waning-dominance-stirs-warning-082655608.html&sa=U&ved=2ahUKEwjRj6OSwsTwAhWVqksFHTOrDwEQ0Y8FMAV6BAgEEAI&usg=AOvVaw3POl1XCnzx_nPeegQZpYzj',\n",
       "  '/url?q=https://finance.yahoo.com/video/ethereum-won-t-put-bitcoin-173325638.html&sa=U&ved=2ahUKEwjRj6OSwsTwAhWVqksFHTOrDwEQxfQBMAZ6BAgDEAE&usg=AOvVaw3iauJAwQbNl3Tep4JerXsz',\n",
       "  '/url?q=https://finance.yahoo.com/video/ethereum-won-t-put-bitcoin-173325638.html&sa=U&ved=2ahUKEwjRj6OSwsTwAhWVqksFHTOrDwEQ0Y8FMAZ6BAgDEAI&usg=AOvVaw1iINQ7unPlHsQK-hbSmPuL',\n",
       "  '/url?q=https://finance.yahoo.com/news/3-palantir-allows-payments-bitcoin-151308700.html&sa=U&ved=2ahUKEwjRj6OSwsTwAhWVqksFHTOrDwEQxfQBMAd6BAgFEAE&usg=AOvVaw2E7qsI9XWzD-2MELzg9S2h',\n",
       "  '/url?q=https://finance.yahoo.com/news/3-palantir-allows-payments-bitcoin-151308700.html&sa=U&ved=2ahUKEwjRj6OSwsTwAhWVqksFHTOrDwEQ0Y8FMAd6BAgFEAI&usg=AOvVaw0NktHYsbP_p-6QNe_00Qqn',\n",
       "  '/url?q=https://finance.yahoo.com/news/stalled-bitcoin-rally-opens-door-035647758.html&sa=U&ved=2ahUKEwjRj6OSwsTwAhWVqksFHTOrDwEQxfQBMAh6BAgAEAE&usg=AOvVaw0hatY-Q6WyxXhcwyd9T-fF',\n",
       "  '/url?q=https://finance.yahoo.com/news/stalled-bitcoin-rally-opens-door-035647758.html&sa=U&ved=2ahUKEwjRj6OSwsTwAhWVqksFHTOrDwEQ0Y8FMAh6BAgAEAI&usg=AOvVaw2OUjX3LtKT46JOVFUAabUD',\n",
       "  '/url?q=https://finance.yahoo.com/news/kevin-o-leary-on-cryptocurrency-i-dont-own-random-et-fs-with-blood-coin-in-them-151220436.html&sa=U&ved=2ahUKEwjRj6OSwsTwAhWVqksFHTOrDwEQxfQBMAl6BAgBEAE&usg=AOvVaw0MDaoMml-dgTZ_xY83Rzcp',\n",
       "  '/url?q=https://finance.yahoo.com/news/kevin-o-leary-on-cryptocurrency-i-dont-own-random-et-fs-with-blood-coin-in-them-151220436.html&sa=U&ved=2ahUKEwjRj6OSwsTwAhWVqksFHTOrDwEQ0Y8FMAl6BAgBEAI&usg=AOvVaw2Le22GusDXtWGWfWb5YbmM',\n",
       "  '/search?q=yahoo+finance+BTC&ie=UTF-8&tbm=nws&ei=BfybYJH5FZXVrtoPs9a-CA&start=10&sa=N',\n",
       "  '/url?q=https://support.google.com/websearch%3Fp%3Dws_settings_location%26hl%3Den-IN&sa=U&ved=0ahUKEwjRj6OSwsTwAhWVqksFHTOrDwEQty4IVQ&usg=AOvVaw1PhzK_GQEzdYkQENkcFNVO',\n",
       "  '/url?q=https://accounts.google.com/ServiceLogin%3Fcontinue%3Dhttps://www.google.com/search%253Fq%253Dyahoo%252Bfinance%252BBTC%2526tbm%253Dnws%26hl%3Den&sa=U&ved=0ahUKEwjRj6OSwsTwAhWVqksFHTOrDwEQxs8CCFY&usg=AOvVaw3Rm22Ky1kKCmn2phtID_6R',\n",
       "  'https://www.google.com/preferences?hl=en-IN&fg=1&sa=X&ved=0ahUKEwjRj6OSwsTwAhWVqksFHTOrDwEQ5fUCCFc',\n",
       "  'https://policies.google.com/privacy?hl=en-IN&fg=1',\n",
       "  'https://policies.google.com/terms?hl=en-IN&fg=1']}"
      ]
     },
     "execution_count": 61,
     "metadata": {},
     "output_type": "execute_result"
    }
   ],
   "source": [
    "raw_urls = {ticker:search_for_stock_news_urls(ticker) for ticker in monitored_tickers}\n",
    "raw_urls\n"
   ]
  },
  {
   "cell_type": "code",
   "execution_count": 62,
   "id": "e6371853",
   "metadata": {},
   "outputs": [
    {
     "data": {
      "text/plain": [
       "43"
      ]
     },
     "execution_count": 62,
     "metadata": {},
     "output_type": "execute_result"
    }
   ],
   "source": [
    "len(raw_urls['DOGE'])"
   ]
  },
  {
   "cell_type": "code",
   "execution_count": 63,
   "id": "57f52c51",
   "metadata": {},
   "outputs": [],
   "source": [
    "import re\n"
   ]
  },
  {
   "cell_type": "code",
   "execution_count": 64,
   "id": "bc2abe05",
   "metadata": {},
   "outputs": [],
   "source": [
    "unwanted_key = ['terms','privacy', 'accounts', 'support', 'preferences', 'maps']"
   ]
  },
  {
   "cell_type": "code",
   "execution_count": 65,
   "id": "0ffa85a9",
   "metadata": {},
   "outputs": [],
   "source": [
    "def strip_unwanted_urls(urls, exclude_list):\n",
    "    val = []\n",
    "    for url in urls: \n",
    "        if 'https://' in url and not any(exclude_word in url for exclude_word in exclude_list):\n",
    "            res = re.findall(r'(https?://\\S+)', url)[0].split('&')[0]\n",
    "            val.append(res)\n",
    "    return list(set(val))"
   ]
  },
  {
   "cell_type": "code",
   "execution_count": 66,
   "id": "aa09e258",
   "metadata": {},
   "outputs": [
    {
     "data": {
      "text/plain": [
       "{'ETH': ['https://finance.yahoo.com/news/ethereum-high-fly-183347298.html',\n",
       "  'https://uk.finance.yahoo.com/news/bitcoin-ethereum-blockchain-cryptocurrencies-decentralised-finance-what-is-de-fi-102623503.html',\n",
       "  'https://finance.yahoo.com/news/ethereum-litecoin-ripple-xrp-daily-003743827.html',\n",
       "  'https://finance.yahoo.com/video/ethereum-surpasses-4-000-amid-155027064.html',\n",
       "  'https://finance.yahoo.com/news/bitcoin-vs-ethereum-crypto-better-003034363.html',\n",
       "  'https://finance.yahoo.com/news/why-ethereum-rise-143638663.html',\n",
       "  'https://finance.yahoo.com/news/bitcoin-ethereum-dogecoin-elon-musk-cryptocurrencies-prices-12-may-083700636.html',\n",
       "  'https://finance.yahoo.com/news/crypto-analyst-who-nailed-ethereum-climb-says-10000-is-next-204306727.html',\n",
       "  'https://finance.yahoo.com/video/ethereum-won-t-put-bitcoin-173325638.html',\n",
       "  'https://finance.yahoo.com/news/two-very-real-reasons-ethereum-162354486.html'],\n",
       " 'DOGE': ['https://finance.yahoo.com/news/dogecoin-major-price-increase-still-210021032.html',\n",
       "  'https://finance.yahoo.com/news/dogecoin-daily-tech-analysis-may-011522212.html',\n",
       "  'https://finance.yahoo.com/news/tesla-falls-china-sales-dip-101523920.html',\n",
       "  'https://finance.yahoo.com/news/doge-leads-liquidations-280-million-133800751.html',\n",
       "  'https://finance.yahoo.com/news/goldman-sachs-director-reportedly-quits-151816315.html',\n",
       "  'https://finance.yahoo.com/video/dogecoin-sinks-elon-musk-calls-213723463.html',\n",
       "  'https://finance.yahoo.com/news/comes-dogecoin-mark-cuban-real-161651314.html',\n",
       "  'https://finance.yahoo.com/news/want-tesla-accept-doge-musk-082820591.html',\n",
       "  'https://finance.yahoo.com/news/dogecoin-daily-tech-analysis-may-005746352.html',\n",
       "  'https://finance.yahoo.com/news/dogecoin-elon-musk-snl-cryptocurrency-bitcoin-ethereum-boe-andrew-bailey-091558489.html'],\n",
       " 'GME': ['https://finance.yahoo.com/news/ceo-gamestop-electronic-arts-ese-123600125.html',\n",
       "  'https://finance.yahoo.com/news/robinhood-is-a-misunderstood-platform-kevin-o-leary-163537524.html',\n",
       "  'https://finance.yahoo.com/news/options-traders-know-something-gamestop-123012232.html',\n",
       "  'https://finance.yahoo.com/news/gme-stock-buy-sell-195934253.html',\n",
       "  'https://finance.yahoo.com/news/gamestop-gme-gains-lags-market-214509120.html',\n",
       "  'https://finance.yahoo.com/news/why-gamestop-gme-could-beat-161004533.html',\n",
       "  'https://finance.yahoo.com/news/buy-gme-stock-180626146.html',\n",
       "  'https://finance.yahoo.com/news/gamestop-gme-stock-sinks-market-214509526.html',\n",
       "  'https://finance.yahoo.com/news/gamestop-gme-raises-551m-speeds-130601819.html',\n",
       "  'https://finance.yahoo.com/news/david-einhorn-blames-gme-short-165316782.html'],\n",
       " 'TSLA': ['https://finance.yahoo.com/news/why-shares-tesla-down-10-151153766.html',\n",
       "  'https://finance.yahoo.com/news/dogecoin-elon-musk-asks-twitter-082417594.html',\n",
       "  'https://finance.yahoo.com/news/tesla-falls-china-sales-dip-101523920.html',\n",
       "  'https://finance.yahoo.com/news/tesla-roll-improved-self-driving-124615278.html',\n",
       "  'https://finance.yahoo.com/news/tesla-lose-source-revenue-pivotal-101719587.html',\n",
       "  'https://finance.yahoo.com/news/tesla-reports-q1-2021-earnings-results-124505076.html',\n",
       "  'https://finance.yahoo.com/news/tech-stocks-get-pounded-here-are-the-simplest-reasons-why-164339559.html',\n",
       "  'https://finance.yahoo.com/news/california-police-investigating-fatal-tesla-004902800.html',\n",
       "  'https://finance.yahoo.com/news/tesla-tsla-gains-lags-market-214509336.html',\n",
       "  'https://finance.yahoo.com/news/tesla-tells-regulator-full-self-034220220.html'],\n",
       " 'BTC': ['https://finance.yahoo.com/news/morgan-creek-ceo-bitcoin-could-133000349.html',\n",
       "  'https://finance.yahoo.com/news/bitcoin-vs-ethereum-crypto-better-003034363.html',\n",
       "  'https://finance.yahoo.com/news/stalled-bitcoin-rally-opens-door-035647758.html',\n",
       "  'https://finance.yahoo.com/news/bitcoin-waning-dominance-stirs-warning-082655608.html',\n",
       "  'https://finance.yahoo.com/news/3-palantir-allows-payments-bitcoin-151308700.html',\n",
       "  'https://finance.yahoo.com/news/latest-bitcoin-price-analysis-btc-151236188.html',\n",
       "  'https://finance.yahoo.com/news/bitcoin-ethereum-dogecoin-elon-musk-cryptocurrencies-prices-12-may-083700636.html',\n",
       "  'https://finance.yahoo.com/news/kevin-o-leary-on-cryptocurrency-i-dont-own-random-et-fs-with-blood-coin-in-them-151220436.html',\n",
       "  'https://finance.yahoo.com/news/palantir-rallies-sales-forecast-embrace-221803926.html',\n",
       "  'https://finance.yahoo.com/video/ethereum-won-t-put-bitcoin-173325638.html']}"
      ]
     },
     "execution_count": 66,
     "metadata": {},
     "output_type": "execute_result"
    }
   ],
   "source": [
    "cleaned_urls = {ticker:strip_unwanted_urls(raw_urls[ticker], unwanted_key) for ticker in monitored_tickers}\n",
    "cleaned_urls"
   ]
  },
  {
   "cell_type": "markdown",
   "id": "4d2e1fd3",
   "metadata": {},
   "source": [
    "## Search and scrape cleaned urls"
   ]
  },
  {
   "cell_type": "code",
   "execution_count": 67,
   "id": "3a804e14",
   "metadata": {},
   "outputs": [],
   "source": [
    "def scrape_and_process(URLs):\n",
    "    ARTICLES = []\n",
    "    for url in URLs: \n",
    "        r = requests.get(url)\n",
    "        soup = BeautifulSoup(r.text, 'html.parser')\n",
    "        paragraphs = soup.find_all('p')\n",
    "        text = [paragraph.text for paragraph in paragraphs]\n",
    "        words = ' '.join(text).split(' ')[:350]\n",
    "        ARTICLE = ' '.join(words)\n",
    "        ARTICLES.append(ARTICLE)\n",
    "    return ARTICLES"
   ]
  },
  {
   "cell_type": "code",
   "execution_count": 68,
   "id": "cbc1d620",
   "metadata": {},
   "outputs": [
    {
     "data": {
      "text/plain": [
       "{'ETH': ['While up to recently, Bitcoin (BTC) and ETH would pretty much move in unison, the former topped already on April 14 and is currently trading a the same price level it reached February 21. Meanwhile, ETH is 71% higher than on April 14 and gained almost 115% (!) since that same February date. Thus the two largest cryptocurrencies by market cap are heavily diverging. After running in parallel for many years, such divergence does not make my life any easier as an analyst. It means going back to the drawing board as all I can do is “anticipate, monitor, and adjust accordingly.” the more significant correction (50-70%) I anticipated in ETH has been postponed. In my previous update, see here, I showed the monthly chart and how extremely overbought ETH had become on that time frame. But “overbought can always become more overbought” (the monthly RSI5 went from 98.7 then to 99.3 now), and, indeed, “in Bull markets upside surprises while downside disappoints.” I did not show the daily chart for ETH back then, but I would like to share it today. Figure 1. ETH daily EWP count and technical indicators. $2860 reached and exceeded by 45%, what gives? Figure 1 above shows how I originally derived the $2700-2855 target zone. It was based on standard Fibonacci-extensions for a 5th wave (1.764 to 2.000x the length of the 1st wave, measured from the 2nd wave’s low). Given ETH topped right in the ideal Fib-based 3rd wave target zone/box mid-April, (red wave-iii), then bottom also right in the 4th wave Fib-based target zone/box a few days (red wave-iv) later, strongly and logically suggested the 5th wave would the top in the ideal Fib-based target zone too. But no such luck, and ETH decided to present a very extended 5th wave. Thus, my work and method had it right two out of three times, which is about as good as it gets for us analysts. One can not get it right all the time. Note, such extended waves can never be known beforehand. I only know they can happen, i.e., anticipate them,',\n",
       "  'Trade with EU falls by £18bn in the first three months of the year, but it is unclear whether the shift would be permanent Decentralised finance, also known as DeFi, is a fast-growing sector of the cryptocurrency industry. It’s a blockchain-based form of finance that doesn’t rely on central financial intermediaries such as brokerages, exchanges or banks to offer services. Instead, DeFi offers a more open alternative that is accessible to anyone with a smartphone and good internet connection. As of January 2021, approximately $20.5bn (£15bn) was invested in DeFi. But what exactly is it - and why is it transforming financial services? “DeFi, a rapidly growing sector within financial services, is a technology that uses the blockchain and cryptocurrencies to remove financial intermediaries from transactions. This creates a quicker, cheaper, more efficient and more secure way of providing financial services,” explains Mike Edwards, the CEO of Dispersion Holdings, the second DeFi investment firm to list in the UK. Edwards is the co-founder of the LSE-listed Argo Blockchain (ARB.L).\\xa0 “A decentralised financial system at its core allows for buyers, lenders and borrowers – among others – to interact with each other without involving themselves with any intermediaries such as banks, companies and institutions,” he explains. Read more: Record-breaking Bitcoin tumbles on Yellen warning Most DeFi applications are built on top of ethereum, the world’s second largest cryptocurrency platform. Decentralised applications use smart contracts, which are digital programmes operating autonomously to facilitate contracts and transactions. “DeFi is transparent and accessible to everyone, allowing users to keep full control over their assets and interact with each other through decentralised technology and applications,” adds Edwards. DeFi services are carried out on a blockchain – a decentralised account of all transactions between two parties – and essentially cut out the ‘middleman’ in financial transactions. “Usually in any transaction your money will be controlled externally by a bank or institution,” Edwards says. “With DeFi, smart contracts cut out the intermediaries. Smart contracts are essentially ‘computer codes’ or programmes which execute all parts of a financial agreement. This means that transactions carried out with DeFi are',\n",
       "  'Ethereum rose by 0.29% on Sunday. Following a 12.41% rally on Saturday, Ethereum ended the week up by 33.07% to $3,928.44. A bullish start to the day saw Ethereum rise to a late morning intraday high and a new swing hi $3,984.00. Falling short of the first major resistance level at $4,102, Ethereum fell to a mid-day intraday low $3,726.29. Steering clear of the first major support level at $3,594, Ethereum revisited $3,960 levels before easing back. At the time of writing, Ethereum was down by 0.55% to $3,906.95. A mixed start to the day saw Ethereum rise to an early morning high $3,934.98 before falling to a low $3,896.71. Ethereum left the major support and resistance levels untested early on. Ethereum would need to avoid a fall through the $3,880 pivot to bring the first major resistance level at $4,033 into play. Support from the broader market would be needed, however, for Ethereum to break through to $4,000 levels. Barring an extended crypto rally, the first major resistance level would likely cap any upside. In the event of another breakout, Ethereum could test resistance at $4,200 levels. The second major resistance level sits at $4,137. Failure to avoid a fall through the $3,880 pivot would bring the first major support level at $3,775 into play. Barring an extended sell-off, however, Ethereum should steer clear of the second major support level at $3,622. First Major Support Level: $3,775 Pivot Level: $3,880 First Major Resistance Level: $4,033 23.6% FIB Retracement Level: $3,063 38.2% FIB Retracement Level: $2,493 62% FIB Retracement Level: $1,572 Litecoin rallied by 11.66% on Sunday. Following a modest 0.71% gain from Saturday, Litecoin ended the week up by 44.30% to $388.30. A mixed start to the day saw Litecoin fall to an early morning intraday low $334.00 before making a move. Litecoin fell through the first major support level at $336 before rallying to a final hour intraday high and a new swing hi $389.65. The rally saw Litecoin break through the first major resistance level at $358 and the second major resistance level at $369. At the',\n",
       "  \"Ethereum has surpassed $4,000 amid growing crypto demand. Yahoo Finance’s Akiko Fujita and Zack Guzman share the details. ZACK GUZMAN: We start with the changing of the guard happening in the crypto world here, as we see Ethereum take off more than 436%. The gains so far this year far outpacing Bitcoin. And Akiko, as we were discussing last week with our guests, a lot of speculation here in terms of what those network upgrades might do in the back half of 2021 for Ether when it comes to making it a more sustainable alternative to Bitcoin. AKIKO FUJITA: Yeah, we had Megan Kaspar on Friday from Magnetic. And we, of course, are talking about her because she made the right call to say that she expected Ether to trade in the mid 3,000s. Here we are talking about that, upping the price even beyond that. And she said it could go from 8,000 to 10,000 by the end of the year. So, changing of the guard or sort of, you know, Ether catching up to Bitcoin. Call it what you will, but certainly a lot of things lining up for that to push even higher. Zack, you know, you've talked a lot about of this move to DeFi that has also been supportive of Ether. We've also talked about the rise of NFTs. A lot of that built on Ethereum, so there's a number of factors that seem to be lining up specifically for this prize to push higher. But of course, we can't talk about the crypto space without talking about Dogecoin because it was the weekend of Elon Musk. So he says it's a hustle. How do you interpret that? I mean, we were talking about Dogecoin, how much it has risen over the last year, or this year alone, about 800%. It lost about 30% of its value during that appearance. It seems like he sort of alluded to the fact that it is a bit of a joke. But a lot of people still buying into it. And here we have SpaceX now making an\",\n",
       "  'Cryptocurrencies are soaring this year. Already, Bitcoin is up 98% to just over $57,000 as of the end of the day on Monday. That compares to a 30% gain by the S&P 500 Index during the same span. But Bitcoin\\'s big gain isn\\'t even close to the top return that can be found in the crypto world. In fact, the second-largest crypto is growing much faster. So far in 2021, Ethereum is up a staggering 434% to just over $4,000, according to Coindesk data. That four-times-higher growth also means that the No. 2 crypto (Ethereum) is making ground on No. 1 crypto (Bitcoin). As of the end of the day Monday, the market capitalization of Bitcoin—the combined value of all its digital coins—stands at $1.1 trillion. That’s compared to Ethereum\\'s nearly $500 billion market capitalization. Why is Ethereum gaining ground on Bitcoin? Some investors, such as Mark Cuban, are calling attention to Ethereum for its ability to process more transactions per second than Bitcoin. In the digital world, speed wins. Then again, the gains of both Bitcoin and Ethereum pale in comparison to that of Dogecoin, which is up over 10,000% this year. That has made Dogecoin the third-largest crypto, with a market cap of $64 billion. But can this 2021 run on crypto be sustained? Daniel Ives, managing director of equity research at Wedbush Securities, tells Fortune that there is \"clearly some froth\" in some crypto prices; however, he foresees the run continuing. \"We believe the crypto boom is still in the early innings of playing out for the next decade,\" Ives told Fortune. \"While regulatory goal posts need to put in place, we believe the use cases for crypto and transactions throughout the crypto universe are just starting to play out. From a pure demand perspective, we see crypto prices going higher, led by Bitcoin.\" This story was originally featured on Fortune.com Related Quotes It’s a mixed start to the day for the majors. A Bitcoin move through to $57,500 would support further upside for the broader market. If imitation is the most sincere form of flattery, then',\n",
       "  'The interest in Ethereum technology has never been higher. Ethereum is the second-largest public Blockchain network by both market capitalization and daily trading volume. It has already undergone remarkable development in its young history and continues to grow steadily. In 2020, an average of $231 million in ether was traded daily on spot exchanges. To start 2021, that number jumped to $2.7 billion. The interest has in part come from the acceleration of Decentralized Finance (Defi), a concept that focuses on blockchains and smart contracts rather than traditional financial intermediaries. It has also come from Ethereum layer 2 solutions – technology built on top of Ethereum that is highly scalable and efficient — and sizeable developments with stablecoins, which are mostly anchored on the Ethereum network. As such, the excitement and interest around Ether shows signs of growing acceptance and an appreciation of decentralization. Let’s look at three key reasons for the growing interest in this rapidly changing market: Blockchain Technology To start, there is global adoption and growing interest in blockchain technology. According to a report from Deloitte, 40% of surveyed companies planned to spend at least $5 million on blockchain projects in 2020, and 86% of U.S. companies surveyed built or are in the process of building blockchain teams. 55% of those surveyed said Blockchain was a top five strategic priority. This acceptance and investment is a broad sign that blockchain technology has become more trusted among those looking to use it to improve business processes or use it as a method for transactions. Ethereum has emerged as the most established cryptocurrency for these purposes due to its DeFi and scalability credentials. In addition, 2020 ushered in improvements in crypto market structure, thanks to growing involvement from spot exchanges and custodian projects, as well as enhanced security and regulation to the spot crypto market. Institutional Interest Second, more institutions are warming up to the idea of crypto, which increases demand. In the current macro environment, some may view crypto as a hedge against potential future inflation. Looking to futures markets, institutional demand has certainly helped drive bitcoin markets',\n",
       "  'Cryptocurrencies were broadly higher on Wednesday, recovering some of the losses made on Tuesday. Ethereum (ETH-USD) hit a record high, at one point trading at $4,360 and breaking the $500bn market cap for the first time. At the time of writing it was up 4.7%, trading at $4,250. It had crossed the $4,000 mark over the weekend, but then slumped earlier this week, along with other cryptos, amid a sell-off.\\xa0 Bitcoin (BTC-USD) was up about 2.5%, trading at $57,173.86. “Ethereum\\'s minor retracement seems to be over again as the second biggest coin by market cap has made a new all-time today and the price continues to move higher,” said Naeem Aslam, chief market analyst at Ava Trade. Ethereum\\'s market cap makes it bigger than Visa (V) and JPMorgan (JPM). \"There\\'s no clearer sign that alternative currencies have cemented their position in the mainstream,\" said Jason Cozens, CEO of fintech Glint. \"Throughout the ongoing surge towards alternatives, consumers have made it clear that the incumbent system is no longer fit for purpose as they search for more value and control over how they spend and save their money.\" Meanwhile Dogecoin (DOGE-USD) was up 11%, trading at $ 0.5185. It had also fallen on Tuesday, but then pared its losses as Tesla (TSLA) CEO Elon Musk asked Twitter users if they would like to be able to buy the company’s products with the joke token. Some 3.9 million people had voted as the poll came to a close, with roughly 78% saying \"yes\". “Looking at the recent poll survey on Elon Musk\\'s tweet, it seems like consumers will be able to buy Tesla by using dogecoin,” said Aslam. “The massive rally in dogecoin that we have seen in the past few weeks has triggered a significant rally in other meme coins. We continue to see traders favour those coins which are under one dollar.\" Read more: FTSE 100 outperforms as UK GDP points to turnaround “For bitcoin, the challenge remains the same, and that is if the crypto king is going to come out of its ugly consolidation zone,” said Aslam. He',\n",
       "  'Back in January, when the world\\'s second-largest cryptocurrency by market cap, ethereum, was trading at just over $1,200, one investor made the bold call of predicting a spike to the mid-$3,000 level, claiming it was being \"overlooked\" by investors. Just under five months later, that prediction has already hit with ethereum (ETH-USD) up roughly 400% on the year to cross the $3,500 mark as of Friday afternoon. Now, that same investor, Megan Kaspar, co-founder of the digital asset investment company Magnetic, is upping her price target to the $8,000 to $10,000 price range by year\\'s end. Kaspar explained her thesis Friday on Yahoo Finance Live, citing new updates coming to the cryptocurrency\\'s network later this year. The network is planning a shift away from the same method used by bitcoin (BTC-USD) to confirm transactions to one that is far less energy intensive. Unlike bitcoin\\'s so-called proof of work, which rewards miners who are competing against each other to use computers and energy to record and confirm transactions on its blockchain, ethereum plans to adopt the more efficient proof of stake model, which chooses a block validator at random based on how much ether it controls. \"The shift to proof of stake for block validation reduces carbon emissions by 99.9%, making ethereum a green technology,\" Kaspar explained. \"So these two updates on the network alone could push ethereum to a trillion dollar market cap which is where bitcoin is at today — that would make ethereum around $8,000 to $10,000 a coin.” As high as Kaspar\\'s price target sounds, which implies about 300% upside from current levels, it matches the $10,500 price target that came from Fundstrat Global Advisors earlier this year. Analysts there calculated their price target from rising activity on the ethereum network as more and more decentralized applications continue to be built on it. Decentralized finance applications, which allow users to earn yield on their crypto assets similar to the way they would at a traditional bank, have seen usage on the network explode from $10 billion in September 2020 to more than $65 billion as of April.',\n",
       "  \"Kevin Simpson, Founder and Chief Investment Officer of Capital Wealth Planning, joins Yahoo Finance Live to discuss outlook on cryptocurrency and the market. - All right, Jared, we don't want you to go anywhere, because we do want to continue this conversation on cryptocurrency but also the markets. We're joined now by Kevin Simpson, Founder and Chief Investment Officer at Capital Wealth Planning. Kevin, great to have you with us. So we just heard Jared talking about cryptocurrency. We've seen a lot of moves. And I think just about a year ago and even longer than that, I feel like so many people were shrugging off cryptocurrency as something that just a lot of millennials were purchasing, but not really anything that could be taken too seriously. And here now we're having serious conversations about a cryptocurrency that was originally based off of a meme. How are you approaching the cryptocurrency conversation? How do you think investors should be approaching cryptocurrency in their portfolio? Should they stick with perhaps a Bitcoin, or should we start seriously looking at something like a Dogecoin? KEVIN SIMPSON: Well, Kristin, great to see you. And I think that the conversation about the Dogecoin meme should be just that conversation only. I can't look at it as an investment. We are legitimizing some things that really were started out as a joke. I made a comment earlier this morning to one of my team members. I said the Dogecoin phenomena is making the 1636 tulip craze look legitimate. And I just can't get behind the Doge trade. Now, he responded and he's a millennial and really into this stuff. He said well, you're old and right now Bitcoin is old. It's all about Ethereum. And I thought, OK well, can you explain that to me? And he said Ethereum, not only being a cryptocurrency and breaking $4,000, it's also an application. It's a utility. It has blockchain value that really makes this legitimate. So even though we don't invest in cryptocurrency, we are absolutely paying attention to it. - So interesting that it seems like\",\n",
       "  'Ethereum is up more than 50% in the past week. In 2021, the world’s second largest cryptocurrency has risen more than 360%. And since the stock market bottomed late last March, Ethereum is up an astonishing 2,200%. During the 2017 crypto boom, Ethereum shot up to more than $1,400. After falling more than 90% during the eventual bust, it just surpassed that level in January of this year. Now it’s worth more than $3,200 as of this writing. Bitcoin is performing well this year but it’s up “only” 100%. So why is ETH up so much more than Satoshi’s invention of late? You can never drill these types of price moves down to a singular reason, so let’s look at what Ethereum is and does to get a better sense of the euphoria in this digital asset. Back in the 2017 crypto bubble there were no use cases beyond using it as a store of value on the security of the blockchain. Now, there’s nothing wrong with a store of value as the main selling point for something like Bitcoin. Bitcoin has the potential to become the digital version of gold, which has itself been a store of value for thousands of years. And gold has an estimated market value of around $10 trillion. Ethereum is more than a store of value. The bull market in 2017 was all about the possibilities of this technology, but there were no applications or real world uses for cryptocurrencies. The crypto run this time has two features the 2017 version didn’t—institutional adoption and actual applications. According to the Financial Times, [hotlink]Coinbase[/hotlink] now has more than $122 billion in institutional capital on its platform, up from just $45 billion at the end of 2020. For most of its existence, crypto has been driven by individual and retail adoption. That is changing. But it’s the use cases that are likely driving Ethereum higher. Ethereum is a blockchain just like Bitcoin but it differs in that it is programmable. This means developers can write code, create rules, and make applications on the platform. These “smart contracts”'],\n",
       " 'DOGE': ['If you’re bored with index funds and you’re ready to roll the dice on one of those sexy and mysterious new alternative investments, you have plenty of options. One of those options involves a Japanese dog, Elon Musk and what appears to be fake money from a toy cash register. Read: How Does Cryptocurrency Work – and Is It Safe? That’s Dogecoin (DOGE), and it’s here to rescue anyone who couldn’t bear to wait one second longer for the latest next-big-thing cryptocurrency that promises to out-Bitcoin Bitcoin. Dogecoin is a joke — or at least it started out as one. Two software engineers — IBM’s Billy Markus and Adobe’s Jackson Palmer — created Dogecoin in 2013 to lampoon all the altcoin wannabes that popped up after Bitcoin rose to blockchain fame. As a logo, they chose a Shiba Inu from a meme called Doge, which went viral that same year. Important: What Is Unrealized Gain or Loss and Is It Taxed? Like Bitcoin and all cryptocurrency, Dogecoin is: Decentralized — it’s not issued or backed by a government or bank “Mined” independently and recorded on a blockchain Anonymous — privacy is part of the reason crypto is so popular  Unlike Bitcoin and other “deflationary” cryptocurrencies that exist in limited quantities, there is no cap on “inflationary” Dogecoin.  It started as tech-geek satire, but Palmer and Markus were skilled, experienced and imaginative professionals. Their blockchain, proof-of-work process and minting procedures were stable, efficient and secure. Crypto wonks recognized its potential and the fake currency began amassing a very real following.  More Economy Explained: What Is Inflation and What Does It Mean When It Goes Up or Down? It already had achieved cult status by the time Tesla CEO Elon Musk started tweeting about Dogecoin in 2021. The props from Musk made Dogecoin a household name and sent its value soaring. It’s now one of the most-used altcoins, particularly for tipping on social media.  Investors who are put off by the $59,000 asking price of a single Bitcoin will be happy to know that comparatively, Dogecoin trades at',\n",
       "  'Dogecoin rallied by 9.61% on Tuesday. Partially reversing a 21.09% slump from Monday, Dogecoin ended the day at $0.4941. A mixed start to the day saw Dogecoin fall to an early morning intraday low $0.4434 before making a move. Steering clear of the first major support level at $0.3903, Dogecoin rallied to a late morning intraday high $0.5481. Dogecoin broke back through the 38.2% FIB of $0.4618 and broke through the first major resistance level at $0.5421. Falling short of $0.55 levels, Dogecoin fell back through the first major resistance level to $0.47 levels before finding support. Steering clear of the 38.2% FIB, Dogecoin briefly revisited $0.51 levels before ending the day at sub-$0.50 levels. At the time of writing, Dogecoin was flat at $0.4941 A mixed start to the day saw Dogecoin fall to an early morning low $0.4809 before rising to a high $0.4979. Dogecoin left the major support and resistance levels untested early on. Dogecoin would need to move back through the $0.4952 pivot to bring the first major resistance level at $0.5470 into play. Support from the broader market would be needed, however, for Dogecoin to break back through to $0.54 levels. Barring an extended crypto rally, the first major resistance level and the 23.6% FIB of $0.5691 would likely cap any upside. In the event of another breakout, Dogecoin could test resistance at $0.65. The second major resistance level sits at $0.5999. Failure to move back through the $0.4952 pivot would bring the 38.2% FIB of $0.4618 and the first major support level at $0.4423 into play. Barring another extended sell-off, however, Dogecoin should steer clear of sub-$0.40 levels. The second major support level sits at $0.3905. First Major Support Level: $0.4423 Pivot Level: $0.4952 First Major Resistance Level: $0.5470 23.6% FIB Retracement Level: $0.5691 38.2% FIB Retracement Level: $0.4618 62% FIB Retracement Level: $0.2882 Please let us know what you think in the comments below. Thanks, Bob This article was originally posted on FX Empire  Natural Gas Price Fundamental Daily Forecast – Rebounds Despite Calls for Relatively Modest Demand In May  ',\n",
       "  '(Bloomberg) -- Tesla Inc. shares slumped in early trading as fresh signs of trouble emerged for its China business while Elon Musk polled Twitter followers on whether the carmaker should accept Dogecoin. China’s Passenger Car Association said Tuesday that Tesla sold 25,845 locally made vehicles in April, a 27% drop from March. Reuters reported separately that the Model 3 maker decided against acquiring more land next to its Shanghai plant, as U.S.-China trade tensions undercut plans to turn the site into an export hub. While Musk has been playing damage control during what has been a turbulent few months in China, he’s also been preoccupied with Dogecoin, the cryptocurrency started years ago as a joke that has gained value in part thanks to the billionaire’s attention. The token spiked to about 54 cents from 46 cents after Musk asked his almost 54 million followers whether Tesla should accept it as the company has with Bitcoin. Shares of Tesla -- which recently warned investors the digital assets it’s acquiring could be subject to volatile prices and risk of losses -- slumped as much as 4.4% before the start of regular trading. China Troubles Tesla’s issues in China started in March when its EVs were prohibited from some military complexes and housing compounds because of concerns about sensitive data being collected by cameras and sensors in its vehicles. Shortly after the ban became public, Musk said during a virtual appearance at a conference in China that the automaker would never use technology in its vehicles for spying and would be closed down if it did. In April, a highly public protest by a customer during the Shanghai auto show went viral, prompting deeper investigation by a local market regulator and heated criticism of Tesla’s customer service. The company initially played down the incident but quickly struck a more conciliatory tone after criticism mounted. Reuters said that because 25% tariffs put on electric vehicles under former President Donald Trump are still in place, Tesla now intends to limit China’s portion of its global production, citing unidentified people familiar with the matter. The company',\n",
       "  'Dogecoin (DOGE) is at the top of the Bybt.com liquidations list from the last 12 hours, with over $280 million liquidated across exchanges. In a rare turn of events, DOGE was the subject of, at time of reporting, $282 million worth of liquidations. More than Bitcoin (BTC), Ether (ETH) or Ripple (XRP). According to data, that includes the largest single liquidation order, which occurred on Binance. The DOGE involved in this order was valued at $12.07 million. This amount accounts for nearly 40% of the $707 million cryptocurrencies liquidated in the same 12-hour period. BTC followed DOGE with just under $120 million liquidated. Then ETH was the subject of the third-most orders, amounting to another near $95 million worth. According to data recorded on cryptocurrency futures trading and information platform Bybt.com, around 35% of these liquidations were made on the Huobi exchange. A further 20% were made on Bybit and another near 19% on Binance. DOGE has dominated the cryptocurrency space over the past few weeks. It has accelerated its position from the lowly fraction of a penny it was worth back in January. Helped along in no small amount by continued plugging on Twitter by celebrities such as Tesla CEO Elon Musk. A man who may, arguably, be just as responsible for DOGE’s sudden decline. After hitting an all-time high of $0.73 on May 8, DOGE’s price maintained course along the $0.70 until the small hours. Around which time, Elon Musk hosted Saturday Night Live. Following this appearance, in which the tech mogul made several quips and mentions of DOGE, the altcoin’s price took a sudden, sharp turn. In the space of 45 minutes on May 9, DOGE’s value crashed from $0.66 to $0.50. That has only continued to decline in the ensuing hours, according to data. Despite a brief clamber back up from the $0.50 position, at time of reporting, the value of DOGE has fallen even further. As of 15:30 CET, it is valued at $0.47. All this being said, the same data indicates that the meme-inspired altcoin remains in the top five most valuable cryptocurrencies by',\n",
       "  'A managing director at Goldman Sachs London office has reportedly left the brokerage after making millions on Dogecoin. Aziz McMahon has been with the bank for 14 years, according to his LinkedIn profile, but a Goldman spokesperson confirmed to Fortune that he has departed. A report on eFinancialCareers says the move came after a huge payoff in the cryptocurrency that no one was meant to take seriously. Goldman declined to offer any additional details on McMahon’s departure. The eFinancialCareers piece suggested he might be starting a hedge fund, but it did not provide any information backing that claim. If McMahon did cash in enough Dogecoin to quit his high-level job, he likely did so before Elon Musk’s recent hosting stint on Saturday Night Live, which led to a 30% drop in Dogecoin prices. The crypto has recovered somewhat since then, but is still 32% below its highs of just three days ago. The lure—and rapid rise—of cryptocurrencies have been beacons to people in other career fields for some time. Last year, [hotlink]Coinbase[/hotlink] hired Paul Grewal, a prominent figure and U.S. Magistrate judge in Silicon Valley, as its chief legal officer. And in 2017, the company brought in Asiff Hirji, a former top executive at Hewlett Packard and [hotlink]TD Ameritrade[/hotlink]. Ten thousand new Dogecoins are programmed to be issued every minute for the rest of eternity, meaning the value was never meant to hold. But pushes from everyone from Elon Musk to Mark Cuban to Guy Fieri have kept it in the spotlight, and traders have decided to defy logic. Companies are increasingly jumping on board as well. Earlier this week, the Oakland A’s began selling seats for Dogecoin. And Cuban last week said the Dallas Mavericks would complete 6,0000 Dogecoin transactions in April, adding that it’s a crypto that people actually use rather than just hold. This story was originally featured on Fortune.com Related Quotes (Bloomberg) -- Few things evoke fear in equity markets like a margin call. On Wednesday that fear turned into panic in Taiwan, offering another warning for the world on what can happen when leverage unwinds.The',\n",
       "  \"Jeremy Welch, Kraken's Chief Product Officer, joined Yahoo Finance to discuss the outlook for crypto and Dogecoin after Elon Musk calls it ‘a hustle’ on SNL. SEANA SMITH: The CEO Elon Musk, those comments that he made on SNL over the weekend sent the price of Dogecoin plummeting yesterday. It's down just around 23% right now. We want to talk about this. And with that, we want to bring in Jeremy Welsh. He's Kraken's chief product officer. And Jeremy, when we know-- we know Dogecoin, obviously, has been extremely volatile, especially over the last several weeks. Today, we're seeing a massive move to the downside, off more than 20%. What do you think of the move? JEREMY WELSH: Well, I think this is just part of the story of cryptocurrency's adoption, right? So cryptocurrencies have moved a lot as they've been adopted. And this is really a really big impact point with cryptocurrency mentioned in a really big way on Saturday Night Live. And so, despite the moves, you know, I think Elon is probably still excited. He's shown a lot more excitement around cryptocurrencies generally, including with Tesla buying into Bitcoin and having it on the balance sheet. So this is just part of, again, the wider story of cryptocurrencies really hitting this mainstream adoption. ADAM SHAPIRO: But how do you, on one hand, take the joking about it being a hustle and then SpaceX will accept Dogecoin as payment for Doge 1 mission to the moon. I mean, at what point do people take this seriously? Is really anybody going to do this? Or am I missing a joke here because I'm over 50? JEREMY WELSH: Well, Elon has always been kind of mysterious. With the mix of his tweets, the way he's running his companies, and the way that he's, again, presented himself, he's always been a little bit of an enigma. And he's created an incredible amount of value. I think the one thing is value is value. And right now, with Dogecoin, you've got a lot of community buy-in, a lot of excitement around it.\",\n",
       "  'Dallas Mavericks owner Mark Cuban recently tweeted that Dogecoin (CCC:DOGE-USD) makes perfect sense as a transactional currency. The value of DOGE jumped 20% of the news. Source: Shutterstock “Because Doge is the one coin that people actually use for transactions. We take many others via @BitPay . But people spend their Doge and that means more businesses will start taking it. The greatest inhibitor to it’s growth is that you can’t spend the Doge you buy on Robinhood,” (sic) Cuban tweeted on April 26. I assume the proverbial “we” he’s writing about are the many business ventures he either owns or invests in, including the Mavs. InvestorPlace - Stock Market News, Stock Advice & Trading Tips It’s hard to believe, but I’m actually 100% in agreement with the Shark Tank co-host. Here’s why. The last time I wrote about Dogecoin was in early April. My discussion revolved around the idea that you now can buy team jerseys for your murderball, dodgeball, or whatever type of team jersey you desire with your stash of DOGE. Wooter Apparel does really well by selling team jerseys online. To keep doing well, it believes accepting Dogecoin makes good business sense. I couldn’t agree more. “Wooter now believes crypto and blockchain technology can help facilitate global payments, and that news couldn’t come at a better time as sports starts to ‘open back up’ on a local, regional, national, and international level,” Wooter stated in its March press release. I used an example from the 1950s — the Diners Club charge card — to explain that its convenience and utility made the card an instant hit. Cuban’s tweet confirms that Wooter Apparel is on to something. Rather than trying to be everything to everyone, Dogecoin is just trying to be a useful application in today’s world. And if you happen to make money off it, so much the better. What’s sad about the world we live in is that it takes a joke about Bitcoin (CCC:BTC-USD) to create something practical that could ultimately take the place of the U.S. greenback. I’m not saying that it should',\n",
       "  'By Subrat Patnaik and Bhargav Acharya (Reuters) -Billionaire Elon Musk and cryptocurrency aficionado on Tuesday asked https://bit.ly/33xrDHR his 54 million followers on Twitter \"Do you want Tesla to accept Doge?,\" referring to a digital currency worth roughly 48 cents with no real-world use. The question, in the form of a Twitter poll, comes days after he called dogecoin a \"hustle,\" sending the meme-inspired cryptocurrency\\'s price reeling after a 700% rally in a month. A proponent of digital currencies, the Tesla Inc chief executive made the comment as a guest host on the \"Saturday Night Live\" TV show this past weekend. Musk is one of the world\\'s richest people and owner of several futuristic companies, including SpaceX and Neuralink. He has used his candid Twitter feed to give his opinion on cryptocurrencies, including bitcoin, most times affecting their price. In March, Musk said U.S. customers could purchase Tesla vehicles with bitcoin, marking a significant step forward for the cryptocurrency\\'s use in commerce. The electric-car maker had bought $1.5 billion worth of bitcoin earlier this year, propelling its prices to record highs. Based on current prices, one would need nearly 80,000 dogecoins or 0.7 bitcoin to buy the cheapest Tesla Model 3 car. Dogecoin was last up 9% at $0.507, according to data tracker CoinGecko.com. Musk\\'s poll on dogecoin received over 3.3 million responses in the 12 hours since he posted it, with nearly 80% of the respondents voting to ratify the new payment method. It comes just days after Musk said that SpaceX would accept dogecoin as payment to launch a lunar mission next year. The limited supply of bitcoin helps drive its value as the digital currency gradually gains acceptance for commercial transactions. Whereas dogecoin, which began as a social media joke in 2013 with a shiba inu dog as its avatar, has an unlimited supply and remains seldom used to make payments for goods. Dogecoin jumped more than 700% over the last month and is now the fourth-largest digital currency. It hit a record high Thursday above 73 cents. The billionaire\\' s tweets have drawn SEC scrutiny in the',\n",
       "  'Dogecoin tumbled by 21.09% on Monday. Following on from a 10.34% slide on Sunday, Dogecoin ended the day at $0.4508. A mixed start to the day saw Dogecoin rise to an early morning intraday high $0.5728 before hitting reverse. Falling short of the first major resistance level at $0.7090, Dogecoin tumbled to a late intraday low $0.4210. Dogecoin fell through the 23.6% FIB of $0.5691, the 38.2% FIB of $0.4618, and the first major support level at $0.4273. Finding late support, however, Dogecoin broke back through first major support level and the 38.2% FIB to revisit $0.47 levels before easing back. The pullback saw Dogecoin fall back through the 38.2% FIB to end the day at sub-$0.46 levels. At the time of writing, Dogecoin was up by 2.36% to $0.4615. A mixed start to the day saw Dogecoin fall to an early morning low $0.4434 before rising to a high $0.4765. While leaving the major support and resistance levels untested early on, Dogecoin broke through the 38.2% FIB of $0.4618. Dogecoin would need to move back through the 38.2% FIB of $0.4618 and the $0.4815 pivot to bring the first major resistance level at $0.5421 into play. Support from the broader market would be needed, however, for Dogecoin to break back through to $0.50 levels. Barring an extended crypto rally, the first major resistance level and the 23.6% FIB of $0.5691 would likely cap any upside. In the event of another breakout, Dogecoin could test resistance at $0.70. The second major resistance level sits at $0.6333. Failure to move back through the 38.2% FIB and the $0.4815 pivot would bring the first major support level at $0.3903 into play. Barring another extended sell-off, however, Dogecoin should steer clear of sub-$0.35 levels. The second major support level sits at $0.3297. First Major Support Level: $0.3903 Pivot Level: $0.4815 First Major Resistance Level: $0.5421 23.6% FIB Retracement Level: $0.5691 38.2% FIB Retracement Level: $0.4618 62% FIB Retracement Level: $0.2882 Please let us know what you think in the comments below. Thanks, Bob This article was originally posted on FX Empire  DraftKings',\n",
       "  'The value of dogecoin (DOGE) plummeted from record highs after Elon Musk’s Saturday Night Live (SNL) appearance, disappointing investors who tried to push the coin to $1 (£0.72).\\xa0 Analysts had expected the Tesla (TSLA) CEO or the \"Dogefather\" to mention the meme-inspired crypto on SNL and send prices spiking, instead his plug saw the coin crash nearly 25% from $0.69 to $0.48 a few minutes into his stint.\\xa0 Dogecoin continued to lose its gains from last week on Sunday, currently trading 33% lower to $0.47.\\xa0 Flagship crypto, Bitcoin (BTC-USD), which has been up and down in recent days and struggling to keep up its record highs, was down 2.2% to $57,894. Bucking the downward spiral, Ethereum (ETH-USD) — the second largest cryptocurrency — took off on the decline, rising over 11% to record highs of $3,958.\\xa0 Cryptocurrencies have been gaining more popularity in recent months after a number of financial institutions and well known investors threw their weight behind crypto and blockchain technologies, sending prices skyrocketing. While this has been great for its prices, it has also put it under the watchful eyes of governments and regulators who want to hone in on the sector amid rising demand. On Thursday, Bank of England (BOE) governor, Andrew Bailey downplayed the rising value of cryptos. Bailey said cryptocurrencies have no \"intrinsic value\" and people who invest in them should be \"prepared to lose all [their] money.\" The governor\\'s comments echoed similar warnings from the UK\\'s financial watchdog. \"Investing in cryptoassets, or investments and lending linked to them, generally involves taking very high risks with investors’ money,\" the Financial Conduct Authority said in January. Read more: The history of Dogecoin, the joke coin that\\'s worth more than Barclays and Lloyds Last week, popular exchange Gemini announced support for dogecoin, after eToro added it to its online trading app on Tuesday. This helped push its market cap to over $70bn earlier in the week to become the fourth-most valued coin, according to Coinmarket. This was bigger than the market cap of COVID vaccine producer Moderna (MRNA), as well as Ford Motor Company (F) and'],\n",
       " 'GME': [\"NEW YORK, May 06, 2021 (GLOBE NEWSWIRE) -- Wall Street Reporter, the trusted name in financial news since 1843, has published reports on the latest comments and insights from leaders at: GameStop Corp. (NYSE: GME), ESE Entertainment (TSX.V: ESE) (OTC: ENTEF), Sea Limited (NYSE: SE), and Electronic Arts (NASDAQ: EA). Video games and esports are booming globally, with massive growth coming from India, Latin America, and Asia. Wall Street Reporter highlights the latest comments from industry thought leaders: Sea Limited (NYSE: SE) Forrest Li, Chairman and Group CEO: “Strengthening Position as Global Leader in Digital Entertainment”  “...Garena's outstanding performance in the previous quarter continued in the fourth quarter as we recorded bookings of $1 billion, up 111% year on year. Every quarter, more gamers globally engaged with our in-game content and e-sport activity. In the fourth quarter, quarterly active users reached 610.6 million, an increase of 72% year on year. Quarterly paying users hit 73.1 million, up 120% year on year...Free Fire was once again a key driver of Garena's outperformance. According to App Annie, it continues to be the highest-grossing mobile game in Latin America and Southeast Asia in the fourth quarter, as well as the full year of 2020. It has maintained the top ranking for six consecutive quarters. The strong performance was also evident in India where Free Fire was the hype of working mobile game for the fourth quarter and for the full year of 2020 based on App Annie...As we continue to grow the Free Fire user base worldwide and then build even tighter bonds with global gamers, we believe that Free Fire is still formally establishing itself as a strong global gaming franchise and platform…” “As we move through 2021, Garena is building on the strong momentum of 2020 and it's strengthening our position as the global leader in the digital entertainment industry. We believe that our uniquely newfound understanding of the taste and the preferences of global games community and our proven ability -- ability to build lasting bonds of affinity with gamers in diverse markets around the world will continue to\",\n",
       "  'Shark Tank investor Kevin O’Leary may agree with billionaire investor Warren Buffett, and his right-hand man, Charlie Munger, on a number of things. The trading app Robinhood, isn’t one of them. The chairman of O’Shares ETF told Yahoo Finance Live, “I have ultimate respect for Charlie Munger. I’m a huge fan of his philosophy of investing. That doesn’t mean I can’t disagree with him on an issue like this.” At Berkshire Hathaway’s annual shareholder meeting in May, Munger tore into Robinhood, accusing the trading app, and others like it, of encouraging amateur investors to gamble on stocks and dabble with risky options trading. \"It\\'s just god-awful that something like that would draw investment from civilized men and decent citizens. It\\'s deeply wrong. We don\\'t want to make our money selling things that are bad for people,\" Munger said. The online broker that is wildly popular with Reddit-fueled day traders and other retail investors snapped back on a blog post saying: “If the last year has taught us anything, it is that people are tired of the Warren Buffetts and Charlie Mungers of the world acting like they are the only oracles of investing. And at Robinhood, we’re not going to sit back while they disparage everyday people for taking control of their financial lives.” O’Leary called Robinhood a “misunderstood platform.” “I think what both Warren and Charlie may not have considered is Robinhood, with its 20-plus million accounts, has done a great service for people who never invested in a stock before,” he added. Robinhood, which has plans to become a publicly traded company this year, came under fire and drew Congressional and regulatory scrutiny in the wake of a trading frenzy in February surrounding meme stocks GameStop (GME) and AMC (AMC). The trading app was also hit with class action lawsuits by customers who accused Robinhood of favoring Wall Street pros over retail investors when it placed temporary trading curbs on those stocks. O’Leary said he spoke with Robinhood’s co-founder and CEO Vlad Tenev to offer “moral support” shortly before he testified before Congress. “[Vlad] actually has built a',\n",
       "  'Investors in GameStop Corp. GME need to pay close attention to the stock based on moves in the options market lately. That is because the Apr 30, 2021 $690.00 Call had some of the highest implied volatility of all equity options today. Implied volatility shows how much movement the market is expecting in the future. Options with high levels of implied volatility suggest that investors in the underlying stocks are expecting a big move in one direction or the other. It could also mean there is an event coming up soon that may cause a big rally or a huge sell-off. However, implied volatility is only one piece of the puzzle when putting together an options trading strategy. Clearly, options traders are pricing in a big move for GameStop shares, but what is the fundamental picture for the company? Currently, GameStop is a Zacks Rank #3 (Hold) in the Retail - Consumer Electronics industry that ranks in the Top 43% of our Zacks Industry Rank. Over the last 60 days, no analysts have increased their earnings estimates for the current quarter, while four analysts have revised the estimates downward. The net effect has widened our Zacks Consensus Estimate for the current quarter from a loss of 41 cents per share to a loss of 56 cents in that period. Given the way analysts feel about GameStop right now, this huge implied volatility could mean there’s a trade developing. Oftentimes, options traders look for options with high levels of implied volatility to sell premium. This is a strategy many seasoned traders use because it captures decay. At expiration, the hope for these traders is that the underlying stock does not move as much as originally expected. Check out the simple yet high-powered approach that Zacks Executive VP Kevin Matras has used to close recent double and triple-digit winners. In addition to impressive profit potential, these trades can actually reduce your risk. Click to see the trades now >> Want the latest recommendations from Zacks Investment Research? Today, you can download 7 Best Stocks for the Next 30 Days. Click to get',\n",
       "  \"We at Insider Monkey have gone over 887 13F filings that hedge funds and prominent investors are required to file by the SEC The 13F filings show the funds' and investors' portfolio positions as of December 31st. In this article, we look at what those funds think of GameStop Corp. (NYSE:GME) based on that data. Is GME stock a buy? GameStop Corp. (NYSE:GME) has experienced a decrease in enthusiasm from smart money recently. GameStop Corp. (NYSE:GME) was in 27 hedge funds' portfolios at the end of December. The all time high for this statistic is 36. There were 28 hedge funds in our database with GME positions at the end of the third quarter. Our calculations also showed that GME isn't among the 30 most popular stocks among hedge funds (click for Q4 rankings). Hedge funds' reputation as shrewd investors has been tarnished in the last decade as their hedged returns couldn't keep up with the unhedged returns of the market indices. Our research was able to identify in advance a select group of hedge fund holdings that outperformed the S&P 500 ETFs by more than 124 percentage points since March 2017 (see the details here). Lee Ainslie of Maverick Capital At Insider Monkey we leave no stone unturned when looking for the next great investment idea. For example, auto parts business is a recession resistant business, so we are taking a closer look at this discount auto parts stock that is growing at a 196% annualized rate. We go through lists like the 15 best micro-cap stocks to buy now to identify the next stock with 10x upside potential. Even though we recommend positions in only a tiny fraction of the companies we analyze, we check out as many stocks as we can. We read hedge fund investor letters and listen to stock pitches at hedge fund conferences. You can subscribe to our free daily newsletter on our website. Now let's view the latest hedge fund action surrounding GameStop Corp. (NYSE:GME). At fourth quarter's end, a total of 27 of the hedge funds tracked by Insider Monkey were long\",\n",
       "  \"GameStop (GME) closed the most recent trading day at $151.18, moving +0.01% from the previous trading session. The stock lagged the S&P 500's daily gain of 1.09%. Coming into today, shares of the video game retailer had lost 17.73% in the past month. In that same time, the Retail-Wholesale sector lost 0.67%, while the S&P 500 gained 5.05%. GME will be looking to display strength as it nears its next earnings release. On that day, GME is projected to report earnings of -$0.56 per share, which would represent year-over-year growth of 65.22%. Our most recent consensus estimate is calling for quarterly revenue of $1.2 billion, up 17.64% from the year-ago period. GME's full-year Zacks Consensus Estimates are calling for earnings of -$0.73 per share and revenue of $5.66 billion. These results would represent year-over-year changes of +65.89% and +11.29%, respectively. Any recent changes to analyst estimates for GME should also be noted by investors. These revisions typically reflect the latest short-term business trends, which can change frequently. With this in mind, we can consider positive estimate revisions a sign of optimism about the company's business outlook. Research indicates that these estimate revisions are directly correlated with near-term share price momentum. To benefit from this, we have developed the Zacks Rank, a proprietary model which takes these estimate changes into account and provides an actionable rating system. The Zacks Rank system ranges from #1 (Strong Buy) to #5 (Strong Sell). It has a remarkable, outside-audited track record of success, with #1 stocks delivering an average annual return of +25% since 1988. The Zacks Consensus EPS estimate has moved 8.96% lower within the past month. GME is currently a Zacks Rank #3 (Hold). The Retail - Consumer Electronics industry is part of the Retail-Wholesale sector. This group has a Zacks Industry Rank of 115, putting it in the top 46% of all 250+ industries. The Zacks Industry Rank includes is listed in order from best to worst in terms of the average Zacks Rank of the individual companies within each of these sectors. Our research shows that the top 50% rated industries\",\n",
       "  'If you are looking for a stock that has a solid history of beating earnings estimates and is in a good position to maintain the trend in its next quarterly report, you should consider GameStop (GME). This company, which is in the Zacks Retail - Consumer Electronics industry, shows potential for another earnings beat. This video game retailer has an established record of topping earnings estimates, especially when looking at the previous two reports. The company boasts an average surprise for the past two quarters of 13.17%. For the last reported quarter, GameStop came out with earnings of $1.34 per share versus the Zacks Consensus Estimate of $1.46 per share, representing a surprise of 8.22%. For the previous quarter, the company was expected to post earnings of $0.81 per share and it actually produced earnings of $0.53 per share, delivering a surprise of 34.57%. Price and EPS Surprise Thanks in part to this history, there has been a favorable change in earnings estimates for GameStop lately. In fact, the Zacks Earnings ESP (Expected Surprise Prediction) for the stock is positive, which is a great indicator of an earnings beat, particularly when combined with its solid Zacks Rank. Our research shows that stocks with the combination of a positive Earnings ESP and a Zacks Rank #3 (Hold) or better produce a positive surprise nearly 70% of the time. In other words, if you have 10 stocks with this combination, the number of stocks that beat the consensus estimate could be as high as seven. The Zacks Earnings ESP compares the Most Accurate Estimate to the Zacks Consensus Estimate for the quarter; the Most Accurate Estimate is a version of the Zacks Consensus whose definition is related to change. The idea here is that analysts revising their estimates right before an earnings release have the latest information, which could potentially be more accurate than what they and others contributing to the consensus had predicted earlier. GameStop has an Earnings ESP of +63.96% at the moment, suggesting that analysts have grown bullish on its near-term earnings potential. When you combine this positive Earnings',\n",
       "  'In early 2021, the Texas-based video game retailer GameStop dominated the financial news when its stock price skyrocketed amid a buying frenzy. GameStop (GME), which trades on the New York Stock Exchange, has been marked by its dramatic volatility. The stock opened 2021 trading at just $19 per share and surged to $483 in the first month of the year. The activity was fueled by a short squeeze hatched on the r/wallstreetbets Reddit forum. If you missed out on the initial GME rush and are thinking of buying shares now, consider working with a financial advisor to create a holistic investment plan. How to Buy GME Stock With a Brokerage Account Any investor can buy GameStop stock through a broker. Remember, the stock trades on the New York Stock Exchange under the GME ticker. If you don’t already have a brokerage account, you’ll need to set one up before you start trading. Once you have an account, determine how many shares of GME stock you want to purchase and at what price you’re comfortable buying it at. When you’re ready to place an order you can choose between using a market order or limit order. The former enables you to purchase stock at its current market price. A limit order, however, allows you to set the maximum price you’re willing to pay for a share. Keep in mind that if you can’t afford a full share of GME or other stocks, online brokerages allow you to invest in fractional shares. Using this option, you can invest any dollar amount in GME stock. How to Buy GME Stock With a Financial Advisor You don’t have to buy and sell stocks yourself. A financial advisor can execute trades on your behalf and provide expert advice that extends beyond buying and selling GME stock. GME’s dramatic volatility earned it plenty of media attention in 2021. A financial professional can help you choose when to buy and sell GME stock, and integrate your shares into a diversified portfolio that mitigates risk. Company Overview of GameStop Headquartered in Grapevine, Texas, GameStop is the world’s largest',\n",
       "  \"GameStop (GME) closed at $176.19 in the latest trading session, marking a -1.34% move from the prior day. This move lagged the S&P 500's daily gain of 0.68%. Heading into today, shares of the video game retailer had lost 5.92% over the past month, lagging the Retail-Wholesale sector's gain of 2.18% and the S&P 500's gain of 5.41% in that time. Wall Street will be looking for positivity from GME as it approaches its next earnings report date. The company is expected to report EPS of -$0.56, up 65.22% from the prior-year quarter. Meanwhile, our latest consensus estimate is calling for revenue of $1.2 billion, up 17.64% from the prior-year quarter. For the full year, our Zacks Consensus Estimates are projecting earnings of -$0.68 per share and revenue of $5.66 billion, which would represent changes of +68.22% and +11.29%, respectively, from the prior year. Investors might also notice recent changes to analyst estimates for GME. These recent revisions tend to reflect the evolving nature of short-term business trends. With this in mind, we can consider positive estimate revisions a sign of optimism about the company's business outlook. Research indicates that these estimate revisions are directly correlated with near-term share price momentum. We developed the Zacks Rank to capitalize on this phenomenon. Our system takes these estimate changes into account and delivers a clear, actionable rating model. The Zacks Rank system ranges from #1 (Strong Buy) to #5 (Strong Sell). It has a remarkable, outside-audited track record of success, with #1 stocks delivering an average annual return of +25% since 1988. The Zacks Consensus EPS estimate has moved 9.07% higher within the past month. GME currently has a Zacks Rank of #3 (Hold). The Retail - Consumer Electronics industry is part of the Retail-Wholesale sector. This group has a Zacks Industry Rank of 38, putting it in the top 15% of all 250+ industries. The Zacks Industry Rank gauges the strength of our individual industry groups by measuring the average Zacks Rank of the individual stocks within the groups. Our research shows that the top 50% rated industries outperform the bottom\",\n",
       "  'GameStop Corp.’s GME shares continued to exhibit strength and jumped roughly 12% on Apr 26 during the trading session. The company stated that it has completed the sale of 3.5 million shares of its common stock through the “at-the-market” equity offering program (the “ATM Offering”). It generated collective gross proceeds before commissions and offering expenses of roughly $551 million.Management will utilize the net proceeds toward accelerating GameStop’s transformation and for general corporate functions along with strengthening the balance sheet. Industry experts opine that the company’s action of selling shares helped it to cash in on the massive price surge witnessed since January due to potential short-squeeze events.On Apr 5, the company had filed a prospectus supplement with the U.S. Securities and Exchange Commission, wherein it can offer and sell up to a ceiling of 3,500,000 shares of common stock from time to time via the ATM Offering. We note that GameStop had also issued an irrevocable notice to redeem $216.4 million in principal amount of its 10% Senior Notes due 2023. This covers the full amount of the outstanding Notes, thus representing its entire long-term debt.In order to accelerate transformation, the Zacks Rank #3 (Hold) company has been undertaking board restructuring. It has formed a Strategic Planning and Capital Allocation Committee. Since the formation of this committee, GameStop has appointed several board executives with significant experience in e-commerce, customer care and technology. Moreover, the influx of cash through the latest equity offering will further strengthen the company to undertake radical transformation initiatives. Such moves are expected to help the company evolve into a strong and digitally advanced player in the gaming industry. GameStop has been gaining from continued rise in e-commerce. Notably, the company’s e-commerce sales surged 175% during the fourth quarter of fiscal 2020. Markedly, e-commerce sales increased 257%, 800% and 519% during the third, the second and the first quarter of fiscal 2020, respectively. During the fourth quarter, total e-commerce sales contributed 34% to total net sales. Results gained from increase in demand for consoles as the company transitioned from generation eight to generation nine console gaming products.Management',\n",
       "  \"From David Einhorn's Q1 2021 letter to investors. [soros] Q1 2021 hedge fund letters, conferences and more Much has been made of the short-squeezes in late January. In fact, Congress held hearings, where it called the leaders of Robinhood, Melvin Capital and Citadel and an individual investor who made a great call on GameStop (NASDAQ:GME) to testify. We have a few thoughts about this to share. First, it is very healthy for market participants to discuss and debate stocks. This is true both privately and publicly. There are rules about fraud and manipulation that need to be followed, but investors discussing why they think GME (or any other stock) should go up or down ought to be encouraged. There is no reason to drag anyone before Congress for making a stock pick. Second, it is also fine to make bad stock picks. If a hedge fund takes a big position in a stock and is wrong, it loses money. Isn’t this how it is supposed to work? Third, payment for order flow is just disguised commissions. We are in a world where consumers, especially young ones, expect internet services to be free, or at least free to them. A quote widely attributed to Richard Serra about commercial TV in 1973 says it best: “You’re not the customer; you’re the product.”4 If you want the broker to work for you, pay a commission. Fourth, Robinhood suspended trading in certain stocks because it was undercapitalized. It is possible that it wasn’t following the regulatory requirements. A regulatory sanction is probably appropriate – but as we’ll discuss below, we won’t be holding our breath. Q1 2021 hedge fund letters, conferences and more Finally, we note that the real jet fuel on the GME squeeze came from Chamath Palihapitiya and Elon Musk, whose appearances on TV and Twitter, respectively, at a critical moment further destabilized the situation. Mr. Palihapitiya controls SoFi, which competes with Robinhood, and left us with the impression that by destabilizing GME he could harm a competitor. As for Mr. Musk, we are going to defend him, half-heartedly. If regulators wanted\"],\n",
       " 'TSLA': ['Tesla Video 11.05.21. Tesla shares opened with a gap down today after Reuters reported that the company had paused plans to expand its Shanghai plant. According to the report, the reason for this decision is the uncertainty related to U.S. – China tensions. While the current U.S. President Joe Biden is not using harsh rhetoric against China like former President Donald Trump, the course of U.S. – China relations has not changed. Other electric vehicle stocks like NIO or Li Auto have also moved lower at the start of today’s trading session but managed to attract buyers and moved closer to the positive territory. The continued deterioration of U.S. – China relations can hurt both Tesla and Chinese electric vehicle makers. Tesla had a rough start of the week as tech stocks were under pressure due to inflation worries. Earnings estimates for 2021 and 2022 have continued to move higher in recent weeks but Tesla is still trading at 97 forward P/E for 2022. This is an extremely rich valuation which makes Tesla shares dependent on market mood in the near term. It looks that market sentiment towards tech stocks has become more bearish in May. The tech-heavy Nasdaq made several attempts to get to new highs back in April but failed to develop sufficient upside momentum and pulled back towards March 2021 levels. Inflation worries are growing, and investors start to pay some attention to valuations. In this environment, disappointing news finally begin to serve as bearish catalysts for tech stocks. In Tesla’s case, worries about U.S. – China tensions look reasonable as current tariffs imposed on Chinese electric vehicles will likely remain intact for the foreseable future. In addition, the broad-based sell-off in the tech space may continue as investors have a good reason to take some profits off the table after a huge bull run from the lows that were reached back in March 2020. At the same time, it should be noted that Tesla is down by more than 30% from highs that were seen at the beginning of this year, and the continuation of the',\n",
       "  'Elon Musk has asked his Twitter followers whether Tesla should start accepting Dogecoin in payment for its vehicles. The proposal immediately gained overwhelming support from his followers: within 10 minutes of posting a poll, some 400,000 people had voted. Almost 80 per cent of respondents had said yes. Any corporate support from Tesla would likely help further accelerate the growth of the cryptocurrency, which was originally created as something of a joke, themed around an internet-famous shiba inu. But Tesla would also have to contend with the wild fluctuations in the value of the digital currency. It has gained almost 10,000 per cent in 2021, but has at the same time often seen sharp drops in its price. The proposal comes just a day after Mr Musk said his other company, SpaceX, would be launching a satellite called “Doge-1” to the Moon next year. The mission would be fully paid for in the cryptocurrency, allowing it to become both the “first crypto” and “first meme” in space, he noted. Tesla has already begun accepting bitcoin as payment, and bought a huge tranche of the cryptocurrency earlier this year. At times, it has been making considerably more profit from gains in bitcoin’s value than it has from its core business of selling vehicles. Experts noted that the backing of Tesla helped give significant legitimacy to bitcoin, and that it likely helped drive some of its recent growth. In the few minutes after Tesla made its announcement in February that it would support bitcoin, the price rose 14 per cent and took it to what was then an all-time high. Mr Musk’s show of support for Dogecoin comes after a relatively weak few days for the price of the cryptocurrency. After hitting an all-time high on Saturday, it has gradually dropped in price, and is down 0.6 per cent over the last 24 hours. Much of the mechanics behind that rise and fall seemed to be the result of Mr Musk’s widely trailed appearance on Saturday Night Live. In advance of the show, the price had gradually risen – but then dropped',\n",
       "  '(Bloomberg) -- Tesla Inc. shares slumped in early trading as fresh signs of trouble emerged for its China business while Elon Musk polled Twitter followers on whether the carmaker should accept Dogecoin. China’s Passenger Car Association said Tuesday that Tesla sold 25,845 locally made vehicles in April, a 27% drop from March. Reuters reported separately that the Model 3 maker decided against acquiring more land next to its Shanghai plant, as U.S.-China trade tensions undercut plans to turn the site into an export hub. While Musk has been playing damage control during what has been a turbulent few months in China, he’s also been preoccupied with Dogecoin, the cryptocurrency started years ago as a joke that has gained value in part thanks to the billionaire’s attention. The token spiked to about 54 cents from 46 cents after Musk asked his almost 54 million followers whether Tesla should accept it as the company has with Bitcoin. Shares of Tesla -- which recently warned investors the digital assets it’s acquiring could be subject to volatile prices and risk of losses -- slumped as much as 4.4% before the start of regular trading. China Troubles Tesla’s issues in China started in March when its EVs were prohibited from some military complexes and housing compounds because of concerns about sensitive data being collected by cameras and sensors in its vehicles. Shortly after the ban became public, Musk said during a virtual appearance at a conference in China that the automaker would never use technology in its vehicles for spying and would be closed down if it did. In April, a highly public protest by a customer during the Shanghai auto show went viral, prompting deeper investigation by a local market regulator and heated criticism of Tesla’s customer service. The company initially played down the incident but quickly struck a more conciliatory tone after criticism mounted. Reuters said that because 25% tariffs put on electric vehicles under former President Donald Trump are still in place, Tesla now intends to limit China’s portion of its global production, citing unidentified people familiar with the matter. The company',\n",
       "  '(Reuters) - Tesla Inc\\'s top boss Elon Musk said in a series of tweets on Wednesday that the company expects to release a significantly improved version of its full self-driving technology within the next two to three weeks. Subscriptions to the software for the system would be offered within a month, Musk said in a Twitter exchange without elaborating further. The news is just a week after the company told California\\'s Department of Motor Vehicles that it may not achieve full self-driving technology by the end of this year. Tesla has released what it describes as a beta version of its full self-driving program to a limited number of employees and customers since October. Musk has touted the capability on Twitter. Musk\\'s tweets also said Tesla\\'s \"Smart Summon\" feature would be available by the end of this year in Europe, along with its full self-driving technology. The Smart Summon feature, which is already available in the United States, allows drivers to use a phone app to summon their vehicle in a parking lot provided the car is within 200 feet and in their line of sight. The technology enhancement comes amid growing scrutiny over Tesla\\'s semi-automated driving system following recent accidents. (Reporting by Eva Mathews in Bengaluru; Editing by Bernard Orr) Related Quotes Tesla Inc is seeking to enter the multi-billion dollar U.S. renewable credit market, hoping to profit from the Biden administration\\'s march toward new zero-emission goals, two sources familiar with the matter said.  The electric car maker is one of at least eight companies with a pending application at the Environmental Protection Agency tied to power generation and renewable credits, the sources said.  The EPA produces a list of pending applications with some details, but not companies\\' names. Futures fell ahead of CPI data amid rising inflation fears. More data confirmed plunging Tesla sales in China Apple, Facebook and Roblox are among stocks at key levels. Cryptocurrency’s value has risen significantly since the beginning of this year The Dow Jones is climbing to a record high this Monday morning amid strong gains in energy The direction',\n",
       "  '(Bloomberg) -- Tesla Inc. is about to lose one source of the regulatory-credit revenue that’s been crucial to its almost two-year run of consecutive quarterly profits. Stellantis NV, the automaker formed through the merger of PSA Group and Fiat Chrysler, announced Wednesday it is exiting a European emissions-credit agreement with Tesla. Complying with standards on its own will save the company about 300 million euros ($360 million), roughly two-thirds of which would have gone to Tesla, Chief Financial Officer Richard Palmer said. “Stellantis will be in a position to achieve CO2 targets in Europe for 2021 without open passenger-car pooling arrangements with other automakers,” the company said in an emailed statement. A Tesla representative didn’t immediately respond to a request for comment. Tesla has steadily increased sales of regulatory credits to carmakers that need help complying with emissions standards that are getting stricter in Europe, China and the U.S. The revenue goes straight to the electric-car maker’s bottom line and has routinely exceeded net income on a generally accepted accounting principles, or GAAP, basis. Without the credit sales in recent quarters, the company would have recorded losses. Stellantis Chief Executive Officer Carlos Tavares first announced the plan to end its agreement with Tesla in an interview with the French weekly Le Point. The company will consider partnering in the future with Tesla, if necessary, in other regions in order to achieve the lowest cost of compliance. Fiat Chrysler first announced credit-purchasing agreements with Tesla in May 2019, saying then that it would cost the company 1.8 billion euros over three years. The company is now paired up with PSA’s lineup of plug-in hybrid and fully electric models, which will continue to expand this year. It has scheduled an EV-related investor day for July 8. Stellantis shares rose as much as 5.9% in New York trading, while Tesla advanced as much as 1.7%. (Updates with savings in the second paragraph.) For more articles like this, please visit us at bloomberg.com Subscribe now to stay ahead with the most trusted business news source. ©2021 Bloomberg L.P. Related Quotes JPMorgan will step up',\n",
       "  'Tesla (TSLA) posted first-quarter profit that handily exceeded estimates, with the results dovetailing the record deliveries the electric vehicle-maker reported during the first three months of 2021. However, first-quarter revenue came up slightly short of expectations, and shares dipped by about 1% in late trading.\\xa0 Here were the main results from Tesla\\'s report on Monday, compared to consensus estimates compiled by Bloomberg: Q1 Revenue: $10.39 billion vs. $10.42 billion expected and $5.99 billion Y/Y\\xa0 Q1 Adjusted earnings per share: 93 cents vs. 80 cents expected and 23 cents Y/Y Earlier in April, Tesla reported first-quarter vehicle deliveries that set a record at 184,800, with the vast majority comprised of the more affordable Models 3 and Y. The record number of hand-overs came even as Tesla and the broader auto industry contended with a protracted semiconductor shortage, and ongoing disruptions stemming from COVID-19.\\xa0 The results boded well for the electric vehicle-maker\\'s first-quarter operating results, which saw the company post yet another quarterly profit. Automotive gross margins unexpectedly expanded by more than 1 percentage point to 26.5%, with cost-cutting helping expand profitability even as sales of Tesla\\'s lower-priced models strongly outpaced those of its higher-margin Model S and X vehicles.\\xa0 In its letter to shareholders Monday, Tesla said it still plans to achieve 50% average annual growth in vehicle deliveries over a multi-year horizon, reiterating the target CEO Elon Musk floated on the company\\'s January earnings call. Last year, Tesla delivered just under half a million vehicles, coming up just short of Wall Street\\'s estimates at the time. \"In some years we may grow faster, which we expect to be the case in 2021,\" Tesla said. \"The rate of growth will depend on our equipment capacity, operational efficiency and capacity and stability of the supply chain.\" The ramp-up of production at Tesla\\'s Shanghai Gigafactory, which began delivering vehicles to customers in China in January last year, and its forthcoming facilities in Berlin and Texas are set to help achieve this goal. Both in-progress Gigafactories in Berlin and Texas are on track to begin production and deliveries this year, Tesla said Monday. And',\n",
       "  'Tech stocks have gotten short-circuited so far this week, crushed under the weight of the lofty expectations built into them by profit-hungry investors.\\xa0 The Nasdaq Composite fell close to 1% in early trading on Tuesday, extending its five-day loss to 2.1%. But underneath the hood of the Nasdaq tells the broader story of a market losing a bit of risk appetite.\\xa0 Tesla shares dropped by as much as 5% in today\\'s session, and was the top trending ticker on Yahoo Finance around noon ET. Virgin Galactic lost 6%, while Apple shed about 2%.\\xa0 Yahoo Finance takes a quick look at what could be driving the reassessment of richly valued tech stocks by Mr. Market.\\xa0 Cleveland Federal Reserve President Loretta Mester sparked concern on stock valuations and inflation in an exclusive interview with our Brian Cheung on Yahoo Finance Live.\\xa0 \"My read is that there is certainly in terms of equity prices there is upward — they are high. There is upward valuation pressure there,\" Mester said.\\xa0 Mester also appeared to be open to letting inflation run hot — something tech investors probably didn\\'t want to hear. In effect, it raises the potential for the Fed to perhaps lift rates in 2022 to combat inflation, which is often not a good backdrop for investors in tech who prefer to invest alongside low interest rates.\\xa0 The Fed’s target on inflation is 2%. “Seeing inflation move up to two and somewhat above 2 [percent] is not a problem,” Mester said in the interview. The week didn\\'t start well for tech investors as a note out by Goldman Sachs on tech profits was widely chatted about on the Street.\\xa0 \"If the Biden corporate tax plan were fully enacted, FAAMG [Facebook, Apple, Amazon, Microsoft and Google] 2022 estimated earnings would decrease by roughly 9% relative to consensus expectations,\" Goldman Sachs chief U.S. equity strategist David Kostin said.\\xa0 The Biden administration is seeking to lift the corporate tax rate to 28% from the Trump-era\\'s 21%. He is also readying to increase the capital gains tax on the wealthiest Americans to 43.4%, including a surtax to help',\n",
       "  \"(Reuters) - The California Highway Patrol is investigating why a Tesla vehicle crashed into an overturned truck on a highway near Fontana, California, killing the Tesla's driver and injuring the truck driver and a motorist who had stopped to help him, the agency said on Wednesday. The highway patrol report did not say whether the Tesla was operating on Autopilot, its semi-autonomous driving system, when the crash occurred at about 2:40 a.m. Wednesday. The Mack truck had crashed and overturned five minutes earlier, blocking two lanes of the highway, the report said. The 50-year-old truck driver and the 30-year-old motorist who stopped to help him both sustained major injuries, the police report said. The 35-year-old man driving the Tesla was not identified in the report. Federal highway safety regulators are investigating 24 accidents involving Tesla vehicles operating on Autopilot. Officials of the National Highway Traffic Safety Administration did not have an immediate comment. Tesla could not be reached immediately for comment. Tesla Chief Executive Elon Musk has said that a Tesla operating on Autopilot, which partially automates steering, braking and speed control, is safer than a car operated solely by a human driver. (Reporting by Joe White; Editing by Leslie Adler) Related Quotes U.S. electric car maker Tesla Inc has halted plans to buy land to expand its Shanghai plant and make it a global export hub, people familiar with the matter said, due to uncertainty created by U.S.-China tensions.  With 25% tariffs on imported Chinese electric vehicles imposed on top of existing levies under former U.S. President Donald Trump still in place, Tesla now intends to limit the proportion of China output in its global production, two of the four people said.  Tesla had earlier considered expanding exports of its China-made entry-level Model 3 to more markets, including the United States, sources told Reuters, a plan that had not previously been reported. JPMorgan will step up the return of all of its employees in England to working at least part of their week in its offices from June 21st, according to a memo seen by Reuters on\",\n",
       "  \"In the latest trading session, Tesla (TSLA) closed at $738.85, marking a +0.9% move from the previous day. This change lagged the S&P 500's 1.11% gain on the day. Coming into today, shares of the electric car maker had gained 12.62% in the past month. In that same time, the Auto-Tires-Trucks sector lost 0.46%, while the S&P 500 gained 4.72%. Wall Street will be looking for positivity from TSLA as it approaches its next earnings report date. This is expected to be April 26, 2021. On that day, TSLA is projected to report earnings of $0.79 per share, which would represent year-over-year growth of 216%. Meanwhile, our latest consensus estimate is calling for revenue of $9.92 billion, up 65.76% from the prior-year quarter. Looking at the full year, our Zacks Consensus Estimates suggest analysts are expecting earnings of $4.27 per share and revenue of $48.7 billion. These totals would mark changes of +90.63% and +54.44%, respectively, from last year. Any recent changes to analyst estimates for TSLA should also be noted by investors. Recent revisions tend to reflect the latest near-term business trends. As a result, we can interpret positive estimate revisions as a good sign for the company's business outlook. Based on our research, we believe these estimate revisions are directly related to near-team stock moves. To benefit from this, we have developed the Zacks Rank, a proprietary model which takes these estimate changes into account and provides an actionable rating system. The Zacks Rank system ranges from #1 (Strong Buy) to #5 (Strong Sell). It has a remarkable, outside-audited track record of success, with #1 stocks delivering an average annual return of +25% since 1988. Over the past month, the Zacks Consensus EPS estimate has moved 5.06% higher. TSLA is currently a Zacks Rank #3 (Hold). Investors should also note TSLA's current valuation metrics, including its Forward P/E ratio of 178.35. This valuation marks a premium compared to its industry's average Forward P/E of 17.52. Also, we should mention that TSLA has a PEG ratio of 5.17. The PEG ratio is similar to the widely-used P/E ratio, but\",\n",
       "  'By Hyunjoo Jin BERKELEY, CALIFORNIA (Reuters) - Tesla Inc told a California regulator that it may not achieve full self-driving technology by the end of this year, a memo by the California Department of Motor Vehicles (DMV) showed. Tesla CEO Elon Musk said during an earnings conference call in January that he was \"highly confident the car will be able to drive itself with reliability in excess of human this year.\" Tesla has also rolled out what it describes as a \"beta\" version of its \"full self-driving\" (FSD) program to a limited number of employees and customers since October, and Musk has touted the capability on Twitter. \"Elon\\'s tweet does not match engineering reality per CJ. Tesla is at Level 2 currently,\" the California DMV said in a memo about its March 9 conference call with Tesla representatives, including autopilot engineer CJ Moore. Level 2 technology refers to a semi-automated driving system, which requires supervision by a human driver. The memo was released by legal transparency group PlainSite, which obtained it under the Freedom of Information Act (FOIA). \"Tesla indicated that Elon is extrapolating on the rates of improvement when speaking about L5 capabilities. Tesla couldn’t say if the rate of improvement would make it to L5 by end of calendar year,\" the memo said, referring to level 5 full autonomous technology. The California DMV, Tesla and Moore were not immediately available for comment. \"Tesla indicated that they are still firmly in L2,\" California DMV said in the memo. \"As Tesla is aware, the public’s misunderstanding about the limits of the technology and its misuse can have tragic consequences.\" The California Highway Patrol is investigating why a Tesla vehicle crashed into an overturned truck on a highway near Fontana, California, on Wednesday, killing the Tesla’s driver. The patrol did not say whether the Tesla was operating on Autopilot or not. Federal highway safety regulators are investigating more than 20 accidents involving Tesla vehicles. (Reporting by Hyunjoo Jin. Editing by Gerry Doyle) Related Quotes Alex Weaver is joined by Kyle Petty from NBC Sports and Jonathan Merryman on this week\\'s Backseat'],\n",
       " 'BTC': ['Bitcoin (BTC) may be in a bit of a lull lately, but Morgan Creek Capital CEO Mark Yusko reckons it still has all more potential than ever. He has predicted that the world’s largest cryptocurrency could reach a value of $250,000 in the next four or five years. Reports indicate that the founder and chief investment officer of Morgan Creek Capital Management equates bitcoin to gold. And his prediction that the cryptocurrency could hit the $250,000 mark in five years is based on that equivalence. More specifically, as “digital gold,” as Yusko refers to BTC, approaches gold’s monetary value of $4 trillion, it could designate the cryptocurrency a value of $250,000. Yusko believes that many investors underestimate BTC as simply a token of value. Whereas, in the CEO’s opinion, the cryptocurrency is much more than that. Appearing on CNBC’s Trading Nation, Yusko referred to BTC as “a powerful computing network that is going to become the base layer protocol for the Internet of Value.” A network that he lauded as the fastest in history to reach $1 trillion in value. The interview also gave Yusko time to dish praise and criticism on other cryptocurrencies. He said that ether (ETH) could be the “www.” or toolkit to build applications, which will then run on base-layer protocols like BTC. These comments came just as ETH hit an all-time high, surging above the $4,100 mark. Meanwhile, Yusko held the meme-inspired Dogecoin (DOGE) in far lower esteem, which he flatly called “a joke” when it was first mentioned in the interview. The CEO elaborated by saying that there were “thousands” of coins, including DOGE, that are “useless,” with “no underlying value.” Yusko joins the ranks of CEOs such as Mike Novogratz who have a poor opinion of DOGE, which is currently ranked the fifth most valuable cryptocurrency by market cap. It hit its own all-time high of $0.75 on May 8. It has been nearly four weeks since BTC hit its current all-time high. Back in the middle of April, BTC shot off to a record price of $64,854. Since then, it has fallen',\n",
       "  'Cryptocurrencies are soaring this year. Already, Bitcoin is up 98% to just over $57,000 as of the end of the day on Monday. That compares to a 30% gain by the S&P 500 Index during the same span. But Bitcoin\\'s big gain isn\\'t even close to the top return that can be found in the crypto world. In fact, the second-largest crypto is growing much faster. So far in 2021, Ethereum is up a staggering 434% to just over $4,000, according to Coindesk data. That four-times-higher growth also means that the No. 2 crypto (Ethereum) is making ground on No. 1 crypto (Bitcoin). As of the end of the day Monday, the market capitalization of Bitcoin—the combined value of all its digital coins—stands at $1.1 trillion. That’s compared to Ethereum\\'s nearly $500 billion market capitalization. Why is Ethereum gaining ground on Bitcoin? Some investors, such as Mark Cuban, are calling attention to Ethereum for its ability to process more transactions per second than Bitcoin. In the digital world, speed wins. Then again, the gains of both Bitcoin and Ethereum pale in comparison to that of Dogecoin, which is up over 10,000% this year. That has made Dogecoin the third-largest crypto, with a market cap of $64 billion. But can this 2021 run on crypto be sustained? Daniel Ives, managing director of equity research at Wedbush Securities, tells Fortune that there is \"clearly some froth\" in some crypto prices; however, he foresees the run continuing. \"We believe the crypto boom is still in the early innings of playing out for the next decade,\" Ives told Fortune. \"While regulatory goal posts need to put in place, we believe the use cases for crypto and transactions throughout the crypto universe are just starting to play out. From a pure demand perspective, we see crypto prices going higher, led by Bitcoin.\" This story was originally featured on Fortune.com Related Quotes It’s a mixed start to the day for the majors. A Bitcoin move through to $57,500 would support further upside for the broader market. If imitation is the most sincere form of flattery, then',\n",
       "  '(Bloomberg) -- Bitcoin’s stalled rally is stirring some bearishness among crypto watchers after the largest token dipped below its 50-day moving average. The token could test $40,000 if it conclusively drops below $50,000, and the $64,000 level is likely a short-term top, according to Pankaj Balani, the CEO of digital asset derivatives exchange Delta Exchange. He added that a decline to less than $50,000 will stoke volatility, and that all crypto assets -- including second-ranked Ether -- “should move lower.” For more articles like this, please visit us at bloomberg.com Subscribe now to stay ahead with the most trusted business news source. ©2021 Bloomberg L.P. Lupin‘s quest to rescue Assane’s kidnapped son will kick off when Part 2 premieres on Friday, June 11, Netflix announced on Tuesday. Additionally, the streamer released the above trailer for the French heist drama’s remaining five episodes. The series centers on Assane Diop (played by Omar Sy), whose childhood was turned upside down when his […] JPMorgan will step up the return of all of its employees in England to working at least part of their week in its offices from June 21st, according to a memo seen by Reuters on Tuesday.  The U.S. lender will still cap occupancy at 50% in its main London and Bournemouth hubs, it said, and the plans are dependent on there being no changes to government plans to ease remaining COVID-19 related restrictions.  \"We expect in the weeks that follow that June date, all employees in England will be in the office on a consistent schedule,\" the bank said. GBP/USD failed to settle above the resistance at 1.4150 and declined towards 1.4120. Stable Road has attracted more votes but remains 3% short of the 65% needed to approve an extension amendment Extension amendment must be approved by May 13 meeting to prevent SPAC from being dissolved Last chance to vote online is Wednesday, May 12 at 11:59 pm ET Investors show support for deal with stock trading […] (Bloomberg) -- Canada sold $3.5 billion of bonds in its largest sale in the U.S. dollar debt market in',\n",
       "  '(Bloomberg) -- Parabolic jumps in digital tokens such as Ether, Dogecoin and Binance Coin are outshining Bitcoin, prompting more questions about whether that segment of the cryptocurrency sector is ripe for a reckoning. The rallies have contributed to a slump in Bitcoin’s share of the $2.6 trillion crypto market to 43% from about 70% at the start of 2021, a metric that for strategists at JPMorgan Chase & Co. and DataTrek Research LLC may be a warning sign of investor excess in a range of digital tokens. Bitcoin’s waning dominance carries echoes of “froth” to the extent it’s being fueled “by a rally in other cryptocurrencies driven more by retail demand,” a JPMorgan team led by Nikolaos Panigirtzoglou wrote in a note Friday. DataTrek’s co-founder Nicholas Colas has indicated that history suggests tokens outside Bitcoin can drop “pretty quickly” when Bitcoin’s share hits 40%. Plenty of commentators have been fretting for some time that a stimulus-fueled peak is at hand in cryptocurrencies -- only to see them rally even more. But the worry is hard to shake in a sector that defies traditional investment analysis. The share of the largest cryptocurrency could be declining because investors are getting more comfortable with a wider array of tokens. Alternatively, retail traders may be chasing quick, speculative gains. “Even if you don’t invest in the space, this is worth tracking,” DataTrek’s Colas wrote in a recent note. He added that with more than $2 trillion now invested in virtual currencies, “a meaningful reset lower could also affect more traditional financial assets like equities.” For the JPMorgan team, the possible retail-driven froth in cryptocurrencies is a reminder of late 2017, when a crypto boom peaked. Ether Record Among the most notable moves in the crypto market Monday was Ether’s jump past $4,000 for the first time after a climb of more than 2,000% in the past year. The JPMorgan team said an analysis of activity on the affiliated Ethereum blockchain suggests a lower fair value of $1,000 for the token. Dogecoin -- which started as a joke in 2013 but is now a dominating',\n",
       "  '(Adds details on bitcoin, updates shares)\\xa0 \\xa0\\xa0May 11 (Reuters) - Palantir Technologies Inc, a Peter Thiel-backed U.S. analytics company, said on Tuesday it had started accepting bitcoin as payment from customers and was also considering investing in cryptocurrencies.\\xa0 \\xa0\\xa0This comes as the world\\'s biggest cyrptocurrency continues to gain acceptance across Wall Street with companies like Tesla Inc allowing customers to buy vehicles with bitcoin. The electric-car maker also bought $1.5 billion worth of bitcoin earlier this year, propelling its prices to record highs.\\xa0 \\xa0\\xa0Palantir, which beat first-quarter revenue after clinching large deals from government agencies and large corporations, saw its shares rise about 4% in volatile trading after falling more than 9% premarket.\\xa0 \\xa0\\xa0The company said it expects current-quarter revenue to rise 43% to $360 million. Analysts were expecting $344.31 million, according to IBES data from Refinitiv.\\xa0 \\xa0\\xa0Known mainly for its work with U.S. government defense and intelligence agencies including the U.S. Central Intelligence Agency, Palantir enables customers to integrate their data with its software platforms, which helps them get an analytical view of their operations.\\xa0 \\xa0\\xa0Palantir, co-founded in 2003 by billionaire Thiel who endorsed Donald Trump in the 2016 U.S. presidential elections, has courted its share of controversies with analysts and experts questioning its valuation and raising privacy concerns around the data the company has access to.\\xa0 \\xa0\\xa0The company\\'s revenue rose 49% to $341.2 million in the first quarter, above estimates of $332.23 million, according to IBES data from Refinitiv.\\xa0 \\xa0\\xa0Excluding items, the company earned a profit of 4 cents per share in line with analysts\\' expectations. (Reporting by Chavi Mehta in Bengaluru; Editing by Shinjini Ganguli)\\xa0 Related Quotes There is a lot of interest in Palantir Technologies  lately.  The company has gotten attention as news spread that fund manager Cathie Wood said her exchange-traded funds bought several million shares of the data-analytics company\\'s stock.  Following the results, Real Money\\'s Stephen \"Sarge\" Guilfoyle discussed how he is trading the stock here. When it comes to cryptocurrency, Bitcoin (CRYPTO: BTC) is the big name in town.  Since the beginning of the year, Ethereum\\'s price has soared',\n",
       "  'Bitcoin remains in a tight trading range between $56,400 and $59,700 as it begins to knock on the door of the major $60,000 level of resistance. The world’s largest cryptocurrency continues to trade much lower than April’s high of $65,000, which came in anticipation of Coinbase’s direct listing on Nasdaq. While Bitcoin has remained relitavely stable, the altcoin market has flourished with the likes of Ethereum more than doubling in 16 days. Typically, when Bitcoin trades in a sideways range while altcoins surge, profits will eventually be rotated back into Bitcoin causing pressure to the upside. BTCUSD chart by TradingView At the time of writing it is trading at $57,200, 4.81% down from its overnight high of $59,700 following a flurry of leveraged short orders near $60,000 on derivatives exchanges. If the $56,400 level of support breaks in the coming days we could well see downside price targets begin to emerge at $55,800 and $53,800, although it’s worth noting that the bullish structure of altcoins will definitely play in Bitcoin’s favour when it dips. For more news, guides and cryptocurrency analysis, click here. Current live BTC pricing information and interactive charts are available on our site 24 hours a day. The ticker bar at the bottom of every page on our site has the latest Bitcoin price. Pricing is also available in a range of different currency equivalents: US Dollar – BTCtoUSD British Pound Sterling – BTCtoGBP Japanese Yen – BTCtoJPY Euro – BTCtoEUR Australian Dollar – BTCtoAUD Russian Rouble – BTCtoRUB In August 2008, the domain name bitcoin.org was registered. On 31st October 2008, a paper was published called “Bitcoin: A Peer-to-Peer Electronic Cash System”. This was authored by Satoshi Nakamoto, the inventor of Bitcoin. To date, no one knows who this person, or people, are. The paper outlined a method of using a P2P network for electronic transactions without “relying on trust”. On January 3 2009, the Bitcoin network came into existence. Nakamoto mined block number “0” (or the “genesis block”), which had a reward of 50 Bitcoins. If you want to find out more information about Bitcoin',\n",
       "  'Cryptocurrencies were broadly higher on Wednesday, recovering some of the losses made on Tuesday. Ethereum (ETH-USD) hit a record high, at one point trading at $4,360 and breaking the $500bn market cap for the first time. At the time of writing it was up 4.7%, trading at $4,250. It had crossed the $4,000 mark over the weekend, but then slumped earlier this week, along with other cryptos, amid a sell-off.\\xa0 Bitcoin (BTC-USD) was up about 2.5%, trading at $57,173.86. “Ethereum\\'s minor retracement seems to be over again as the second biggest coin by market cap has made a new all-time today and the price continues to move higher,” said Naeem Aslam, chief market analyst at Ava Trade. Ethereum\\'s market cap makes it bigger than Visa (V) and JPMorgan (JPM). \"There\\'s no clearer sign that alternative currencies have cemented their position in the mainstream,\" said Jason Cozens, CEO of fintech Glint. \"Throughout the ongoing surge towards alternatives, consumers have made it clear that the incumbent system is no longer fit for purpose as they search for more value and control over how they spend and save their money.\" Meanwhile Dogecoin (DOGE-USD) was up 11%, trading at $ 0.5185. It had also fallen on Tuesday, but then pared its losses as Tesla (TSLA) CEO Elon Musk asked Twitter users if they would like to be able to buy the company’s products with the joke token. Some 3.9 million people had voted as the poll came to a close, with roughly 78% saying \"yes\". “Looking at the recent poll survey on Elon Musk\\'s tweet, it seems like consumers will be able to buy Tesla by using dogecoin,” said Aslam. “The massive rally in dogecoin that we have seen in the past few weeks has triggered a significant rally in other meme coins. We continue to see traders favour those coins which are under one dollar.\" Read more: FTSE 100 outperforms as UK GDP points to turnaround “For bitcoin, the challenge remains the same, and that is if the crypto king is going to come out of its ugly consolidation zone,” said Aslam. He',\n",
       "  \"It appears that Shark Tank investor Kevin O’Leary no longer thinks bitcoin (BTC-USD) is “garbage.” The chairman of O’Shares ETF told Yahoo Finance Live that he’s allocated 3% of his portfolio to the world’s largest cryptocurrency after his native Canada, and a handful of other countries, eased restrictions on institutional buying of the asset. O’Leary said he now views bitcoin as digital gold and a hedge against inflation that will appreciate over time, but he warns “there’s a big problem brewing” in the crypto space around how and where the coins are mined. “I don't own random ETFs with blood coin in them,” O’Leary said. “The industry has done a poor job in lobbying its case around sustainability.” Bitcoin mining is extremely energy intensive. A single transaction of bitcoin has the same carbon footprint as 680,000 Visa transactions or 51,210 hours of watching YouTube, according to the Cambridge Bitcoin Electricity Consumption Index. The Oak Ridge Institute in Ohio found that a dollar’s worth of bitcoin took 17 megajoules of energy, that’s more than double the amount of energy it took to mine a dollar’s worth of copper, gold and platinum. That poses serious ethical questions for corporations and governments looking to curb their own carbon footprints. “Currently 60% of coins mined in Bitcoin come from China where they don't care about sustainability and they certainly have issues around human rights,” O’Leary said. “The actual provenance of a coin over time, one that's mined sustainably, could be worth more than just a generic coin that can't prove its provenance.” When O’Leary announced in March that he would be adding bitcoin to his portfolio, he said he received “a mountain of calls” from institutional investors inquiring if he knew where the coins originated. O’Leary said he’s working to ensure every coin he owns is compliant. “I know the provenance of where my wallet coins were mined now, and that means I've had to take equity positions in miners. I've had to start investing in them with the covenants in place that I would like be paid back in a royalty of a\",\n",
       "  '(Bloomberg) -- Palantir Technologies Inc. expects sales to grow 43% in the second quarter, showing new distribution deals are putting its data analysis software into the hands of more customers. Revenue will reach $360 million in the period ending in June, the company said in a statement Tuesday. Shares gained 9.4% to close at $20.21 in New York. With more cash flowing in, the Denver-based company said it’s embracing a newer form of currency: Bitcoin. Palantir accepts customer payments in Bitcoin and is debating whether to use company cash to purchase the asset, Chief Financial Officer David Glazer said on a conference call with analysts. Such a move would follow similar ones by Square Inc. and Tesla Inc., which helped drive a surge in Bitcoin prices. The results provided some signs of encouragement after a prolonged slump for the company. At the close of trading Monday, the shares had reached their lowest point in almost six months, reflecting a sharp turn away from technology stocks by investors worldwide over concerns about inflation. Co-founders Peter Thiel and Alex Karp started Palantir with a focus on providing tools and consulting to the U.S. and allied governments. Palantir has overhauled its software in recent years to court more businesses and lower prices for customers. The company has placed a great deal of emphasis on growth, which shows in the results. In the first quarter, revenue increased 49% to $341 million, beating estimates. However, Palantir said compensation costs ballooned, contributing to a loss in the first quarter that was wider than expected. The loss was 7 cents a share as stock-based compensation more than tripled in the period that ended in March. Palantir said it signed 11 new commercial customers during the quarter and invested in two customers with long term potential: Sarcos Robotics and aviation startup Lilium. Chief Operating Officer Shyam Sankar said both companies built operations around Palantir’s Foundry software “from day zero.” “Manufacturing is a huge focus for us and one of deep strength,” he said. New customers, including Pacific Gas and Electric Co. and the U.S. National Nuclear Security Administration,',\n",
       "  \"Kevin Simpson, Founder and Chief Investment Officer of Capital Wealth Planning, joins Yahoo Finance Live to discuss outlook on cryptocurrency and the market. - All right, Jared, we don't want you to go anywhere, because we do want to continue this conversation on cryptocurrency but also the markets. We're joined now by Kevin Simpson, Founder and Chief Investment Officer at Capital Wealth Planning. Kevin, great to have you with us. So we just heard Jared talking about cryptocurrency. We've seen a lot of moves. And I think just about a year ago and even longer than that, I feel like so many people were shrugging off cryptocurrency as something that just a lot of millennials were purchasing, but not really anything that could be taken too seriously. And here now we're having serious conversations about a cryptocurrency that was originally based off of a meme. How are you approaching the cryptocurrency conversation? How do you think investors should be approaching cryptocurrency in their portfolio? Should they stick with perhaps a Bitcoin, or should we start seriously looking at something like a Dogecoin? KEVIN SIMPSON: Well, Kristin, great to see you. And I think that the conversation about the Dogecoin meme should be just that conversation only. I can't look at it as an investment. We are legitimizing some things that really were started out as a joke. I made a comment earlier this morning to one of my team members. I said the Dogecoin phenomena is making the 1636 tulip craze look legitimate. And I just can't get behind the Doge trade. Now, he responded and he's a millennial and really into this stuff. He said well, you're old and right now Bitcoin is old. It's all about Ethereum. And I thought, OK well, can you explain that to me? And he said Ethereum, not only being a cryptocurrency and breaking $4,000, it's also an application. It's a utility. It has blockchain value that really makes this legitimate. So even though we don't invest in cryptocurrency, we are absolutely paying attention to it. - So interesting that it seems like\"]}"
      ]
     },
     "execution_count": 68,
     "metadata": {},
     "output_type": "execute_result"
    }
   ],
   "source": [
    "articles = {ticker:scrape_and_process(cleaned_urls[ticker]) for ticker in monitored_tickers}\n",
    "articles"
   ]
  },
  {
   "cell_type": "code",
   "execution_count": 78,
   "id": "1af24113",
   "metadata": {},
   "outputs": [
    {
     "data": {
      "text/plain": [
       "10"
      ]
     },
     "execution_count": 78,
     "metadata": {},
     "output_type": "execute_result"
    }
   ],
   "source": [
    "len(articles['GME'])"
   ]
  },
  {
   "cell_type": "markdown",
   "id": "014b20a9",
   "metadata": {},
   "source": [
    "## Summarizing all articles now\n"
   ]
  },
  {
   "cell_type": "code",
   "execution_count": 79,
   "id": "b96db761",
   "metadata": {},
   "outputs": [],
   "source": [
    "def summarize(articles):\n",
    "    summaries = []\n",
    "    for article in articles:\n",
    "        input_ids = tokenizer.encode(article, return_tensors='pt')\n",
    "        output = model.generate(input_ids, max_length=55, num_beams=5, early_stopping=True)\n",
    "        summary = tokenizer.decode(output[0], skip_special_tokens=True)\n",
    "        summaries.append(summary)\n",
    "    return summaries"
   ]
  },
  {
   "cell_type": "code",
   "execution_count": 80,
   "id": "ef23d8cf",
   "metadata": {},
   "outputs": [
    {
     "data": {
      "text/plain": [
       "{'ETH': ['Ethereum’s 5th wave target zone has been reached. Daily EWP, RSI and Fibonacci-based target zone are shown.',\n",
       "  'Decentralised finance, also known as DeFi, is booming. Decentralised finance, also known as DeFi, is booming',\n",
       "  'Ethereum ends the week up by 33.07%, Litecoin up 44.30%.',\n",
       "  'Ethereum has gained more than 436% this year. Bitcoin has fallen below $20,000 for the first time since December',\n",
       "  'Second-largest crypto is up four-fold in 2021 vs. Bitcoin. Wedbush sees crypto boom playing out for next decade',\n",
       "  'Ether’s daily trading volume jumped to $2.7 billion in 2021.',\n",
       "  'Ethereum breaks $500bn market cap, up 4.7%. Tesla users vote on whether to use dogecoin',\n",
       "  'Digital asset has already soared more than 400% this year. Kaspar says network to adopt more efficient proof of stake model',\n",
       "  'Kevin Simpson, Founder and Chief Investment Officer at Capital Wealth Planning.',\n",
       "  'Digital asset is up more than 360% in 2021 vs. Bitcoin’s 100% gain this year.'],\n",
       " 'DOGE': ['Dogecoin is a decentralized cryptocurrency with a market cap of more than $1 billion. Musk’s props made it a household name',\n",
       "  'Dogecoin breaks back through 38.2% FIB of $0.4618 before ending the day at sub-$0.50 levels.',\n",
       "  'Tesla sold 25,845 vehicles in China in April, down 27% from March. Elon Musk asks his almost 54 million followers whether the company should accept Dogecoin',\n",
       "  'Largest single liquidation order was worth $12.07 million. Dogecoin’s value has plummeted since hitting an all-time high.',\n",
       "  '‘It’s a crypto that people actually use,’ bank spokesperson says. McMahon’s exit comes as the value of the cryptocurrency falls',\n",
       "  'Musk says Dogecoin ‘a hustle’ on Saturday Night Live. Welch says Musk still excited about mainstream adoption of crypto',\n",
       "  'I’m in agreement with the Shark Tank co-host. Dogecoin is just trying to be a useful application',\n",
       "  'Electric-car maker will accept the cryptocurrency. Musk called dogecoin a ‘hustle’ on Saturday Night Live',\n",
       "  'Dogecoin fell through 23.6% FIB of $0.5691, 38.2% FIB of $0.4618.',\n",
       "  'Musk’s Saturday Night Live appearance failed to boost prices. Dogecoin earlier this week became the fourth-most valued coin'],\n",
       " 'GME': ['Video games and esports booming globally, with massive growth coming from India, Latin America.',\n",
       "  'Kevin O’Leary says he has ‘ultimate respect’ for Munger. Trading app called a ‘mis platform’ by Buffett.',\n",
       "  'Options with high implied volatility suggest that investors in the underlying stocks are expecting a trade.',\n",
       "  'At the end of the fourth quarter, a total of 27 of the hedge funds held long positions in this stock.',\n",
       "  'Video game retailer is underperforming on the year so far.',\n",
       "  'Video game retailer is looking to extend its streak of beating earnings estimates.',\n",
       "  'Working with a financial advisor can help you buy GME stock.',\n",
       "  'Video game retailer has lost 5.92% over the past month.',\n",
       "  'Selling of 3.5 million shares through ‘at-the-market’ equity offering. Management plans to use the net proceeds toward accelerating transformation',\n",
       "  'We note that Congress held hearings, but we won’t be holding our breath. Elon Musk, Chamath Palihapitiya destabilized GME'],\n",
       " 'TSLA': ['Elon Musk’s electric vehicle maker is down more than 30% from highs.',\n",
       "  'Almost 80 per cent of respondents in a poll said yes. Musk’s proposal comes just a day after SpaceX announced a space mission',\n",
       "  'Tesla sold 25,845 vehicles in China in April, down 27% from March. Elon Musk asks his almost 54 million followers whether the company should accept Dogecoin',\n",
       "  'Musk also says ‘Smart Summon’ feature to be available in Europe by year-end.',\n",
       "  'European carmaker to comply with own standards. Tesla shares rise as much as 1.7% after news of Stellantis deal',\n",
       "  'First-quarter revenue came up slightly short of expectations. Adjusted earnings per share came in at 93 cents, beating estimates',\n",
       "  '‘ upward valuation pressure,’ Mester says. Apple, Tesla and Virgin Galactic tumble on Tuesday',\n",
       "  'Semi-autonomous driving system is under investigation in 24 accidents. Tesla had earlier considered expanding Model 3 exports to more markets',\n",
       "  'Electric car maker had gained 12.62% in the past month.',\n",
       "  'Musk said in January he was ‘highly confident’ car would be able to drive itself. Tesla has rolled out a ‘beta’ version of full self-driving technology'],\n",
       " 'BTC': ['Founder and chief investment officer of Morgan Creek Capital. He also called Dogecoin ‘useless’, ‘a joke’',\n",
       "  'Second-largest crypto is up four-fold in 2021 vs. Bitcoin. Wedbush sees crypto boom playing out for next decade',\n",
       "  'Netflix releases trailer for ‘Assane Diop’ Part 2. JPMorgan to step up return of employees to England from June 21',\n",
       "  'Rally in Ether, Dogecoin may be a sign of investor excess. Bitcoin’s share of crypto market has dropped to 43%',\n",
       "  'Analytics firm sees current-quarter revenue rising 43%. Shares rise about 4% after falling more than 9% premarket',\n",
       "  'Largest cryptocurrency continues to trade lower than April’s high. Ethereum has more than doubled in 16 days',\n",
       "  'Ethereum breaks $500bn market cap, up 4.7%. Tesla users vote on whether to use dogecoin',\n",
       "  '‘There’s a big problem brewing,’ O’Leary says. He’s allocated 3% of his portfolio to the asset',\n",
       "  'Palantir sees second-quarter sales climbing 43% to $360 million. First-quarter loss widens as compensation costs more than tripled',\n",
       "  'Kevin Simpson, Founder and Chief Investment Officer at Capital Wealth Planning.']}"
      ]
     },
     "execution_count": 80,
     "metadata": {},
     "output_type": "execute_result"
    }
   ],
   "source": [
    "summaries = {ticker:summarize(articles[ticker]) for ticker in monitored_tickers}\n",
    "summaries"
   ]
  },
  {
   "cell_type": "code",
   "execution_count": 82,
   "id": "7b269819",
   "metadata": {},
   "outputs": [
    {
     "data": {
      "text/plain": [
       "'The interest in Ethereum technology has never been higher. Ethereum is the second-largest public Blockchain network by both market capitalization and daily trading volume. It has already undergone remarkable development in its young history and continues to grow steadily. In 2020, an average of $231 million in ether was traded daily on spot exchanges. To start 2021, that number jumped to $2.7 billion. The interest has in part come from the acceleration of Decentralized Finance (Defi), a concept that focuses on blockchains and smart contracts rather than traditional financial intermediaries. It has also come from Ethereum layer 2 solutions – technology built on top of Ethereum that is highly scalable and efficient — and sizeable developments with stablecoins, which are mostly anchored on the Ethereum network. As such, the excitement and interest around Ether shows signs of growing acceptance and an appreciation of decentralization. Let’s look at three key reasons for the growing interest in this rapidly changing market: Blockchain Technology To start, there is global adoption and growing interest in blockchain technology. According to a report from Deloitte, 40% of surveyed companies planned to spend at least $5 million on blockchain projects in 2020, and 86% of U.S. companies surveyed built or are in the process of building blockchain teams. 55% of those surveyed said Blockchain was a top five strategic priority. This acceptance and investment is a broad sign that blockchain technology has become more trusted among those looking to use it to improve business processes or use it as a method for transactions. Ethereum has emerged as the most established cryptocurrency for these purposes due to its DeFi and scalability credentials. In addition, 2020 ushered in improvements in crypto market structure, thanks to growing involvement from spot exchanges and custodian projects, as well as enhanced security and regulation to the spot crypto market. Institutional Interest Second, more institutions are warming up to the idea of crypto, which increases demand. In the current macro environment, some may view crypto as a hedge against potential future inflation. Looking to futures markets, institutional demand has certainly helped drive bitcoin markets'"
      ]
     },
     "execution_count": 82,
     "metadata": {},
     "output_type": "execute_result"
    }
   ],
   "source": [
    "articles['ETH'][5]"
   ]
  },
  {
   "cell_type": "markdown",
   "id": "a2dd9d99",
   "metadata": {},
   "source": [
    "## Applying sentiment analysis to the summaries"
   ]
  },
  {
   "cell_type": "code",
   "execution_count": 83,
   "id": "a66fdf3f",
   "metadata": {},
   "outputs": [
    {
     "data": {
      "application/vnd.jupyter.widget-view+json": {
       "model_id": "ebef7c5931734bf6a923391bc5a34ddd",
       "version_major": 2,
       "version_minor": 0
      },
      "text/plain": [
       "Downloading:   0%|          | 0.00/629 [00:00<?, ?B/s]"
      ]
     },
     "metadata": {},
     "output_type": "display_data"
    },
    {
     "data": {
      "application/vnd.jupyter.widget-view+json": {
       "model_id": "27c65e51aeb94c35b7ea22b1d2e511c1",
       "version_major": 2,
       "version_minor": 0
      },
      "text/plain": [
       "Downloading:   0%|          | 0.00/268M [00:00<?, ?B/s]"
      ]
     },
     "metadata": {},
     "output_type": "display_data"
    },
    {
     "data": {
      "application/vnd.jupyter.widget-view+json": {
       "model_id": "48db0761123e4c468fbd7295fe7e3545",
       "version_major": 2,
       "version_minor": 0
      },
      "text/plain": [
       "Downloading:   0%|          | 0.00/232k [00:00<?, ?B/s]"
      ]
     },
     "metadata": {},
     "output_type": "display_data"
    },
    {
     "data": {
      "application/vnd.jupyter.widget-view+json": {
       "model_id": "75c34f7ef3f9403a9b46e67a4ebf8e14",
       "version_major": 2,
       "version_minor": 0
      },
      "text/plain": [
       "Downloading:   0%|          | 0.00/48.0 [00:00<?, ?B/s]"
      ]
     },
     "metadata": {},
     "output_type": "display_data"
    }
   ],
   "source": [
    "from transformers import pipeline\n",
    "sentiment = pipeline('sentiment-analysis')"
   ]
  },
  {
   "cell_type": "code",
   "execution_count": 94,
   "id": "1fa8cb5f",
   "metadata": {},
   "outputs": [
    {
     "data": {
      "text/plain": [
       "'Musk’s Saturday Night Live appearance failed to boost prices. Dogecoin earlier this week became the fourth-most valued coin'"
      ]
     },
     "execution_count": 94,
     "metadata": {},
     "output_type": "execute_result"
    }
   ],
   "source": [
    "summaries['DOGE'][9]"
   ]
  },
  {
   "cell_type": "code",
   "execution_count": 95,
   "id": "f0f7e9c1",
   "metadata": {},
   "outputs": [
    {
     "data": {
      "text/plain": [
       "[{'label': 'POSITIVE', 'score': 0.9952648878097534}]"
      ]
     },
     "execution_count": 95,
     "metadata": {},
     "output_type": "execute_result"
    }
   ],
   "source": [
    "sentiment(summaries['DOGE'][5])\n"
   ]
  },
  {
   "cell_type": "code",
   "execution_count": 98,
   "id": "11f6f46f",
   "metadata": {},
   "outputs": [
    {
     "data": {
      "text/plain": [
       "{'ETH': [{'label': 'POSITIVE', 'score': 0.8746117949485779},\n",
       "  {'label': 'POSITIVE', 'score': 0.9995632171630859},\n",
       "  {'label': 'NEGATIVE', 'score': 0.940664529800415},\n",
       "  {'label': 'NEGATIVE', 'score': 0.9982873797416687},\n",
       "  {'label': 'POSITIVE', 'score': 0.6359983086585999},\n",
       "  {'label': 'NEGATIVE', 'score': 0.6294976472854614},\n",
       "  {'label': 'NEGATIVE', 'score': 0.9836757779121399},\n",
       "  {'label': 'POSITIVE', 'score': 0.9961393475532532},\n",
       "  {'label': 'POSITIVE', 'score': 0.9861441850662231},\n",
       "  {'label': 'POSITIVE', 'score': 0.7988760471343994}],\n",
       " 'DOGE': [{'label': 'POSITIVE', 'score': 0.9960355758666992},\n",
       "  {'label': 'NEGATIVE', 'score': 0.9977243542671204},\n",
       "  {'label': 'NEGATIVE', 'score': 0.9915878176689148},\n",
       "  {'label': 'NEGATIVE', 'score': 0.9994978308677673},\n",
       "  {'label': 'NEGATIVE', 'score': 0.9996534585952759},\n",
       "  {'label': 'POSITIVE', 'score': 0.9952648878097534},\n",
       "  {'label': 'NEGATIVE', 'score': 0.9986428618431091},\n",
       "  {'label': 'POSITIVE', 'score': 0.834967851638794},\n",
       "  {'label': 'NEGATIVE', 'score': 0.9996721744537354},\n",
       "  {'label': 'NEGATIVE', 'score': 0.9995420575141907}],\n",
       " 'GME': [{'label': 'POSITIVE', 'score': 0.9996793270111084},\n",
       "  {'label': 'NEGATIVE', 'score': 0.8953806161880493},\n",
       "  {'label': 'NEGATIVE', 'score': 0.9916900396347046},\n",
       "  {'label': 'NEGATIVE', 'score': 0.5086382627487183},\n",
       "  {'label': 'NEGATIVE', 'score': 0.9929207563400269},\n",
       "  {'label': 'NEGATIVE', 'score': 0.948851466178894},\n",
       "  {'label': 'NEGATIVE', 'score': 0.7767366766929626},\n",
       "  {'label': 'NEGATIVE', 'score': 0.9996386170387268},\n",
       "  {'label': 'POSITIVE', 'score': 0.8377852439880371},\n",
       "  {'label': 'NEGATIVE', 'score': 0.9979476928710938}],\n",
       " 'TSLA': [{'label': 'NEGATIVE', 'score': 0.9996508359909058},\n",
       "  {'label': 'POSITIVE', 'score': 0.952097475528717},\n",
       "  {'label': 'NEGATIVE', 'score': 0.9915878176689148},\n",
       "  {'label': 'POSITIVE', 'score': 0.9966342449188232},\n",
       "  {'label': 'POSITIVE', 'score': 0.8017120957374573},\n",
       "  {'label': 'NEGATIVE', 'score': 0.9913241267204285},\n",
       "  {'label': 'NEGATIVE', 'score': 0.9695789217948914},\n",
       "  {'label': 'NEGATIVE', 'score': 0.99586021900177},\n",
       "  {'label': 'POSITIVE', 'score': 0.5346692800521851},\n",
       "  {'label': 'POSITIVE', 'score': 0.9354766607284546}],\n",
       " 'BTC': [{'label': 'NEGATIVE', 'score': 0.9993954300880432},\n",
       "  {'label': 'POSITIVE', 'score': 0.6359980702400208},\n",
       "  {'label': 'NEGATIVE', 'score': 0.8430758714675903},\n",
       "  {'label': 'NEGATIVE', 'score': 0.9991260170936584},\n",
       "  {'label': 'NEGATIVE', 'score': 0.6957322955131531},\n",
       "  {'label': 'NEGATIVE', 'score': 0.9988906979560852},\n",
       "  {'label': 'NEGATIVE', 'score': 0.9836757779121399},\n",
       "  {'label': 'NEGATIVE', 'score': 0.9923089742660522},\n",
       "  {'label': 'NEGATIVE', 'score': 0.9975593686103821},\n",
       "  {'label': 'POSITIVE', 'score': 0.9861441850662231}]}"
      ]
     },
     "execution_count": 98,
     "metadata": {},
     "output_type": "execute_result"
    }
   ],
   "source": [
    "scores = {ticker:sentiment(summaries[ticker]) for ticker in monitored_tickers}\n",
    "scores"
   ]
  },
  {
   "cell_type": "code",
   "execution_count": 99,
   "id": "f48a674a",
   "metadata": {},
   "outputs": [],
   "source": [
    "def create_output_array(summaries, scores, urls):\n",
    "    output = []\n",
    "    for ticker in monitored_tickers:\n",
    "        for counter in range(len(summaries[ticker])):\n",
    "            output_this = [\n",
    "                ticker,\n",
    "                summaries[ticker][counter],\n",
    "                scores[ticker][counter]['label'],\n",
    "                scores[ticker][counter]['score'],\n",
    "                urls[ticker][counter]\n",
    "            ]\n",
    "            output.append(output_this)\n",
    "    return output"
   ]
  },
  {
   "cell_type": "code",
   "execution_count": 100,
   "id": "e4c3e4be",
   "metadata": {},
   "outputs": [
    {
     "data": {
      "text/plain": [
       "[['ETH',\n",
       "  'Ethereum’s 5th wave target zone has been reached. Daily EWP, RSI and Fibonacci-based target zone are shown.',\n",
       "  'POSITIVE',\n",
       "  0.8746117949485779,\n",
       "  'https://finance.yahoo.com/news/ethereum-high-fly-183347298.html'],\n",
       " ['ETH',\n",
       "  'Decentralised finance, also known as DeFi, is booming. Decentralised finance, also known as DeFi, is booming',\n",
       "  'POSITIVE',\n",
       "  0.9995632171630859,\n",
       "  'https://uk.finance.yahoo.com/news/bitcoin-ethereum-blockchain-cryptocurrencies-decentralised-finance-what-is-de-fi-102623503.html'],\n",
       " ['ETH',\n",
       "  'Ethereum ends the week up by 33.07%, Litecoin up 44.30%.',\n",
       "  'NEGATIVE',\n",
       "  0.940664529800415,\n",
       "  'https://finance.yahoo.com/news/ethereum-litecoin-ripple-xrp-daily-003743827.html'],\n",
       " ['ETH',\n",
       "  'Ethereum has gained more than 436% this year. Bitcoin has fallen below $20,000 for the first time since December',\n",
       "  'NEGATIVE',\n",
       "  0.9982873797416687,\n",
       "  'https://finance.yahoo.com/video/ethereum-surpasses-4-000-amid-155027064.html'],\n",
       " ['ETH',\n",
       "  'Second-largest crypto is up four-fold in 2021 vs. Bitcoin. Wedbush sees crypto boom playing out for next decade',\n",
       "  'POSITIVE',\n",
       "  0.6359983086585999,\n",
       "  'https://finance.yahoo.com/news/bitcoin-vs-ethereum-crypto-better-003034363.html'],\n",
       " ['ETH',\n",
       "  'Ether’s daily trading volume jumped to $2.7 billion in 2021.',\n",
       "  'NEGATIVE',\n",
       "  0.6294976472854614,\n",
       "  'https://finance.yahoo.com/news/why-ethereum-rise-143638663.html'],\n",
       " ['ETH',\n",
       "  'Ethereum breaks $500bn market cap, up 4.7%. Tesla users vote on whether to use dogecoin',\n",
       "  'NEGATIVE',\n",
       "  0.9836757779121399,\n",
       "  'https://finance.yahoo.com/news/bitcoin-ethereum-dogecoin-elon-musk-cryptocurrencies-prices-12-may-083700636.html'],\n",
       " ['ETH',\n",
       "  'Digital asset has already soared more than 400% this year. Kaspar says network to adopt more efficient proof of stake model',\n",
       "  'POSITIVE',\n",
       "  0.9961393475532532,\n",
       "  'https://finance.yahoo.com/news/crypto-analyst-who-nailed-ethereum-climb-says-10000-is-next-204306727.html'],\n",
       " ['ETH',\n",
       "  'Kevin Simpson, Founder and Chief Investment Officer at Capital Wealth Planning.',\n",
       "  'POSITIVE',\n",
       "  0.9861441850662231,\n",
       "  'https://finance.yahoo.com/video/ethereum-won-t-put-bitcoin-173325638.html'],\n",
       " ['ETH',\n",
       "  'Digital asset is up more than 360% in 2021 vs. Bitcoin’s 100% gain this year.',\n",
       "  'POSITIVE',\n",
       "  0.7988760471343994,\n",
       "  'https://finance.yahoo.com/news/two-very-real-reasons-ethereum-162354486.html'],\n",
       " ['DOGE',\n",
       "  'Dogecoin is a decentralized cryptocurrency with a market cap of more than $1 billion. Musk’s props made it a household name',\n",
       "  'POSITIVE',\n",
       "  0.9960355758666992,\n",
       "  'https://finance.yahoo.com/news/dogecoin-major-price-increase-still-210021032.html'],\n",
       " ['DOGE',\n",
       "  'Dogecoin breaks back through 38.2% FIB of $0.4618 before ending the day at sub-$0.50 levels.',\n",
       "  'NEGATIVE',\n",
       "  0.9977243542671204,\n",
       "  'https://finance.yahoo.com/news/dogecoin-daily-tech-analysis-may-011522212.html'],\n",
       " ['DOGE',\n",
       "  'Tesla sold 25,845 vehicles in China in April, down 27% from March. Elon Musk asks his almost 54 million followers whether the company should accept Dogecoin',\n",
       "  'NEGATIVE',\n",
       "  0.9915878176689148,\n",
       "  'https://finance.yahoo.com/news/tesla-falls-china-sales-dip-101523920.html'],\n",
       " ['DOGE',\n",
       "  'Largest single liquidation order was worth $12.07 million. Dogecoin’s value has plummeted since hitting an all-time high.',\n",
       "  'NEGATIVE',\n",
       "  0.9994978308677673,\n",
       "  'https://finance.yahoo.com/news/doge-leads-liquidations-280-million-133800751.html'],\n",
       " ['DOGE',\n",
       "  '‘It’s a crypto that people actually use,’ bank spokesperson says. McMahon’s exit comes as the value of the cryptocurrency falls',\n",
       "  'NEGATIVE',\n",
       "  0.9996534585952759,\n",
       "  'https://finance.yahoo.com/news/goldman-sachs-director-reportedly-quits-151816315.html'],\n",
       " ['DOGE',\n",
       "  'Musk says Dogecoin ‘a hustle’ on Saturday Night Live. Welch says Musk still excited about mainstream adoption of crypto',\n",
       "  'POSITIVE',\n",
       "  0.9952648878097534,\n",
       "  'https://finance.yahoo.com/video/dogecoin-sinks-elon-musk-calls-213723463.html'],\n",
       " ['DOGE',\n",
       "  'I’m in agreement with the Shark Tank co-host. Dogecoin is just trying to be a useful application',\n",
       "  'NEGATIVE',\n",
       "  0.9986428618431091,\n",
       "  'https://finance.yahoo.com/news/comes-dogecoin-mark-cuban-real-161651314.html'],\n",
       " ['DOGE',\n",
       "  'Electric-car maker will accept the cryptocurrency. Musk called dogecoin a ‘hustle’ on Saturday Night Live',\n",
       "  'POSITIVE',\n",
       "  0.834967851638794,\n",
       "  'https://finance.yahoo.com/news/want-tesla-accept-doge-musk-082820591.html'],\n",
       " ['DOGE',\n",
       "  'Dogecoin fell through 23.6% FIB of $0.5691, 38.2% FIB of $0.4618.',\n",
       "  'NEGATIVE',\n",
       "  0.9996721744537354,\n",
       "  'https://finance.yahoo.com/news/dogecoin-daily-tech-analysis-may-005746352.html'],\n",
       " ['DOGE',\n",
       "  'Musk’s Saturday Night Live appearance failed to boost prices. Dogecoin earlier this week became the fourth-most valued coin',\n",
       "  'NEGATIVE',\n",
       "  0.9995420575141907,\n",
       "  'https://finance.yahoo.com/news/dogecoin-elon-musk-snl-cryptocurrency-bitcoin-ethereum-boe-andrew-bailey-091558489.html'],\n",
       " ['GME',\n",
       "  'Video games and esports booming globally, with massive growth coming from India, Latin America.',\n",
       "  'POSITIVE',\n",
       "  0.9996793270111084,\n",
       "  'https://finance.yahoo.com/news/ceo-gamestop-electronic-arts-ese-123600125.html'],\n",
       " ['GME',\n",
       "  'Kevin O’Leary says he has ‘ultimate respect’ for Munger. Trading app called a ‘mis platform’ by Buffett.',\n",
       "  'NEGATIVE',\n",
       "  0.8953806161880493,\n",
       "  'https://finance.yahoo.com/news/robinhood-is-a-misunderstood-platform-kevin-o-leary-163537524.html'],\n",
       " ['GME',\n",
       "  'Options with high implied volatility suggest that investors in the underlying stocks are expecting a trade.',\n",
       "  'NEGATIVE',\n",
       "  0.9916900396347046,\n",
       "  'https://finance.yahoo.com/news/options-traders-know-something-gamestop-123012232.html'],\n",
       " ['GME',\n",
       "  'At the end of the fourth quarter, a total of 27 of the hedge funds held long positions in this stock.',\n",
       "  'NEGATIVE',\n",
       "  0.5086382627487183,\n",
       "  'https://finance.yahoo.com/news/gme-stock-buy-sell-195934253.html'],\n",
       " ['GME',\n",
       "  'Video game retailer is underperforming on the year so far.',\n",
       "  'NEGATIVE',\n",
       "  0.9929207563400269,\n",
       "  'https://finance.yahoo.com/news/gamestop-gme-gains-lags-market-214509120.html'],\n",
       " ['GME',\n",
       "  'Video game retailer is looking to extend its streak of beating earnings estimates.',\n",
       "  'NEGATIVE',\n",
       "  0.948851466178894,\n",
       "  'https://finance.yahoo.com/news/why-gamestop-gme-could-beat-161004533.html'],\n",
       " ['GME',\n",
       "  'Working with a financial advisor can help you buy GME stock.',\n",
       "  'NEGATIVE',\n",
       "  0.7767366766929626,\n",
       "  'https://finance.yahoo.com/news/buy-gme-stock-180626146.html'],\n",
       " ['GME',\n",
       "  'Video game retailer has lost 5.92% over the past month.',\n",
       "  'NEGATIVE',\n",
       "  0.9996386170387268,\n",
       "  'https://finance.yahoo.com/news/gamestop-gme-stock-sinks-market-214509526.html'],\n",
       " ['GME',\n",
       "  'Selling of 3.5 million shares through ‘at-the-market’ equity offering. Management plans to use the net proceeds toward accelerating transformation',\n",
       "  'POSITIVE',\n",
       "  0.8377852439880371,\n",
       "  'https://finance.yahoo.com/news/gamestop-gme-raises-551m-speeds-130601819.html'],\n",
       " ['GME',\n",
       "  'We note that Congress held hearings, but we won’t be holding our breath. Elon Musk, Chamath Palihapitiya destabilized GME',\n",
       "  'NEGATIVE',\n",
       "  0.9979476928710938,\n",
       "  'https://finance.yahoo.com/news/david-einhorn-blames-gme-short-165316782.html'],\n",
       " ['TSLA',\n",
       "  'Elon Musk’s electric vehicle maker is down more than 30% from highs.',\n",
       "  'NEGATIVE',\n",
       "  0.9996508359909058,\n",
       "  'https://finance.yahoo.com/news/why-shares-tesla-down-10-151153766.html'],\n",
       " ['TSLA',\n",
       "  'Almost 80 per cent of respondents in a poll said yes. Musk’s proposal comes just a day after SpaceX announced a space mission',\n",
       "  'POSITIVE',\n",
       "  0.952097475528717,\n",
       "  'https://finance.yahoo.com/news/dogecoin-elon-musk-asks-twitter-082417594.html'],\n",
       " ['TSLA',\n",
       "  'Tesla sold 25,845 vehicles in China in April, down 27% from March. Elon Musk asks his almost 54 million followers whether the company should accept Dogecoin',\n",
       "  'NEGATIVE',\n",
       "  0.9915878176689148,\n",
       "  'https://finance.yahoo.com/news/tesla-falls-china-sales-dip-101523920.html'],\n",
       " ['TSLA',\n",
       "  'Musk also says ‘Smart Summon’ feature to be available in Europe by year-end.',\n",
       "  'POSITIVE',\n",
       "  0.9966342449188232,\n",
       "  'https://finance.yahoo.com/news/tesla-roll-improved-self-driving-124615278.html'],\n",
       " ['TSLA',\n",
       "  'European carmaker to comply with own standards. Tesla shares rise as much as 1.7% after news of Stellantis deal',\n",
       "  'POSITIVE',\n",
       "  0.8017120957374573,\n",
       "  'https://finance.yahoo.com/news/tesla-lose-source-revenue-pivotal-101719587.html'],\n",
       " ['TSLA',\n",
       "  'First-quarter revenue came up slightly short of expectations. Adjusted earnings per share came in at 93 cents, beating estimates',\n",
       "  'NEGATIVE',\n",
       "  0.9913241267204285,\n",
       "  'https://finance.yahoo.com/news/tesla-reports-q1-2021-earnings-results-124505076.html'],\n",
       " ['TSLA',\n",
       "  '‘ upward valuation pressure,’ Mester says. Apple, Tesla and Virgin Galactic tumble on Tuesday',\n",
       "  'NEGATIVE',\n",
       "  0.9695789217948914,\n",
       "  'https://finance.yahoo.com/news/tech-stocks-get-pounded-here-are-the-simplest-reasons-why-164339559.html'],\n",
       " ['TSLA',\n",
       "  'Semi-autonomous driving system is under investigation in 24 accidents. Tesla had earlier considered expanding Model 3 exports to more markets',\n",
       "  'NEGATIVE',\n",
       "  0.99586021900177,\n",
       "  'https://finance.yahoo.com/news/california-police-investigating-fatal-tesla-004902800.html'],\n",
       " ['TSLA',\n",
       "  'Electric car maker had gained 12.62% in the past month.',\n",
       "  'POSITIVE',\n",
       "  0.5346692800521851,\n",
       "  'https://finance.yahoo.com/news/tesla-tsla-gains-lags-market-214509336.html'],\n",
       " ['TSLA',\n",
       "  'Musk said in January he was ‘highly confident’ car would be able to drive itself. Tesla has rolled out a ‘beta’ version of full self-driving technology',\n",
       "  'POSITIVE',\n",
       "  0.9354766607284546,\n",
       "  'https://finance.yahoo.com/news/tesla-tells-regulator-full-self-034220220.html'],\n",
       " ['BTC',\n",
       "  'Founder and chief investment officer of Morgan Creek Capital. He also called Dogecoin ‘useless’, ‘a joke’',\n",
       "  'NEGATIVE',\n",
       "  0.9993954300880432,\n",
       "  'https://finance.yahoo.com/news/morgan-creek-ceo-bitcoin-could-133000349.html'],\n",
       " ['BTC',\n",
       "  'Second-largest crypto is up four-fold in 2021 vs. Bitcoin. Wedbush sees crypto boom playing out for next decade',\n",
       "  'POSITIVE',\n",
       "  0.6359980702400208,\n",
       "  'https://finance.yahoo.com/news/bitcoin-vs-ethereum-crypto-better-003034363.html'],\n",
       " ['BTC',\n",
       "  'Netflix releases trailer for ‘Assane Diop’ Part 2. JPMorgan to step up return of employees to England from June 21',\n",
       "  'NEGATIVE',\n",
       "  0.8430758714675903,\n",
       "  'https://finance.yahoo.com/news/stalled-bitcoin-rally-opens-door-035647758.html'],\n",
       " ['BTC',\n",
       "  'Rally in Ether, Dogecoin may be a sign of investor excess. Bitcoin’s share of crypto market has dropped to 43%',\n",
       "  'NEGATIVE',\n",
       "  0.9991260170936584,\n",
       "  'https://finance.yahoo.com/news/bitcoin-waning-dominance-stirs-warning-082655608.html'],\n",
       " ['BTC',\n",
       "  'Analytics firm sees current-quarter revenue rising 43%. Shares rise about 4% after falling more than 9% premarket',\n",
       "  'NEGATIVE',\n",
       "  0.6957322955131531,\n",
       "  'https://finance.yahoo.com/news/3-palantir-allows-payments-bitcoin-151308700.html'],\n",
       " ['BTC',\n",
       "  'Largest cryptocurrency continues to trade lower than April’s high. Ethereum has more than doubled in 16 days',\n",
       "  'NEGATIVE',\n",
       "  0.9988906979560852,\n",
       "  'https://finance.yahoo.com/news/latest-bitcoin-price-analysis-btc-151236188.html'],\n",
       " ['BTC',\n",
       "  'Ethereum breaks $500bn market cap, up 4.7%. Tesla users vote on whether to use dogecoin',\n",
       "  'NEGATIVE',\n",
       "  0.9836757779121399,\n",
       "  'https://finance.yahoo.com/news/bitcoin-ethereum-dogecoin-elon-musk-cryptocurrencies-prices-12-may-083700636.html'],\n",
       " ['BTC',\n",
       "  '‘There’s a big problem brewing,’ O’Leary says. He’s allocated 3% of his portfolio to the asset',\n",
       "  'NEGATIVE',\n",
       "  0.9923089742660522,\n",
       "  'https://finance.yahoo.com/news/kevin-o-leary-on-cryptocurrency-i-dont-own-random-et-fs-with-blood-coin-in-them-151220436.html'],\n",
       " ['BTC',\n",
       "  'Palantir sees second-quarter sales climbing 43% to $360 million. First-quarter loss widens as compensation costs more than tripled',\n",
       "  'NEGATIVE',\n",
       "  0.9975593686103821,\n",
       "  'https://finance.yahoo.com/news/palantir-rallies-sales-forecast-embrace-221803926.html'],\n",
       " ['BTC',\n",
       "  'Kevin Simpson, Founder and Chief Investment Officer at Capital Wealth Planning.',\n",
       "  'POSITIVE',\n",
       "  0.9861441850662231,\n",
       "  'https://finance.yahoo.com/video/ethereum-won-t-put-bitcoin-173325638.html']]"
      ]
     },
     "execution_count": 100,
     "metadata": {},
     "output_type": "execute_result"
    }
   ],
   "source": [
    "final_output = create_output_array(summaries, scores, cleaned_urls)\n",
    "final_output"
   ]
  },
  {
   "cell_type": "code",
   "execution_count": 101,
   "id": "f28bc330",
   "metadata": {},
   "outputs": [],
   "source": [
    "import csv\n",
    "with open('assetsummaries.csv', mode='w', newline='') as f:\n",
    "    csv_writer = csv.writer(f, delimiter=',', quotechar='\"', quoting=csv.QUOTE_MINIMAL)\n",
    "    csv_writer.writerows(final_output)"
   ]
  },
  {
   "cell_type": "code",
   "execution_count": null,
   "id": "ac4140b9",
   "metadata": {},
   "outputs": [],
   "source": []
  }
 ],
 "metadata": {
  "kernelspec": {
   "display_name": "Python 3",
   "language": "python",
   "name": "python3"
  },
  "language_info": {
   "codemirror_mode": {
    "name": "ipython",
    "version": 3
   },
   "file_extension": ".py",
   "mimetype": "text/x-python",
   "name": "python",
   "nbconvert_exporter": "python",
   "pygments_lexer": "ipython3",
   "version": "3.8.8"
  }
 },
 "nbformat": 4,
 "nbformat_minor": 5
}
